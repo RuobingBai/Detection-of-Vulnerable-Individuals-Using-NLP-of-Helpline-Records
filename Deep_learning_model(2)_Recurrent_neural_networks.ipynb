{
  "nbformat": 4,
  "nbformat_minor": 0,
  "metadata": {
    "colab": {
      "name": "Deep learning model(2)_Recurrent neural networks.ipynb",
      "provenance": [],
      "collapsed_sections": [],
      "authorship_tag": "ABX9TyOoxQvv9bV/eFeX+p/4P8aq",
      "include_colab_link": true
    },
    "kernelspec": {
      "display_name": "Python 3",
      "name": "python3"
    },
    "language_info": {
      "name": "python"
    }
  },
  "cells": [
    {
      "cell_type": "markdown",
      "metadata": {
        "id": "view-in-github",
        "colab_type": "text"
      },
      "source": [
        "<a href=\"https://colab.research.google.com/github/RuobingBai/Detection-of-Vulnerable-Individuals-Using-NLP-of-Helpline-Records/blob/main/Deep_learning_model(2)_Recurrent_neural_networks.ipynb\" target=\"_parent\"><img src=\"https://colab.research.google.com/assets/colab-badge.svg\" alt=\"Open In Colab\"/></a>"
      ]
    },
    {
      "cell_type": "markdown",
      "metadata": {
        "id": "inUuSOeRmmkX"
      },
      "source": [
        "### ***2.5 Recurrent Neural Networks***"
      ]
    },
    {
      "cell_type": "markdown",
      "metadata": {
        "id": "W0VAdk_inXX4"
      },
      "source": [
        "## **Load Packages**"
      ]
    },
    {
      "cell_type": "code",
      "metadata": {
        "id": "JRPBTGotAOHT"
      },
      "source": [
        "# !pip install -U tensorflow==2.2 as tf"
      ],
      "execution_count": null,
      "outputs": []
    },
    {
      "cell_type": "code",
      "metadata": {
        "colab": {
          "base_uri": "https://localhost:8080/"
        },
        "id": "94CIMzvhAgOZ",
        "outputId": "95a77ed5-a0c3-4a34-d4ed-f5b61e687233"
      },
      "source": [
        "from tensorflow import keras\n",
        "from tensorflow.keras import layers\n",
        "from tensorflow.keras.models import Sequential\n",
        "# Use Tokenizer to vectorize a text corpus into a list of integers\n",
        "from tensorflow.keras.preprocessing.text import Tokenizer\n",
        "from tensorflow.keras.preprocessing import image\n",
        "from tensorflow.keras.preprocessing.sequence import pad_sequences\n",
        "! pip install imblearn\n",
        "! pip install delayed\n",
        "from imblearn.over_sampling import SMOTE\n",
        "from sklearn.model_selection import train_test_split\n",
        "import pandas as pd\n",
        "import numpy as np\n",
        "from collections import Counter\n",
        "from sklearn import metrics\n",
        "from sklearn.metrics import precision_score,recall_score, roc_curve, roc_auc_score\n",
        "import matplotlib.pyplot as plt\n",
        "from sklearn.metrics import accuracy_score, precision_score, recall_score, f1_score\n",
        "\n",
        "from tensorflow.keras.layers import SimpleRNN, Dense, MaxPooling1D, LSTM"
      ],
      "execution_count": null,
      "outputs": [
        {
          "output_type": "stream",
          "text": [
            "Requirement already satisfied: imblearn in /usr/local/lib/python3.7/dist-packages (0.0)\n",
            "Requirement already satisfied: imbalanced-learn in /usr/local/lib/python3.7/dist-packages (from imblearn) (0.4.3)\n",
            "Requirement already satisfied: scikit-learn>=0.20 in /usr/local/lib/python3.7/dist-packages (from imbalanced-learn->imblearn) (0.22.2.post1)\n",
            "Requirement already satisfied: numpy>=1.8.2 in /usr/local/lib/python3.7/dist-packages (from imbalanced-learn->imblearn) (1.19.5)\n",
            "Requirement already satisfied: scipy>=0.13.3 in /usr/local/lib/python3.7/dist-packages (from imbalanced-learn->imblearn) (1.4.1)\n",
            "Requirement already satisfied: joblib>=0.11 in /usr/local/lib/python3.7/dist-packages (from scikit-learn>=0.20->imbalanced-learn->imblearn) (1.0.1)\n",
            "Requirement already satisfied: delayed in /usr/local/lib/python3.7/dist-packages (0.11.0b1)\n",
            "Requirement already satisfied: hiredis in /usr/local/lib/python3.7/dist-packages (from delayed) (2.0.0)\n",
            "Requirement already satisfied: redis in /usr/local/lib/python3.7/dist-packages (from delayed) (3.5.3)\n"
          ],
          "name": "stdout"
        }
      ]
    },
    {
      "cell_type": "code",
      "metadata": {
        "id": "5LDURlB2Xj72"
      },
      "source": [
        "# Set up for where to save the figures\n",
        "import os\n",
        "PROJECT_ROOT_DIR = \"figures\"\n",
        "IMAGES_PATH = os.path.join(PROJECT_ROOT_DIR)\n",
        "def save_fig(fig_id, tight_layout=True, fig_extension=\"png\", resolution=300):\n",
        "  path = os.path.join(IMAGES_PATH, fig_id + \".\" + fig_extension)\n",
        "  print(\"Saving figure\", fig_id)\n",
        "  if tight_layout:\n",
        "    plt.tight_layout()\n",
        "    plt.savefig(path, format=fig_extension, dpi=resolution)"
      ],
      "execution_count": null,
      "outputs": []
    },
    {
      "cell_type": "markdown",
      "metadata": {
        "id": "_Mdikoo9AixK"
      },
      "source": [
        "## **Load Cleaned Data**"
      ]
    },
    {
      "cell_type": "code",
      "metadata": {
        "colab": {
          "base_uri": "https://localhost:8080/"
        },
        "id": "LIGkWn_ZAlyw",
        "outputId": "5190b9dc-30ef-41fa-8905-425ba1f87189"
      },
      "source": [
        "import time\n",
        "start = time.time()\n",
        "#read data in chunks of 1 million rows at a time\n",
        "chunk = pd.read_csv('Cleaned.csv',chunksize=1000000)\n",
        "end = time.time()\n",
        "print(\"Read csv with chunks: \",(end-start),\"sec\")\n",
        "data = pd.concat(chunk)"
      ],
      "execution_count": null,
      "outputs": [
        {
          "output_type": "stream",
          "text": [
            "Read csv with chunks:  0.011981725692749023 sec\n"
          ],
          "name": "stdout"
        }
      ]
    },
    {
      "cell_type": "code",
      "metadata": {
        "id": "tfxebYjMAz0F"
      },
      "source": [
        "data1 = data.dropna(subset = [\"Description\"])"
      ],
      "execution_count": null,
      "outputs": []
    },
    {
      "cell_type": "code",
      "metadata": {
        "id": "zef588ZZBNGG"
      },
      "source": [
        "# We just re-do sentence_train, sentence_test, y_train, y_test from train_test_split\n",
        "\n",
        "sentences = data1['lemma_str'].values\n",
        "y = data1['Break Confidentiality?'].values\n",
        "\n",
        "# Split into train and validation set\n",
        "sentence_train, sentence_test, y_train, y_test = train_test_split(sentences, y, test_size=0.2, random_state=0, stratify=y)"
      ],
      "execution_count": null,
      "outputs": []
    },
    {
      "cell_type": "code",
      "metadata": {
        "colab": {
          "base_uri": "https://localhost:8080/"
        },
        "id": "EKOkwu7IA6m1",
        "outputId": "0d88e175-16c0-437c-dcd3-1df3d27feb4e"
      },
      "source": [
        "# num_words: setting the size of the vocabulary\n",
        "## Perhaps here i should add oov_token=\"<OOV>\" to represent words not shown up in the word index generated from training dataset\n",
        "tokenizer = Tokenizer(num_words=5000, oov_token='OOV')\n",
        "tokenizer.fit_on_texts(sentence_train)\n",
        "\n",
        "sentence_train = tokenizer.texts_to_sequences(sentence_train)\n",
        "sentence_test = tokenizer.texts_to_sequences(sentence_test)\n",
        "\n",
        "vocab_size = len(tokenizer.word_index) + 1  # Adding 1 because of reserved 0 index\n",
        "\n",
        "print(sentence_train[2])"
      ],
      "execution_count": null,
      "outputs": [
        {
          "output_type": "stream",
          "text": [
            "[57, 3, 726, 4333, 24, 3, 74, 1, 1216, 146, 56, 113, 24, 177, 578, 123, 129, 150, 29, 246, 376, 3, 92, 222, 53, 18, 29, 34, 14, 311, 194, 84, 34, 14, 16, 215, 141, 32, 310, 531, 14, 86, 311, 890, 664, 34, 14, 12, 317, 181, 103, 61, 862, 48, 664, 606, 14, 1989, 181, 29, 3, 929, 26, 5, 123, 129, 12, 1, 8, 153]\n"
          ],
          "name": "stdout"
        }
      ]
    },
    {
      "cell_type": "code",
      "metadata": {
        "colab": {
          "base_uri": "https://localhost:8080/"
        },
        "id": "AGl-W7pgXu5G",
        "outputId": "f57f1acd-4e39-41d7-b0bd-b91e0158c4fc"
      },
      "source": [
        "maxlen = 100 # it is the desired length of sentence you want to keep align with\n",
        "sentence_train = pad_sequences(sentence_train, padding='post', maxlen=maxlen)\n",
        "sentence_test = pad_sequences(sentence_test, padding='post', maxlen=maxlen)\n",
        "\n",
        "print(sentence_train[0, :])"
      ],
      "execution_count": null,
      "outputs": [
        {
          "output_type": "stream",
          "text": [
            "[   6   39  199    2   97    4   13   12   18   12  876  152  147   33\n",
            "   11   33   82   49   16   21   22   46    5  270    2   43   48   46\n",
            "   27   71    6   32  166   71   67   63   80  203  152  140  123  129\n",
            "    2   36  198   59   59   38  154 1379 1277   54 3462   43   48   46\n",
            "  116   20   71    6   80  523  280  150   23   36   50  198  115   96\n",
            "   28   85   38    1   27   54   22 2080    2   43   48  115   48   37\n",
            "   27   32   67   63   20   36  158   62   28   28   38  154  130   62\n",
            "   43    6]\n"
          ],
          "name": "stdout"
        }
      ]
    },
    {
      "cell_type": "code",
      "metadata": {
        "colab": {
          "base_uri": "https://localhost:8080/"
        },
        "id": "Lydz_rEch_-i",
        "outputId": "846cb24d-f943-4d10-8938-85a921abc321"
      },
      "source": [
        "# Smooth the unbalanced data\n",
        "smo = SMOTE()\n",
        "\n",
        "# Only need to balance the training data\n",
        "x_train, y_train = smo.fit_resample(sentence_train, y_train)\n",
        "\n",
        "# Check again the balance of dataset\n",
        "print('Counter(y_train)\\n',Counter(y_train)) # Employ Counter()"
      ],
      "execution_count": null,
      "outputs": [
        {
          "output_type": "stream",
          "text": [
            "Counter(y_train)\n",
            " Counter({0: 8245, 1: 8245})\n"
          ],
          "name": "stdout"
        },
        {
          "output_type": "stream",
          "text": [
            "/usr/local/lib/python3.7/dist-packages/sklearn/utils/deprecation.py:87: FutureWarning: Function safe_indexing is deprecated; safe_indexing is deprecated in version 0.22 and will be removed in version 0.24.\n",
            "  warnings.warn(msg, category=FutureWarning)\n"
          ],
          "name": "stderr"
        }
      ]
    },
    {
      "cell_type": "code",
      "metadata": {
        "id": "ysO2e1D0iCsd"
      },
      "source": [
        "# Change the \"sentence_test\" to \"x_test\"\n",
        "x_test = sentence_test"
      ],
      "execution_count": null,
      "outputs": []
    },
    {
      "cell_type": "markdown",
      "metadata": {
        "id": "7lQsEn34JNfq"
      },
      "source": [
        "You can observe that at some point the accuracy stopped to improve, which can happen because of the vanishing gradient problem. This kind of problem is harder to detect than the exploding gradient problem and will demand deeper analysis by the data scientist. Researchers found a model architecture way to solve this problem, which you will study later in this course. Instead of using SimpleRNN cells, you can use the more complex ones such as Gated Recurrent Unit (GRU) and Long Short-Term Memory (LSTM) cells."
      ]
    },
    {
      "cell_type": "markdown",
      "metadata": {
        "id": "mXvsdfumWF4b"
      },
      "source": [
        "### **(1) Simple RNN**"
      ]
    },
    {
      "cell_type": "code",
      "metadata": {
        "colab": {
          "base_uri": "https://localhost:8080/"
        },
        "id": "plm4WeuIbPTv",
        "outputId": "06be2174-b3de-49d4-cfd9-018413e5d5ea"
      },
      "source": [
        "vocab_size = len(tokenizer.word_index) + 1  # Adding 1 because of reserved 0 index\n",
        "vocab_size"
      ],
      "execution_count": null,
      "outputs": [
        {
          "output_type": "execute_result",
          "data": {
            "text/plain": [
              "44904"
            ]
          },
          "metadata": {
            "tags": []
          },
          "execution_count": 14
        }
      ]
    },
    {
      "cell_type": "code",
      "metadata": {
        "colab": {
          "base_uri": "https://localhost:8080/"
        },
        "id": "e7qDHcqQcOBi",
        "outputId": "9d71f3fe-6b78-47c5-fd6a-a0a5d6ba9b82"
      },
      "source": [
        "model1 = Sequential()\n",
        "# Add an Embedding layer expecting input vocab of size 37763, and\n",
        "# output embedding dimension of size 64.\n",
        "max_len=100\n",
        "model1.add(layers.Embedding(input_dim=vocab_size, output_dim=64, input_length=max_len))\n",
        "\n",
        "# Add a LSTM layer with 128 internal units.\n",
        "model1.add(layers.LSTM(128, dropout=0.2, recurrent_dropout=0.2))\n",
        "\n",
        "# Add a Dense layer with 10 units.\n",
        "model1.add(layers.Dense(1, activation='sigmoid'))\n",
        "\n",
        "model1.compile(loss='binary_crossentropy', \n",
        "              optimizer='adam',\n",
        "              metrics=['accuracy'])\n",
        "\n",
        "model1.summary()"
      ],
      "execution_count": null,
      "outputs": [
        {
          "output_type": "stream",
          "text": [
            "Model: \"sequential\"\n",
            "_________________________________________________________________\n",
            "Layer (type)                 Output Shape              Param #   \n",
            "=================================================================\n",
            "embedding (Embedding)        (None, 100, 64)           2873856   \n",
            "_________________________________________________________________\n",
            "lstm (LSTM)                  (None, 128)               98816     \n",
            "_________________________________________________________________\n",
            "dense (Dense)                (None, 1)                 129       \n",
            "=================================================================\n",
            "Total params: 2,972,801\n",
            "Trainable params: 2,972,801\n",
            "Non-trainable params: 0\n",
            "_________________________________________________________________\n"
          ],
          "name": "stdout"
        }
      ]
    },
    {
      "cell_type": "code",
      "metadata": {
        "colab": {
          "background_save": true
        },
        "id": "PMAq0uN19pgK",
        "outputId": "fcb428d6-fb71-4a11-b746-d67473dc385b"
      },
      "source": [
        "history1 = model1.fit(x_train, y_train,\n",
        "                    epochs=20,\n",
        "                    verbose=False,\n",
        "                    validation_split=0.2,\n",
        "                    batch_size=50)\n",
        "\n",
        "\n",
        "# Method '.evaluate()' shows the loss and accuracy\n",
        "loss, accuracy = model1.evaluate(x_train, y_train, verbose=False)\n",
        "print(\"Training Accuracy: {:.4f}\".format(accuracy))\n",
        "loss, accuracy = model1.evaluate(x_test, y_test, verbose=False)\n",
        "print(\"Testing Accuracy:  {:.4f}\".format(accuracy))"
      ],
      "execution_count": null,
      "outputs": [
        {
          "output_type": "stream",
          "text": [
            "Training Accuracy: 0.9874\n",
            "Testing Accuracy:  0.9740\n"
          ],
          "name": "stdout"
        }
      ]
    },
    {
      "cell_type": "code",
      "metadata": {
        "colab": {
          "background_save": true
        },
        "id": "AQTEbqHkDbk1",
        "outputId": "737fcad1-c4fe-4e6d-cb91-890d4d12999f"
      },
      "source": [
        "import matplotlib.pyplot as plt\n",
        "plt.style.use('ggplot')\n",
        "\n",
        "def plot_history(history):\n",
        "    acc = history.history['accuracy']\n",
        "    val_acc = history.history['val_accuracy']\n",
        "    loss = history.history['loss']\n",
        "    val_loss = history.history['val_loss']\n",
        "    x = range(1, len(acc) + 1)\n",
        "\n",
        "    plt.figure(figsize=(12, 5))\n",
        "\n",
        "    plt.subplot(1, 2, 1)\n",
        "    plt.plot(x, acc, 'b', label='Training acc')\n",
        "    plt.plot(x, val_acc, 'r', label='Valisation acc')\n",
        "    plt.title('Training and validation accuracy')\n",
        "    plt.legend()\n",
        "    # set the axis ticks\n",
        "    my_y_ticks = np.arange(0.5, 1, 0.05)\n",
        "    # my_x_ticks = np.arange(-2, 2, 0.3)\n",
        "    # plt.xticks(my_x_ticks)\n",
        "    plt.yticks(my_y_ticks)\n",
        "\n",
        "    plt.subplot(1, 2, 2)\n",
        "    plt.plot(x, loss, 'b', label='Training loss')\n",
        "    plt.plot(x, val_loss, 'r', label='Validation loss')\n",
        "    plt.title('Training and validation loss')\n",
        "    plt.legend()\n",
        "    # set the axis ticks\n",
        "    my_y_ticks = np.arange(0, 0.5, 0.05)\n",
        "    # my_x_ticks = np.arange(-2, 2, 0.3)\n",
        "    # plt.xticks(my_x_ticks)\n",
        "    plt.yticks(my_y_ticks)\n",
        "\n",
        "plot_history(history1)\n",
        "save_fig(\"simpleRNN-loss\")"
      ],
      "execution_count": null,
      "outputs": [
        {
          "output_type": "stream",
          "text": [
            "Saving figure simpleRNN-loss\n"
          ],
          "name": "stdout"
        },
        {
          "output_type": "display_data",
          "data": {
            "image/png": "[encoded data removed]",
            "text/plain": [
              "<Figure size 864x360 with 2 Axes>"
            ]
          },
          "metadata": {
            "tags": []
          }
        }
      ]
    },
    {
      "cell_type": "code",
      "metadata": {
        "colab": {
          "base_uri": "https://localhost:8080/",
          "height": 332
        },
        "id": "vjfmmnD1j7zF",
        "outputId": "579cf359-2ab6-4264-8d2a-e005552e9640"
      },
      "source": [
        "y_test_pred = model1.predict(x_test)\n",
        "y_test_pred\n",
        "\n",
        "# # Show a precision and recall metrics\n",
        "# print(\"Recall Score\",\"{:.2%}\".format(recall_score(y_test, y_test_pred)))\n",
        "# print(\"Precision Score:\",\"{:.2%}\".format((precision_score(y_test, y_test_pred))))\n",
        "\n",
        "# Check the ROC curve\n",
        "# Calculate the roc metrics\n",
        "fpr, tpr, thresholds = roc_curve(y_test, y_test_pred)\n",
        "\n",
        "# Plot the ROC curve\n",
        "plt.plot(fpr, tpr)\n",
        "\n",
        "# Add labels and diagonal line\n",
        "plt.xlabel(\"False Positive Rate\")\n",
        "plt.ylabel(\"True Positive Rate\")\n",
        "plt.title(\"ROC_AUC_Curve\")\n",
        "plt.plot([0, 1], [0, 1], \"k--\")\n",
        "plt.text(0.7,0.3,\"AUC≈0.864\", color=\"blue\", backgroundcolor=\"yellow\")\n",
        "save_fig(\"simpleRNN-AUC\")\n",
        "plt.show()\n",
        "\n",
        "# Print the AUC\n",
        "print(\"ROC_AUC_Score:\",\"{:.2%}\".format(roc_auc_score(y_test, y_test_pred)))"
      ],
      "execution_count": null,
      "outputs": [
        {
          "output_type": "stream",
          "text": [
            "Saving figure simpleRNN-AUC\n"
          ],
          "name": "stdout"
        },
        {
          "output_type": "display_data",
          "data": {
            "image/png": "[encoded data removed]",
            "text/plain": [
              "<Figure size 432x288 with 1 Axes>"
            ]
          },
          "metadata": {
            "tags": []
          }
        },
        {
          "output_type": "stream",
          "text": [
            "ROC_AUC_Score: 86.43%\n"
          ],
          "name": "stdout"
        }
      ]
    },
    {
      "cell_type": "code",
      "metadata": {
        "colab": {
          "background_save": true
        },
        "id": "am-4pjxXqh3b",
        "outputId": "04f51c87-1fb0-4887-8a09-83d8ece035c5"
      },
      "source": [
        "y_test_pred_class = model1.predict_classes(x_test, verbose=0)\n",
        "\n",
        "# reduce to 1-d array\n",
        "y_test_pred_class = y_test_pred_class[:,0]\n",
        "y_test_pred_class"
      ],
      "execution_count": null,
      "outputs": [
        {
          "output_type": "stream",
          "text": [
            "/usr/local/lib/python3.7/dist-packages/tensorflow/python/keras/engine/sequential.py:455: UserWarning: `model.predict_classes()` is deprecated and will be removed after 2021-01-01. Please use instead:* `np.argmax(model.predict(x), axis=-1)`,   if your model does multi-class classification   (e.g. if it uses a `softmax` last-layer activation).* `(model.predict(x) > 0.5).astype(\"int32\")`,   if your model does binary classification   (e.g. if it uses a `sigmoid` last-layer activation).\n",
            "  warnings.warn('`model.predict_classes()` is deprecated and '\n"
          ],
          "name": "stderr"
        },
        {
          "output_type": "execute_result",
          "data": {
            "text/plain": [
              "array([0, 0, 0, ..., 0, 0, 0], dtype=int32)"
            ]
          },
          "metadata": {
            "tags": []
          },
          "execution_count": 0
        }
      ]
    },
    {
      "cell_type": "code",
      "metadata": {
        "colab": {
          "background_save": true
        },
        "id": "UliToqCdkDfJ",
        "outputId": "e9fa5676-c49d-4b1e-bdf0-d354953c6cfe"
      },
      "source": [
        "# accuracy: (tp + tn) / (p + n)\n",
        "print('Accuracy for test set:', \"{:.2%}\".format(accuracy_score(y_test, y_test_pred_class)))\n",
        "print('Accuracy for train set:', \"{:.2%}\".format(accuracy_score(y_train, model1.predict_classes(x_train))))\n",
        "\n",
        "# precision tp / (tp + fp)\n",
        "print(\"Precision:\", \"{:.2%}\".format(precision_score(y_test, y_test_pred_class)))\n",
        "\n",
        "\n",
        "# recall: tp / (tp + fn)\n",
        "print(\"Recall:\", \"{:.2%}\".format(recall_score(y_test, y_test_pred_class)))\n",
        "\n",
        "# f1: 2 tp / (2 tp + fp + fn)\n",
        "print(\"F1-score:\", \"{:.2%}\".format(f1_score(y_test, y_test_pred_class)))"
      ],
      "execution_count": null,
      "outputs": [
        {
          "output_type": "stream",
          "text": [
            "Accuracy for test set: 97.40%\n"
          ],
          "name": "stdout"
        },
        {
          "output_type": "stream",
          "text": [
            "/usr/local/lib/python3.7/dist-packages/tensorflow/python/keras/engine/sequential.py:455: UserWarning: `model.predict_classes()` is deprecated and will be removed after 2021-01-01. Please use instead:* `np.argmax(model.predict(x), axis=-1)`,   if your model does multi-class classification   (e.g. if it uses a `softmax` last-layer activation).* `(model.predict(x) > 0.5).astype(\"int32\")`,   if your model does binary classification   (e.g. if it uses a `sigmoid` last-layer activation).\n",
            "  warnings.warn('`model.predict_classes()` is deprecated and '\n"
          ],
          "name": "stderr"
        },
        {
          "output_type": "stream",
          "text": [
            "Accuracy for train set: 98.74%\n",
            "Precision: 49.35%\n",
            "Recall: 70.37%\n",
            "F1-score: 58.02%\n"
          ],
          "name": "stdout"
        }
      ]
    },
    {
      "cell_type": "markdown",
      "metadata": {
        "id": "n3szRqew67tC"
      },
      "source": [
        "### **(2) CNNs & RNNs**"
      ]
    },
    {
      "cell_type": "code",
      "metadata": {
        "colab": {
          "background_save": true
        },
        "id": "kjUSkeQO7B-D",
        "outputId": "4a955f12-2ab5-41f9-d276-bd8a50229aaa"
      },
      "source": [
        "model_mul = Sequential()\n",
        "# output embedding dimension of size 64.\n",
        "max_len=100\n",
        "model_mul.add(layers.Embedding(input_dim=vocab_size, output_dim=64, input_length=max_len))\n",
        "model_mul.add(layers.Conv1D(64, 5, activation=\"relu\"))\n",
        "model_mul.add(MaxPooling1D(pool_size=2))\n",
        "model_mul.add(LSTM(100))\n",
        "model_mul.add(layers.Dense(units = 1, activation='sigmoid'))\n",
        "\n",
        "model_mul.compile(loss='binary_crossentropy', \n",
        "              optimizer='adam',\n",
        "              metrics=['accuracy'])\n",
        "\n",
        "\n",
        "model_mul.summary()"
      ],
      "execution_count": null,
      "outputs": [
        {
          "output_type": "stream",
          "text": [
            "Model: \"sequential_1\"\n",
            "_________________________________________________________________\n",
            "Layer (type)                 Output Shape              Param #   \n",
            "=================================================================\n",
            "embedding_1 (Embedding)      (None, 100, 64)           2873856   \n",
            "_________________________________________________________________\n",
            "conv1d (Conv1D)              (None, 96, 64)            20544     \n",
            "_________________________________________________________________\n",
            "max_pooling1d (MaxPooling1D) (None, 48, 64)            0         \n",
            "_________________________________________________________________\n",
            "lstm_1 (LSTM)                (None, 100)               66000     \n",
            "_________________________________________________________________\n",
            "dense_1 (Dense)              (None, 1)                 101       \n",
            "=================================================================\n",
            "Total params: 2,960,501\n",
            "Trainable params: 2,960,501\n",
            "Non-trainable params: 0\n",
            "_________________________________________________________________\n"
          ],
          "name": "stdout"
        }
      ]
    },
    {
      "cell_type": "code",
      "metadata": {
        "colab": {
          "background_save": true
        },
        "id": "GFK2aUkPweyX",
        "outputId": "26041a27-5163-4493-8fc7-d7e5f03d8543"
      },
      "source": [
        "history_mul = model_mul.fit(x_train, y_train,\n",
        "                    epochs=20,\n",
        "                    verbose=False,\n",
        "                    validation_split=0.2,\n",
        "                    batch_size=50)\n",
        "\n",
        "# Method '.evaluate()' shows the loss and accuracy\n",
        "loss, accuracy = model_mul.evaluate(x_train, y_train, verbose=False)\n",
        "print(\"Training Accuracy: {:.4f}\".format(accuracy))\n",
        "loss, accuracy = model_mul.evaluate(x_test, y_test, verbose=False)\n",
        "print(\"Testing Accuracy:  {:.4f}\".format(accuracy))"
      ],
      "execution_count": null,
      "outputs": [
        {
          "output_type": "stream",
          "text": [
            "Training Accuracy: 0.9959\n",
            "Testing Accuracy:  0.9490\n"
          ],
          "name": "stdout"
        }
      ]
    },
    {
      "cell_type": "code",
      "metadata": {
        "colab": {
          "background_save": true
        },
        "id": "rzUiiGdGDoS6",
        "outputId": "3e471747-1bc5-4c27-d5db-93a37a03320b"
      },
      "source": [
        "plot_history(history_mul)\n",
        "save_fig(\"cnn+rnn-loss\")"
      ],
      "execution_count": null,
      "outputs": [
        {
          "output_type": "stream",
          "text": [
            "Saving figure cnn+rnn-loss\n"
          ],
          "name": "stdout"
        },
        {
          "output_type": "display_data",
          "data": {
            "image/png": "[encoded data removed]",
            "text/plain": [
              "<Figure size 864x360 with 2 Axes>"
            ]
          },
          "metadata": {
            "tags": []
          }
        }
      ]
    },
    {
      "cell_type": "code",
      "metadata": {
        "colab": {
          "base_uri": "https://localhost:8080/",
          "height": 332
        },
        "id": "bAwPi-yuK_Cz",
        "outputId": "7ba2f705-1ca1-42ed-b83a-3bf25e4ce6fc"
      },
      "source": [
        "y_test_pred = model_mul.predict(x_test)\n",
        "y_test_pred\n",
        "\n",
        "# # Show a precision and recall metrics\n",
        "# print(\"Recall Score\",\"{:.2%}\".format(recall_score(y_test, y_test_pred)))\n",
        "# print(\"Precision Score:\",\"{:.2%}\".format((precision_score(y_test, y_test_pred))))\n",
        "\n",
        "# Check the ROC curve\n",
        "# Calculate the roc metrics\n",
        "fpr, tpr, thresholds = roc_curve(y_test, y_test_pred)\n",
        "\n",
        "# Plot the ROC curve\n",
        "plt.plot(fpr, tpr)\n",
        "\n",
        "# Add labels and diagonal line\n",
        "plt.xlabel(\"False Positive Rate\")\n",
        "plt.ylabel(\"True Positive Rate\")\n",
        "plt.title(\"ROC_AUC_Curve\")\n",
        "plt.plot([0, 1], [0, 1], \"k--\")\n",
        "plt.text(0.7,0.3,\"AUC≈0.966\", color=\"blue\", backgroundcolor=\"yellow\")\n",
        "save_fig(\"cnn+rnn-auc\")\n",
        "plt.show()\n",
        "\n",
        "# Print the AUC\n",
        "print(\"ROC_AUC_Score:\",\"{:.2%}\".format(roc_auc_score(y_test, y_test_pred)))"
      ],
      "execution_count": null,
      "outputs": [
        {
          "output_type": "stream",
          "text": [
            "Saving figure cnn+rnn-auc\n"
          ],
          "name": "stdout"
        },
        {
          "output_type": "display_data",
          "data": {
            "image/png": "[encoded data removed]",
            "text/plain": [
              "<Figure size 432x288 with 1 Axes>"
            ]
          },
          "metadata": {
            "tags": []
          }
        },
        {
          "output_type": "stream",
          "text": [
            "ROC_AUC_Score: 96.60%\n"
          ],
          "name": "stdout"
        }
      ]
    },
    {
      "cell_type": "code",
      "metadata": {
        "colab": {
          "base_uri": "https://localhost:8080/"
        },
        "id": "Gq8vqPewOOnB",
        "outputId": "dad3f89d-bbd5-4df9-ba02-7c421873ff64"
      },
      "source": [
        "y_test_pred_class = model_mul.predict_classes(x_test, verbose=0)\n",
        "\n",
        "# reduce to 1-d array\n",
        "y_test_pred_class = y_test_pred_class[:,0]\n",
        "y_test_pred_class"
      ],
      "execution_count": null,
      "outputs": [
        {
          "output_type": "stream",
          "text": [
            "/usr/local/lib/python3.7/dist-packages/tensorflow/python/keras/engine/sequential.py:455: UserWarning: `model.predict_classes()` is deprecated and will be removed after 2021-01-01. Please use instead:* `np.argmax(model.predict(x), axis=-1)`,   if your model does multi-class classification   (e.g. if it uses a `softmax` last-layer activation).* `(model.predict(x) > 0.5).astype(\"int32\")`,   if your model does binary classification   (e.g. if it uses a `sigmoid` last-layer activation).\n",
            "  warnings.warn('`model.predict_classes()` is deprecated and '\n"
          ],
          "name": "stderr"
        },
        {
          "output_type": "execute_result",
          "data": {
            "text/plain": [
              "array([0, 0, 0, ..., 1, 0, 0], dtype=int32)"
            ]
          },
          "metadata": {
            "tags": []
          },
          "execution_count": 32
        }
      ]
    },
    {
      "cell_type": "code",
      "metadata": {
        "id": "pTdcDyRvOTfe",
        "colab": {
          "base_uri": "https://localhost:8080/"
        },
        "outputId": "44b6f20a-a752-4fe6-e12b-52b46c2e1f71"
      },
      "source": [
        "# accuracy: (tp + tn) / (p + n)\n",
        "print('Accuracy for test set:', \"{:.2%}\".format(accuracy_score(y_test, y_test_pred_class)))\n",
        "print('Accuracy for train set:', \"{:.2%}\".format(accuracy_score(y_train, model1.predict_classes(x_train))))\n",
        "\n",
        "# precision tp / (tp + fp)\n",
        "print(\"Precision:\", \"{:.2%}\".format(precision_score(y_test, y_test_pred_class)))\n",
        "\n",
        "\n",
        "# recall: tp / (tp + fn)\n",
        "print(\"Recall:\", \"{:.2%}\".format(recall_score(y_test, y_test_pred_class)))\n",
        "\n",
        "# f1: 2 tp / (2 tp + fp + fn)\n",
        "print(\"F1-score:\", \"{:.2%}\".format(f1_score(y_test, y_test_pred_class)))"
      ],
      "execution_count": null,
      "outputs": [
        {
          "output_type": "stream",
          "text": [
            "Accuracy for test set: 94.90%\n"
          ],
          "name": "stdout"
        },
        {
          "output_type": "stream",
          "text": [
            "/usr/local/lib/python3.7/dist-packages/tensorflow/python/keras/engine/sequential.py:455: UserWarning: `model.predict_classes()` is deprecated and will be removed after 2021-01-01. Please use instead:* `np.argmax(model.predict(x), axis=-1)`,   if your model does multi-class classification   (e.g. if it uses a `softmax` last-layer activation).* `(model.predict(x) > 0.5).astype(\"int32\")`,   if your model does binary classification   (e.g. if it uses a `sigmoid` last-layer activation).\n",
            "  warnings.warn('`model.predict_classes()` is deprecated and '\n"
          ],
          "name": "stderr"
        },
        {
          "output_type": "stream",
          "text": [
            "Accuracy for train set: 98.74%\n",
            "Precision: 30.71%\n",
            "Recall: 79.63%\n",
            "F1-score: 44.33%\n"
          ],
          "name": "stdout"
        }
      ]
    }
  ]
}