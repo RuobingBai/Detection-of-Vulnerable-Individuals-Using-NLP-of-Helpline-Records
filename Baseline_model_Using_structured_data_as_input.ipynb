{
  "nbformat": 4,
  "nbformat_minor": 0,
  "metadata": {
    "kernelspec": {
      "name": "python3",
      "display_name": "Python 3"
    },
    "colab": {
      "name": "Baseline model_Using structured data as input.ipynb",
      "provenance": [],
      "collapsed_sections": [],
      "include_colab_link": true
    },
    "language_info": {
      "name": "python"
    }
  },
  "cells": [
    {
      "cell_type": "markdown",
      "metadata": {
        "id": "view-in-github",
        "colab_type": "text"
      },
      "source": [
        "<a href=\"https://colab.research.google.com/github/RuobingBai/Detection-of-Vulnerable-Individuals-Using-NLP-of-Helpline-Records/blob/main/Baseline_model_Using_structured_data_as_input.ipynb\" target=\"_parent\"><img src=\"https://colab.research.google.com/assets/colab-badge.svg\" alt=\"Open In Colab\"/></a>"
      ]
    },
    {
      "cell_type": "markdown",
      "metadata": {
        "id": "J5Ef3V7Zj0WD"
      },
      "source": [
        "## **Load Packages**"
      ]
    },
    {
      "cell_type": "code",
      "metadata": {
        "id": "KQWwl3v36chd"
      },
      "source": [
        "import pandas as pd\n",
        "import numpy as np\n",
        "import matplotlib\n",
        "import matplotlib.pyplot as plt\n",
        "from matplotlib import cm\n",
        "from matplotlib.collections import LineCollection\n",
        "import warnings\n",
        "warnings.filterwarnings('ignore')\n",
        "from sklearn.model_selection import train_test_split\n",
        "import seaborn as sns\n",
        "import os\n",
        "from sklearn.decomposition import PCA\n",
        "from sklearn.preprocessing import StandardScaler\n",
        "\n",
        "from IPython.core.interactiveshell import InteractiveShell\n",
        "InteractiveShell.ast_node_interactivity = \"all\""
      ],
      "execution_count": null,
      "outputs": []
    },
    {
      "cell_type": "code",
      "metadata": {
        "id": "3lappeVah4cA"
      },
      "source": [
        "# Set up for where to save the figures\n",
        "import os\n",
        "PROJECT_ROOT_DIR = \"figures\"\n",
        "IMAGES_PATH = os.path.join(PROJECT_ROOT_DIR)\n",
        "def save_fig(fig_id, tight_layout=True, fig_extension=\"png\", resolution=300):\n",
        "  path = os.path.join(IMAGES_PATH, fig_id + \".\" + fig_extension)\n",
        "  print(\"Saving figure\", fig_id)\n",
        "  if tight_layout:\n",
        "    plt.tight_layout()\n",
        "    plt.savefig(path, format=fig_extension, dpi=resolution)"
      ],
      "execution_count": null,
      "outputs": []
    },
    {
      "cell_type": "code",
      "metadata": {
        "id": "lb7YeO19oxAk"
      },
      "source": [
        "from sklearn import metrics\n",
        "from sklearn.metrics import precision_score,recall_score, roc_curve, roc_auc_score\n",
        "import matplotlib.pyplot as plt\n",
        "from sklearn.metrics import accuracy_score, precision_score, recall_score, f1_score"
      ],
      "execution_count": null,
      "outputs": []
    },
    {
      "cell_type": "markdown",
      "metadata": {
        "id": "QWdmEELp6chg"
      },
      "source": [
        "## **Load Data**"
      ]
    },
    {
      "cell_type": "code",
      "metadata": {
        "colab": {
          "base_uri": "https://localhost:8080/"
        },
        "id": "PMZYwxRe6chg",
        "outputId": "a5ac83e9-67c4-47c6-8276-a4e8d335ff4b"
      },
      "source": [
        "import time\n",
        "start = time.time()\n",
        "#read data in chunks of 1 million rows at a time\n",
        "chunk = pd.read_csv('Helpline data.csv',chunksize=1000000)\n",
        "end = time.time()\n",
        "print(\"Read csv with chunks: \",(end-start),\"sec\")\n",
        "data = pd.concat(chunk)"
      ],
      "execution_count": null,
      "outputs": [
        {
          "output_type": "stream",
          "text": [
            "Read csv with chunks:  0.010251998901367188 sec\n"
          ],
          "name": "stdout"
        }
      ]
    },
    {
      "cell_type": "code",
      "metadata": {
        "scrolled": false,
        "colab": {
          "base_uri": "https://localhost:8080/"
        },
        "id": "pudstCPS6chh",
        "outputId": "93d469db-02ac-4f33-d7e2-7d8a0fb7c0d2"
      },
      "source": [
        "data.info()"
      ],
      "execution_count": null,
      "outputs": [
        {
          "output_type": "stream",
          "text": [
            "<class 'pandas.core.frame.DataFrame'>\n",
            "RangeIndex: 20460 entries, 0 to 20459\n",
            "Data columns (total 24 columns):\n",
            " #   Column                    Non-Null Count  Dtype \n",
            "---  ------                    --------------  ----- \n",
            " 0   IP Address (hashed)       12672 non-null  object\n",
            " 1    Contact ID (hashed)      20460 non-null  object\n",
            " 2   Case Number               20460 non-null  int64 \n",
            " 3   Case Origin               20460 non-null  object\n",
            " 4   Case Reason               15603 non-null  object\n",
            " 5   Subject                   20325 non-null  object\n",
            " 6   Description               17572 non-null  object\n",
            " 7   Break Confidentiality?    20460 non-null  int64 \n",
            " 8   Main Issue Category       15147 non-null  object\n",
            " 9   Issues mentioned          15163 non-null  object\n",
            " 10  Initial Feeling           16096 non-null  object\n",
            " 11  Age                       17830 non-null  object\n",
            " 12  County                    5932 non-null   object\n",
            " 13  Region                    17744 non-null  object\n",
            " 14  Gender                    17718 non-null  object\n",
            " 15  Sexuality                 1182 non-null   object\n",
            " 16  Ethnicity                 17804 non-null  object\n",
            " 17  Disabled                  1154 non-null   object\n",
            " 18  Religion                  1171 non-null   object\n",
            " 19  Employment Status         1107 non-null   object\n",
            " 20  Date/Time Opened          20460 non-null  object\n",
            " 21  How do they prefer help?  16889 non-null  object\n",
            " 22  What type of help?        16932 non-null  object\n",
            " 23  Were signposts offered?   15148 non-null  object\n",
            "dtypes: int64(2), object(22)\n",
            "memory usage: 3.7+ MB\n"
          ],
          "name": "stdout"
        }
      ]
    },
    {
      "cell_type": "markdown",
      "metadata": {
        "id": "Q5bpDMvo6chh"
      },
      "source": [
        "## **Structured Data Preprocessing**"
      ]
    },
    {
      "cell_type": "markdown",
      "metadata": {
        "id": "SKCFEIER6chh"
      },
      "source": [
        "1. Check the number of missing values and drop the columns which have too many missing values\n",
        "\n",
        "2. Fill in the missing values properly\n",
        "\n",
        "3. Encode the categorical data\n",
        "\n",
        "4. Balance data in \"Break Confidentiality?\"\n",
        "\n",
        "5. Split the dataset into training and test dataset\n",
        "\n",
        "6. Identify X and Y"
      ]
    },
    {
      "cell_type": "code",
      "metadata": {
        "colab": {
          "base_uri": "https://localhost:8080/"
        },
        "id": "81kfTKye6chi",
        "outputId": "b8dcf2be-01b3-4d17-c9a1-affe6a056908"
      },
      "source": [
        "# Percentage of missing values in all columns\n",
        "column_list = data.columns.tolist()\n",
        "\n",
        "# List those columns with percentage of missing values\n",
        "round((data.isnull().sum()/20461),3)"
      ],
      "execution_count": null,
      "outputs": [
        {
          "output_type": "execute_result",
          "data": {
            "text/plain": [
              "IP Address (hashed)         0.381\n",
              " Contact ID (hashed)        0.000\n",
              "Case Number                 0.000\n",
              "Case Origin                 0.000\n",
              "Case Reason                 0.237\n",
              "Subject                     0.007\n",
              "Description                 0.141\n",
              "Break Confidentiality?      0.000\n",
              "Main Issue Category         0.260\n",
              "Issues mentioned            0.259\n",
              "Initial Feeling             0.213\n",
              "Age                         0.129\n",
              "County                      0.710\n",
              "Region                      0.133\n",
              "Gender                      0.134\n",
              "Sexuality                   0.942\n",
              "Ethnicity                   0.130\n",
              "Disabled                    0.944\n",
              "Religion                    0.943\n",
              "Employment Status           0.946\n",
              "Date/Time Opened            0.000\n",
              "How do they prefer help?    0.175\n",
              "What type of help?          0.172\n",
              "Were signposts offered?     0.260\n",
              "dtype: float64"
            ]
          },
          "metadata": {
            "tags": []
          },
          "execution_count": 6
        }
      ]
    },
    {
      "cell_type": "markdown",
      "metadata": {
        "id": "HCTJ5uDj6chi"
      },
      "source": [
        "**Columns considered include \"Break Confidentiality\", \"Main Issue Category\", \"Age\", \"Region\", \"Gender\".**"
      ]
    },
    {
      "cell_type": "code",
      "metadata": {
        "id": "rAvKZBqg6chi"
      },
      "source": [
        "data1 = data[[\"Break Confidentiality?\", \"Main Issue Category\", \"Age\", \"Region\", \"Gender\"]]"
      ],
      "execution_count": null,
      "outputs": []
    },
    {
      "cell_type": "code",
      "metadata": {
        "colab": {
          "base_uri": "https://localhost:8080/",
          "height": 202
        },
        "id": "oTRTu3HH6chi",
        "outputId": "fa1fece3-32f0-4f39-9f31-ae42a7b86a6e"
      },
      "source": [
        "data1.head()"
      ],
      "execution_count": null,
      "outputs": [
        {
          "output_type": "execute_result",
          "data": {
            "text/html": [
              "<div>\n",
              "<style scoped>\n",
              "    .dataframe tbody tr th:only-of-type {\n",
              "        vertical-align: middle;\n",
              "    }\n",
              "\n",
              "    .dataframe tbody tr th {\n",
              "        vertical-align: top;\n",
              "    }\n",
              "\n",
              "    .dataframe thead th {\n",
              "        text-align: right;\n",
              "    }\n",
              "</style>\n",
              "<table border=\"1\" class=\"dataframe\">\n",
              "  <thead>\n",
              "    <tr style=\"text-align: right;\">\n",
              "      <th></th>\n",
              "      <th>Break Confidentiality?</th>\n",
              "      <th>Main Issue Category</th>\n",
              "      <th>Age</th>\n",
              "      <th>Region</th>\n",
              "      <th>Gender</th>\n",
              "    </tr>\n",
              "  </thead>\n",
              "  <tbody>\n",
              "    <tr>\n",
              "      <th>0</th>\n",
              "      <td>0</td>\n",
              "      <td>Mental Health</td>\n",
              "      <td>26+</td>\n",
              "      <td>Wales</td>\n",
              "      <td>Male</td>\n",
              "    </tr>\n",
              "    <tr>\n",
              "      <th>1</th>\n",
              "      <td>0</td>\n",
              "      <td>Mental Health</td>\n",
              "      <td>20</td>\n",
              "      <td>London</td>\n",
              "      <td>Female</td>\n",
              "    </tr>\n",
              "    <tr>\n",
              "      <th>2</th>\n",
              "      <td>0</td>\n",
              "      <td>Mental Health</td>\n",
              "      <td>15</td>\n",
              "      <td>Yorkshire and the Humber</td>\n",
              "      <td>Female</td>\n",
              "    </tr>\n",
              "    <tr>\n",
              "      <th>3</th>\n",
              "      <td>0</td>\n",
              "      <td>Mental Health</td>\n",
              "      <td>18</td>\n",
              "      <td>North East England</td>\n",
              "      <td>Male</td>\n",
              "    </tr>\n",
              "    <tr>\n",
              "      <th>4</th>\n",
              "      <td>0</td>\n",
              "      <td>Mental Health</td>\n",
              "      <td>24</td>\n",
              "      <td>Yorkshire and the Humber</td>\n",
              "      <td>Female</td>\n",
              "    </tr>\n",
              "  </tbody>\n",
              "</table>\n",
              "</div>"
            ],
            "text/plain": [
              "   Break Confidentiality? Main Issue Category  ...                    Region  Gender\n",
              "0                       0       Mental Health  ...                     Wales    Male\n",
              "1                       0       Mental Health  ...                    London  Female\n",
              "2                       0       Mental Health  ...  Yorkshire and the Humber  Female\n",
              "3                       0       Mental Health  ...        North East England    Male\n",
              "4                       0       Mental Health  ...  Yorkshire and the Humber  Female\n",
              "\n",
              "[5 rows x 5 columns]"
            ]
          },
          "metadata": {
            "tags": []
          },
          "execution_count": 8
        }
      ]
    },
    {
      "cell_type": "code",
      "metadata": {
        "colab": {
          "base_uri": "https://localhost:8080/"
        },
        "id": "rMOSkCAw6chj",
        "outputId": "d5bfe4a5-0987-4c52-9270-aded8da5596f"
      },
      "source": [
        "data1.info()"
      ],
      "execution_count": null,
      "outputs": [
        {
          "output_type": "stream",
          "text": [
            "<class 'pandas.core.frame.DataFrame'>\n",
            "RangeIndex: 20460 entries, 0 to 20459\n",
            "Data columns (total 5 columns):\n",
            " #   Column                  Non-Null Count  Dtype \n",
            "---  ------                  --------------  ----- \n",
            " 0   Break Confidentiality?  20460 non-null  int64 \n",
            " 1   Main Issue Category     15147 non-null  object\n",
            " 2   Age                     17830 non-null  object\n",
            " 3   Region                  17744 non-null  object\n",
            " 4   Gender                  17718 non-null  object\n",
            "dtypes: int64(1), object(4)\n",
            "memory usage: 799.3+ KB\n"
          ],
          "name": "stdout"
        }
      ]
    },
    {
      "cell_type": "code",
      "metadata": {
        "colab": {
          "base_uri": "https://localhost:8080/"
        },
        "id": "JIomXNAX6chj",
        "outputId": "5bfd29eb-c440-4eb3-bd27-e50286b0c5c1"
      },
      "source": [
        "# \"Break confidentiality\"\n",
        "data1[\"Break Confidentiality?\"].value_counts()"
      ],
      "execution_count": null,
      "outputs": [
        {
          "output_type": "execute_result",
          "data": {
            "text/plain": [
              "0    20085\n",
              "1      375\n",
              "Name: Break Confidentiality?, dtype: int64"
            ]
          },
          "metadata": {
            "tags": []
          },
          "execution_count": 10
        }
      ]
    },
    {
      "cell_type": "code",
      "metadata": {
        "scrolled": true,
        "id": "aDwX7WvB6chj"
      },
      "source": [
        "# Encode this column\n",
        "# data1[\"Main Issue Category\"] = data1[\"Main Issue Category\"].fillna(method='ffill')\n",
        "\n",
        "## Dealing with missing values\n",
        "def MissingRandom(dataframe):\n",
        "    import random\n",
        "    from collections import Counter\n",
        "    def fillcolumn(ser):\n",
        "        cna=len(ser[ser.isna()])\n",
        "        l=ser[ser.notna()]\n",
        "        d=Counter(l)    \n",
        "        m=random.choices(list(d.keys()), weights = list(d.values()), k=cna)\n",
        "        ser[ser.isna()]=m\n",
        "        return ser\n",
        "        \n",
        "    for i in dataframe.columns:\n",
        "      dataframe[i]=fillcolumn(dataframe[i])\n",
        "    return dataframe"
      ],
      "execution_count": null,
      "outputs": []
    },
    {
      "cell_type": "code",
      "metadata": {
        "colab": {
          "base_uri": "https://localhost:8080/",
          "height": 414
        },
        "id": "O4Lk0KS9q_1p",
        "outputId": "4283ef75-d118-499c-f80d-9d0566103344"
      },
      "source": [
        "MissingRandom(data1)"
      ],
      "execution_count": null,
      "outputs": [
        {
          "output_type": "execute_result",
          "data": {
            "text/html": [
              "<div>\n",
              "<style scoped>\n",
              "    .dataframe tbody tr th:only-of-type {\n",
              "        vertical-align: middle;\n",
              "    }\n",
              "\n",
              "    .dataframe tbody tr th {\n",
              "        vertical-align: top;\n",
              "    }\n",
              "\n",
              "    .dataframe thead th {\n",
              "        text-align: right;\n",
              "    }\n",
              "</style>\n",
              "<table border=\"1\" class=\"dataframe\">\n",
              "  <thead>\n",
              "    <tr style=\"text-align: right;\">\n",
              "      <th></th>\n",
              "      <th>Break Confidentiality?</th>\n",
              "      <th>Main Issue Category</th>\n",
              "      <th>Age</th>\n",
              "      <th>Region</th>\n",
              "      <th>Gender</th>\n",
              "    </tr>\n",
              "  </thead>\n",
              "  <tbody>\n",
              "    <tr>\n",
              "      <th>0</th>\n",
              "      <td>0</td>\n",
              "      <td>Mental Health</td>\n",
              "      <td>26+</td>\n",
              "      <td>Wales</td>\n",
              "      <td>Male</td>\n",
              "    </tr>\n",
              "    <tr>\n",
              "      <th>1</th>\n",
              "      <td>0</td>\n",
              "      <td>Mental Health</td>\n",
              "      <td>20</td>\n",
              "      <td>London</td>\n",
              "      <td>Female</td>\n",
              "    </tr>\n",
              "    <tr>\n",
              "      <th>2</th>\n",
              "      <td>0</td>\n",
              "      <td>Mental Health</td>\n",
              "      <td>15</td>\n",
              "      <td>Yorkshire and the Humber</td>\n",
              "      <td>Female</td>\n",
              "    </tr>\n",
              "    <tr>\n",
              "      <th>3</th>\n",
              "      <td>0</td>\n",
              "      <td>Mental Health</td>\n",
              "      <td>18</td>\n",
              "      <td>North East England</td>\n",
              "      <td>Male</td>\n",
              "    </tr>\n",
              "    <tr>\n",
              "      <th>4</th>\n",
              "      <td>0</td>\n",
              "      <td>Mental Health</td>\n",
              "      <td>24</td>\n",
              "      <td>Yorkshire and the Humber</td>\n",
              "      <td>Female</td>\n",
              "    </tr>\n",
              "    <tr>\n",
              "      <th>...</th>\n",
              "      <td>...</td>\n",
              "      <td>...</td>\n",
              "      <td>...</td>\n",
              "      <td>...</td>\n",
              "      <td>...</td>\n",
              "    </tr>\n",
              "    <tr>\n",
              "      <th>20455</th>\n",
              "      <td>0</td>\n",
              "      <td>None specified</td>\n",
              "      <td>12</td>\n",
              "      <td>London</td>\n",
              "      <td>Male</td>\n",
              "    </tr>\n",
              "    <tr>\n",
              "      <th>20456</th>\n",
              "      <td>0</td>\n",
              "      <td>Mental Health</td>\n",
              "      <td>0-6</td>\n",
              "      <td>Channel Islands</td>\n",
              "      <td>Male</td>\n",
              "    </tr>\n",
              "    <tr>\n",
              "      <th>20457</th>\n",
              "      <td>0</td>\n",
              "      <td>None specified</td>\n",
              "      <td>15</td>\n",
              "      <td>Channel Islands</td>\n",
              "      <td>Male</td>\n",
              "    </tr>\n",
              "    <tr>\n",
              "      <th>20458</th>\n",
              "      <td>0</td>\n",
              "      <td>Sex &amp; Relationships</td>\n",
              "      <td>15</td>\n",
              "      <td>Channel Islands</td>\n",
              "      <td>Male</td>\n",
              "    </tr>\n",
              "    <tr>\n",
              "      <th>20459</th>\n",
              "      <td>0</td>\n",
              "      <td>Mental Health</td>\n",
              "      <td>15</td>\n",
              "      <td>Channel Islands</td>\n",
              "      <td>Male</td>\n",
              "    </tr>\n",
              "  </tbody>\n",
              "</table>\n",
              "<p>20460 rows × 5 columns</p>\n",
              "</div>"
            ],
            "text/plain": [
              "       Break Confidentiality?  ...  Gender\n",
              "0                           0  ...    Male\n",
              "1                           0  ...  Female\n",
              "2                           0  ...  Female\n",
              "3                           0  ...    Male\n",
              "4                           0  ...  Female\n",
              "...                       ...  ...     ...\n",
              "20455                       0  ...    Male\n",
              "20456                       0  ...    Male\n",
              "20457                       0  ...    Male\n",
              "20458                       0  ...    Male\n",
              "20459                       0  ...    Male\n",
              "\n",
              "[20460 rows x 5 columns]"
            ]
          },
          "metadata": {
            "tags": []
          },
          "execution_count": 12
        }
      ]
    },
    {
      "cell_type": "code",
      "metadata": {
        "colab": {
          "base_uri": "https://localhost:8080/"
        },
        "id": "1uuw7ldDrjVk",
        "outputId": "2ffe7115-3144-42d2-8300-9ece71db0253"
      },
      "source": [
        "data1.info()"
      ],
      "execution_count": null,
      "outputs": [
        {
          "output_type": "stream",
          "text": [
            "<class 'pandas.core.frame.DataFrame'>\n",
            "RangeIndex: 20460 entries, 0 to 20459\n",
            "Data columns (total 5 columns):\n",
            " #   Column                  Non-Null Count  Dtype \n",
            "---  ------                  --------------  ----- \n",
            " 0   Break Confidentiality?  20460 non-null  int64 \n",
            " 1   Main Issue Category     20460 non-null  object\n",
            " 2   Age                     20460 non-null  object\n",
            " 3   Region                  20460 non-null  object\n",
            " 4   Gender                  20460 non-null  object\n",
            "dtypes: int64(1), object(4)\n",
            "memory usage: 799.3+ KB\n"
          ],
          "name": "stdout"
        }
      ]
    },
    {
      "cell_type": "markdown",
      "metadata": {
        "id": "FLIXPsfs6chj"
      },
      "source": [
        "##### Main Issue Category"
      ]
    },
    {
      "cell_type": "code",
      "metadata": {
        "colab": {
          "base_uri": "https://localhost:8080/"
        },
        "id": "05VPL7zR6chj",
        "outputId": "b6d076c4-6030-4e1c-e856-cf120fdd3449"
      },
      "source": [
        "data1[\"Main Issue Category\"] = data1[\"Main Issue Category\"].astype(str)\n",
        "# \"Main issue category\"\n",
        "data1[\"Main Issue Category\"].value_counts()"
      ],
      "execution_count": null,
      "outputs": [
        {
          "output_type": "execute_result",
          "data": {
            "text/plain": [
              "Mental Health          11951\n",
              "None specified          3829\n",
              "Sex & Relationships     2301\n",
              "Housing                  690\n",
              "Work & Study             615\n",
              "Your Body                451\n",
              "Money                    225\n",
              "Crime & Safety           207\n",
              "Drink & Drugs            156\n",
              "Travel & Lifestyle        35\n",
              "Name: Main Issue Category, dtype: int64"
            ]
          },
          "metadata": {
            "tags": []
          },
          "execution_count": 14
        }
      ]
    },
    {
      "cell_type": "code",
      "metadata": {
        "id": "NsRPqMDS6chk"
      },
      "source": [
        "try:\n",
        "    from sklearn.preprocessing import OrdinalEncoder # just to raise an ImportError if Scikit-Learn < 0.20\n",
        "    from sklearn.preprocessing import OneHotEncoder\n",
        "    from sklearn.preprocessing import LabelEncoder\n",
        "    from sklearn.preprocessing import LabelBinarizer\n",
        "except ImportError:\n",
        "    from future_encoders import OneHotEncoder,OneHotEncoder, LabelEncoder, LabelBinarizer # Scikit-Learn < 0.20\n",
        "    \n",
        "label_encoder = LabelEncoder()\n",
        "data1[['Main Issue Category']] = label_encoder.fit_transform(data1[['Main Issue Category']])"
      ],
      "execution_count": null,
      "outputs": []
    },
    {
      "cell_type": "code",
      "metadata": {
        "colab": {
          "base_uri": "https://localhost:8080/"
        },
        "id": "f9PbqidL6chk",
        "outputId": "f2637a46-545d-48e2-a7ff-0f9f84c58147"
      },
      "source": [
        "data1[\"Main Issue Category\"].value_counts()"
      ],
      "execution_count": null,
      "outputs": [
        {
          "output_type": "execute_result",
          "data": {
            "text/plain": [
              "3    11951\n",
              "5     3829\n",
              "6     2301\n",
              "2      690\n",
              "8      615\n",
              "9      451\n",
              "4      225\n",
              "0      207\n",
              "1      156\n",
              "7       35\n",
              "Name: Main Issue Category, dtype: int64"
            ]
          },
          "metadata": {
            "tags": []
          },
          "execution_count": 16
        }
      ]
    },
    {
      "cell_type": "markdown",
      "metadata": {
        "id": "Lo25lAjG6chk"
      },
      "source": [
        "##### Age"
      ]
    },
    {
      "cell_type": "code",
      "metadata": {
        "scrolled": false,
        "colab": {
          "base_uri": "https://localhost:8080/"
        },
        "id": "jedWLXGC6chl",
        "outputId": "98691a71-9773-49d3-c9f7-a61647f61d0d"
      },
      "source": [
        "# \"Age\"\n",
        "data1[\"Age\"].value_counts()"
      ],
      "execution_count": null,
      "outputs": [
        {
          "output_type": "execute_result",
          "data": {
            "text/plain": [
              "19                   1978\n",
              "We didn't ask        1698\n",
              "20                   1607\n",
              "18                   1548\n",
              "21                   1546\n",
              "22                   1472\n",
              "23                   1435\n",
              "17                   1418\n",
              "16                   1349\n",
              "24                   1186\n",
              "15                   1078\n",
              "26+                   985\n",
              "14                    839\n",
              "25                    678\n",
              "13                    548\n",
              "Prefer not to say     480\n",
              "12                    314\n",
              "11                    156\n",
              "10                     87\n",
              "0-6                    33\n",
              "9                      19\n",
              "8                       4\n",
              "7                       2\n",
              "Name: Age, dtype: int64"
            ]
          },
          "metadata": {
            "tags": []
          },
          "execution_count": 17
        }
      ]
    },
    {
      "cell_type": "code",
      "metadata": {
        "id": "9iX-NAV36chl"
      },
      "source": [
        "#  Replace \"26+\",\"0-6\", with \"26\" and \"6\"\n",
        "data1[\"Age\"] = data1[\"Age\"].replace([\"26+\",\"0-6\"],[\"26\",\"6\"])\n",
        "\n",
        "# Fill \"We didnt ask\" with NaN\n",
        "data1[\"Age\"] = data1[\"Age\"].replace(\"We didn't ask\", np.NaN)\n",
        "\n",
        "# Fill missing values with foward filling\n",
        "data1[\"Age\"] = data1[\"Age\"].fillna(method='ffill')\n",
        "\n",
        "# Fill \"prefer not to say\" with a numerical value\n",
        "data1[\"Age\"] = data1[\"Age\"].replace([\"Prefer not to say\"],[\"30\"])"
      ],
      "execution_count": null,
      "outputs": []
    },
    {
      "cell_type": "code",
      "metadata": {
        "colab": {
          "base_uri": "https://localhost:8080/"
        },
        "id": "jB2HJR2L6chl",
        "outputId": "e7ac0c97-8acb-4fc6-8e88-4a406bc3df84"
      },
      "source": [
        "data1[\"Age\"] = data1[\"Age\"].astype(int)\n",
        "series = pd.cut(data1[\"Age\"], [6,12,18,24,30,36])\n",
        "series"
      ],
      "execution_count": null,
      "outputs": [
        {
          "output_type": "execute_result",
          "data": {
            "text/plain": [
              "0        (24.0, 30.0]\n",
              "1        (18.0, 24.0]\n",
              "2        (12.0, 18.0]\n",
              "3        (12.0, 18.0]\n",
              "4        (18.0, 24.0]\n",
              "             ...     \n",
              "20455     (6.0, 12.0]\n",
              "20456             NaN\n",
              "20457    (12.0, 18.0]\n",
              "20458    (12.0, 18.0]\n",
              "20459    (12.0, 18.0]\n",
              "Name: Age, Length: 20460, dtype: category\n",
              "Categories (5, interval[int64]): [(6, 12] < (12, 18] < (18, 24] < (24, 30] < (30, 36]]"
            ]
          },
          "metadata": {
            "tags": []
          },
          "execution_count": 19
        }
      ]
    },
    {
      "cell_type": "code",
      "metadata": {
        "colab": {
          "base_uri": "https://localhost:8080/"
        },
        "id": "A0fiA4aB6chl",
        "outputId": "618ef8e7-da25-41cb-9ea4-b58808a4062a"
      },
      "source": [
        "age_bucket = np.array(series)\n",
        "age_bucket"
      ],
      "execution_count": null,
      "outputs": [
        {
          "output_type": "execute_result",
          "data": {
            "text/plain": [
              "array([Interval(24.0, 30.0, closed='right'),\n",
              "       Interval(18.0, 24.0, closed='right'),\n",
              "       Interval(12.0, 18.0, closed='right'), ...,\n",
              "       Interval(12.0, 18.0, closed='right'),\n",
              "       Interval(12.0, 18.0, closed='right'),\n",
              "       Interval(12.0, 18.0, closed='right')], dtype=object)"
            ]
          },
          "metadata": {
            "tags": []
          },
          "execution_count": 20
        }
      ]
    },
    {
      "cell_type": "code",
      "metadata": {
        "id": "pKi9EVlY6chm"
      },
      "source": [
        "# Change the column to be bucket-style\n",
        "data1[\"Age\"]=age_bucket"
      ],
      "execution_count": null,
      "outputs": []
    },
    {
      "cell_type": "code",
      "metadata": {
        "id": "-D6bjYa-6chm"
      },
      "source": [
        "data1[\"Age\"] = data1[\"Age\"].fillna(\"Prefer not to say\")"
      ],
      "execution_count": null,
      "outputs": []
    },
    {
      "cell_type": "code",
      "metadata": {
        "id": "LVvzcICS6chm",
        "colab": {
          "base_uri": "https://localhost:8080/"
        },
        "outputId": "b54cfbe2-d471-4e1f-86fd-c19d9ecc0584"
      },
      "source": [
        "# Transform the data type (interval) into strings\n",
        "data1[\"Age\"] = data1[\"Age\"].astype(str)\n",
        "data1[\"Age\"].value_counts()"
      ],
      "execution_count": null,
      "outputs": [
        {
          "output_type": "execute_result",
          "data": {
            "text/plain": [
              "(18.0, 24.0]         10144\n",
              "(12.0, 18.0]          7244\n",
              "(24.0, 30.0]          2417\n",
              "(6.0, 12.0]            621\n",
              "Prefer not to say       34\n",
              "Name: Age, dtype: int64"
            ]
          },
          "metadata": {
            "tags": []
          },
          "execution_count": 23
        }
      ]
    },
    {
      "cell_type": "code",
      "metadata": {
        "id": "A7_d3Y4M6chm"
      },
      "source": [
        "# Encode label\n",
        "data1[['Age']] = label_encoder.fit_transform(data1[['Age']])"
      ],
      "execution_count": null,
      "outputs": []
    },
    {
      "cell_type": "code",
      "metadata": {
        "colab": {
          "base_uri": "https://localhost:8080/"
        },
        "id": "84qrOjJg6chm",
        "outputId": "a75e16c0-870f-4026-ca04-4f862ba96579"
      },
      "source": [
        "data1[\"Age\"].value_counts()"
      ],
      "execution_count": null,
      "outputs": [
        {
          "output_type": "execute_result",
          "data": {
            "text/plain": [
              "1    10144\n",
              "0     7244\n",
              "2     2417\n",
              "3      621\n",
              "4       34\n",
              "Name: Age, dtype: int64"
            ]
          },
          "metadata": {
            "tags": []
          },
          "execution_count": 25
        }
      ]
    },
    {
      "cell_type": "markdown",
      "metadata": {
        "id": "KXZ8ub0a6chn"
      },
      "source": [
        "##### Region"
      ]
    },
    {
      "cell_type": "code",
      "metadata": {
        "colab": {
          "base_uri": "https://localhost:8080/"
        },
        "id": "RNY9piEz6chn",
        "outputId": "151984d9-4833-4704-c506-4ac4cbb158d8"
      },
      "source": [
        "data1[\"Region\"].value_counts()"
      ],
      "execution_count": null,
      "outputs": [
        {
          "output_type": "execute_result",
          "data": {
            "text/plain": [
              "London                          2800\n",
              "Didn't Ask                      2537\n",
              "South East England              2272\n",
              "North West England              1609\n",
              "South West England              1460\n",
              "Prefer not to say               1432\n",
              "West Midlands                   1377\n",
              "East Midlands                   1237\n",
              "Yorkshire and the Humber        1237\n",
              "East of England                 1027\n",
              "Scotland                         999\n",
              "Wales                            811\n",
              "North East England               774\n",
              "Outside of the UK (Overseas)     482\n",
              "Northern Ireland                 272\n",
              "Isle of Man                       92\n",
              "Channel Islands                   42\n",
              "Name: Region, dtype: int64"
            ]
          },
          "metadata": {
            "tags": []
          },
          "execution_count": 26
        }
      ]
    },
    {
      "cell_type": "code",
      "metadata": {
        "id": "P4me_ZxK6chn"
      },
      "source": [
        "# Deal with missing values\n",
        "data1[\"Region\"] = data1[\"Region\"].replace([\"Didn't Ask\"],[\"Other\"])\n",
        "# data1[\"Region\"] = data1[\"Region\"].fillna(method=\"ffill\")"
      ],
      "execution_count": null,
      "outputs": []
    },
    {
      "cell_type": "code",
      "metadata": {
        "colab": {
          "base_uri": "https://localhost:8080/"
        },
        "id": "g59HTTzf6chn",
        "outputId": "16552245-5431-4a14-9556-376ed6ac5243"
      },
      "source": [
        "data1[\"Region\"].value_counts()"
      ],
      "execution_count": null,
      "outputs": [
        {
          "output_type": "execute_result",
          "data": {
            "text/plain": [
              "London                          2800\n",
              "Other                           2537\n",
              "South East England              2272\n",
              "North West England              1609\n",
              "South West England              1460\n",
              "Prefer not to say               1432\n",
              "West Midlands                   1377\n",
              "Yorkshire and the Humber        1237\n",
              "East Midlands                   1237\n",
              "East of England                 1027\n",
              "Scotland                         999\n",
              "Wales                            811\n",
              "North East England               774\n",
              "Outside of the UK (Overseas)     482\n",
              "Northern Ireland                 272\n",
              "Isle of Man                       92\n",
              "Channel Islands                   42\n",
              "Name: Region, dtype: int64"
            ]
          },
          "metadata": {
            "tags": []
          },
          "execution_count": 28
        }
      ]
    },
    {
      "cell_type": "code",
      "metadata": {
        "id": "Q_2BDSIW6chn"
      },
      "source": [
        "# Encode this column\n",
        "data1[['Region']] = label_encoder.fit_transform(data1[['Region']])"
      ],
      "execution_count": null,
      "outputs": []
    },
    {
      "cell_type": "code",
      "metadata": {
        "colab": {
          "base_uri": "https://localhost:8080/"
        },
        "id": "eM-xuIGx6cho",
        "outputId": "fa868aba-60a0-4424-bd0a-3ff7177c21dc"
      },
      "source": [
        "data1[\"Region\"].value_counts()"
      ],
      "execution_count": null,
      "outputs": [
        {
          "output_type": "execute_result",
          "data": {
            "text/plain": [
              "4     2800\n",
              "8     2537\n",
              "12    2272\n",
              "6     1609\n",
              "13    1460\n",
              "10    1432\n",
              "15    1377\n",
              "1     1237\n",
              "16    1237\n",
              "2     1027\n",
              "11     999\n",
              "14     811\n",
              "5      774\n",
              "9      482\n",
              "7      272\n",
              "3       92\n",
              "0       42\n",
              "Name: Region, dtype: int64"
            ]
          },
          "metadata": {
            "tags": []
          },
          "execution_count": 30
        }
      ]
    },
    {
      "cell_type": "markdown",
      "metadata": {
        "id": "KAGe67wJ6cho"
      },
      "source": [
        "##### Gender"
      ]
    },
    {
      "cell_type": "code",
      "metadata": {
        "colab": {
          "base_uri": "https://localhost:8080/"
        },
        "id": "UzrgAArb6cho",
        "outputId": "d682fa02-54cd-421c-ea74-35f79a0a58a3"
      },
      "source": [
        "data1[\"Gender\"].value_counts()"
      ],
      "execution_count": null,
      "outputs": [
        {
          "output_type": "execute_result",
          "data": {
            "text/plain": [
              "Female               14044\n",
              "Male                  4151\n",
              "We didn't ask         1381\n",
              "Prefer not to say      499\n",
              "Other                  268\n",
              "Transgender             78\n",
              "Non-Binary              21\n",
              "All genders             18\n",
              "Name: Gender, dtype: int64"
            ]
          },
          "metadata": {
            "tags": []
          },
          "execution_count": 31
        }
      ]
    },
    {
      "cell_type": "code",
      "metadata": {
        "id": "oziV-K_K6cho"
      },
      "source": [
        "# Deal with missing values\n",
        "data1[\"Gender\"] = data1[\"Gender\"].replace([\"We didn't ask\", \"All genders\", \"Transgender\",\"Non-Binary\"],[\"Other\",\"Other\",\"Other\",\"Other\"])\n",
        "# data1[\"Gender\"] = data1[\"Gender\"].fillna(\"Other\")"
      ],
      "execution_count": null,
      "outputs": []
    },
    {
      "cell_type": "code",
      "metadata": {
        "colab": {
          "base_uri": "https://localhost:8080/"
        },
        "id": "l7d1n74a6cho",
        "outputId": "45f97de8-91f0-4af3-a4de-b21957d76851"
      },
      "source": [
        "data1[\"Gender\"].value_counts()"
      ],
      "execution_count": null,
      "outputs": [
        {
          "output_type": "execute_result",
          "data": {
            "text/plain": [
              "Female               14044\n",
              "Male                  4151\n",
              "Other                 1766\n",
              "Prefer not to say      499\n",
              "Name: Gender, dtype: int64"
            ]
          },
          "metadata": {
            "tags": []
          },
          "execution_count": 33
        }
      ]
    },
    {
      "cell_type": "code",
      "metadata": {
        "id": "j7psDw0V6cho"
      },
      "source": [
        "# Encode this column\n",
        "data1[['Gender']] = label_encoder.fit_transform(data1[['Gender']])"
      ],
      "execution_count": null,
      "outputs": []
    },
    {
      "cell_type": "code",
      "metadata": {
        "colab": {
          "base_uri": "https://localhost:8080/"
        },
        "id": "V0JvdQ4r6chp",
        "outputId": "d221c977-e7f6-4fe8-d661-d9d771e3098a"
      },
      "source": [
        "data1[\"Gender\"].value_counts()"
      ],
      "execution_count": null,
      "outputs": [
        {
          "output_type": "execute_result",
          "data": {
            "text/plain": [
              "0    14044\n",
              "1     4151\n",
              "2     1766\n",
              "3      499\n",
              "Name: Gender, dtype: int64"
            ]
          },
          "metadata": {
            "tags": []
          },
          "execution_count": 35
        }
      ]
    },
    {
      "cell_type": "code",
      "metadata": {
        "colab": {
          "base_uri": "https://localhost:8080/",
          "height": 202
        },
        "id": "2_x-gQ1d6chp",
        "outputId": "80e3051b-bf59-4686-c227-0e86073f2dee"
      },
      "source": [
        "data1.head()"
      ],
      "execution_count": null,
      "outputs": [
        {
          "output_type": "execute_result",
          "data": {
            "text/html": [
              "<div>\n",
              "<style scoped>\n",
              "    .dataframe tbody tr th:only-of-type {\n",
              "        vertical-align: middle;\n",
              "    }\n",
              "\n",
              "    .dataframe tbody tr th {\n",
              "        vertical-align: top;\n",
              "    }\n",
              "\n",
              "    .dataframe thead th {\n",
              "        text-align: right;\n",
              "    }\n",
              "</style>\n",
              "<table border=\"1\" class=\"dataframe\">\n",
              "  <thead>\n",
              "    <tr style=\"text-align: right;\">\n",
              "      <th></th>\n",
              "      <th>Break Confidentiality?</th>\n",
              "      <th>Main Issue Category</th>\n",
              "      <th>Age</th>\n",
              "      <th>Region</th>\n",
              "      <th>Gender</th>\n",
              "    </tr>\n",
              "  </thead>\n",
              "  <tbody>\n",
              "    <tr>\n",
              "      <th>0</th>\n",
              "      <td>0</td>\n",
              "      <td>3</td>\n",
              "      <td>2</td>\n",
              "      <td>14</td>\n",
              "      <td>1</td>\n",
              "    </tr>\n",
              "    <tr>\n",
              "      <th>1</th>\n",
              "      <td>0</td>\n",
              "      <td>3</td>\n",
              "      <td>1</td>\n",
              "      <td>4</td>\n",
              "      <td>0</td>\n",
              "    </tr>\n",
              "    <tr>\n",
              "      <th>2</th>\n",
              "      <td>0</td>\n",
              "      <td>3</td>\n",
              "      <td>0</td>\n",
              "      <td>16</td>\n",
              "      <td>0</td>\n",
              "    </tr>\n",
              "    <tr>\n",
              "      <th>3</th>\n",
              "      <td>0</td>\n",
              "      <td>3</td>\n",
              "      <td>0</td>\n",
              "      <td>5</td>\n",
              "      <td>1</td>\n",
              "    </tr>\n",
              "    <tr>\n",
              "      <th>4</th>\n",
              "      <td>0</td>\n",
              "      <td>3</td>\n",
              "      <td>1</td>\n",
              "      <td>16</td>\n",
              "      <td>0</td>\n",
              "    </tr>\n",
              "  </tbody>\n",
              "</table>\n",
              "</div>"
            ],
            "text/plain": [
              "   Break Confidentiality?  Main Issue Category  Age  Region  Gender\n",
              "0                       0                    3    2      14       1\n",
              "1                       0                    3    1       4       0\n",
              "2                       0                    3    0      16       0\n",
              "3                       0                    3    0       5       1\n",
              "4                       0                    3    1      16       0"
            ]
          },
          "metadata": {
            "tags": []
          },
          "execution_count": 36
        }
      ]
    },
    {
      "cell_type": "code",
      "metadata": {
        "colab": {
          "base_uri": "https://localhost:8080/"
        },
        "id": "QUd7zV2D6chq",
        "outputId": "b01a9d51-5fc0-4785-9469-a344128f87c1"
      },
      "source": [
        "data1.info()"
      ],
      "execution_count": null,
      "outputs": [
        {
          "output_type": "stream",
          "text": [
            "<class 'pandas.core.frame.DataFrame'>\n",
            "RangeIndex: 20460 entries, 0 to 20459\n",
            "Data columns (total 5 columns):\n",
            " #   Column                  Non-Null Count  Dtype\n",
            "---  ------                  --------------  -----\n",
            " 0   Break Confidentiality?  20460 non-null  int64\n",
            " 1   Main Issue Category     20460 non-null  int64\n",
            " 2   Age                     20460 non-null  int64\n",
            " 3   Region                  20460 non-null  int64\n",
            " 4   Gender                  20460 non-null  int64\n",
            "dtypes: int64(5)\n",
            "memory usage: 799.3 KB\n"
          ],
          "name": "stdout"
        }
      ]
    },
    {
      "cell_type": "code",
      "metadata": {
        "id": "bqhoo8_x6chq"
      },
      "source": [
        "# Identify X and Y\n",
        "x = data1.drop(\"Break Confidentiality?\", axis=1) # drop labels for training set\n",
        "y = data1[\"Break Confidentiality?\"].copy()"
      ],
      "execution_count": null,
      "outputs": []
    },
    {
      "cell_type": "code",
      "metadata": {
        "id": "Yd80EL4q6chq"
      },
      "source": [
        "# Split into train and validation set\n",
        "x_train, x_test, y_train, y_test = train_test_split(x,y, test_size=0.2, random_state=0, stratify=y)"
      ],
      "execution_count": null,
      "outputs": []
    },
    {
      "cell_type": "code",
      "metadata": {
        "colab": {
          "base_uri": "https://localhost:8080/",
          "height": 614
        },
        "id": "JDRh2DBb6chq",
        "outputId": "e422463d-2ba0-4561-db57-b4df336beefe"
      },
      "source": [
        "x_train\n",
        "y_train"
      ],
      "execution_count": null,
      "outputs": [
        {
          "output_type": "execute_result",
          "data": {
            "text/html": [
              "<div>\n",
              "<style scoped>\n",
              "    .dataframe tbody tr th:only-of-type {\n",
              "        vertical-align: middle;\n",
              "    }\n",
              "\n",
              "    .dataframe tbody tr th {\n",
              "        vertical-align: top;\n",
              "    }\n",
              "\n",
              "    .dataframe thead th {\n",
              "        text-align: right;\n",
              "    }\n",
              "</style>\n",
              "<table border=\"1\" class=\"dataframe\">\n",
              "  <thead>\n",
              "    <tr style=\"text-align: right;\">\n",
              "      <th></th>\n",
              "      <th>Main Issue Category</th>\n",
              "      <th>Age</th>\n",
              "      <th>Region</th>\n",
              "      <th>Gender</th>\n",
              "    </tr>\n",
              "  </thead>\n",
              "  <tbody>\n",
              "    <tr>\n",
              "      <th>16409</th>\n",
              "      <td>3</td>\n",
              "      <td>1</td>\n",
              "      <td>7</td>\n",
              "      <td>0</td>\n",
              "    </tr>\n",
              "    <tr>\n",
              "      <th>12532</th>\n",
              "      <td>3</td>\n",
              "      <td>1</td>\n",
              "      <td>15</td>\n",
              "      <td>0</td>\n",
              "    </tr>\n",
              "    <tr>\n",
              "      <th>3642</th>\n",
              "      <td>3</td>\n",
              "      <td>0</td>\n",
              "      <td>16</td>\n",
              "      <td>1</td>\n",
              "    </tr>\n",
              "    <tr>\n",
              "      <th>8444</th>\n",
              "      <td>3</td>\n",
              "      <td>0</td>\n",
              "      <td>16</td>\n",
              "      <td>0</td>\n",
              "    </tr>\n",
              "    <tr>\n",
              "      <th>15011</th>\n",
              "      <td>5</td>\n",
              "      <td>1</td>\n",
              "      <td>16</td>\n",
              "      <td>0</td>\n",
              "    </tr>\n",
              "    <tr>\n",
              "      <th>...</th>\n",
              "      <td>...</td>\n",
              "      <td>...</td>\n",
              "      <td>...</td>\n",
              "      <td>...</td>\n",
              "    </tr>\n",
              "    <tr>\n",
              "      <th>1599</th>\n",
              "      <td>3</td>\n",
              "      <td>0</td>\n",
              "      <td>10</td>\n",
              "      <td>0</td>\n",
              "    </tr>\n",
              "    <tr>\n",
              "      <th>16113</th>\n",
              "      <td>3</td>\n",
              "      <td>2</td>\n",
              "      <td>1</td>\n",
              "      <td>0</td>\n",
              "    </tr>\n",
              "    <tr>\n",
              "      <th>3505</th>\n",
              "      <td>3</td>\n",
              "      <td>3</td>\n",
              "      <td>10</td>\n",
              "      <td>0</td>\n",
              "    </tr>\n",
              "    <tr>\n",
              "      <th>18460</th>\n",
              "      <td>3</td>\n",
              "      <td>0</td>\n",
              "      <td>4</td>\n",
              "      <td>0</td>\n",
              "    </tr>\n",
              "    <tr>\n",
              "      <th>15791</th>\n",
              "      <td>3</td>\n",
              "      <td>0</td>\n",
              "      <td>5</td>\n",
              "      <td>0</td>\n",
              "    </tr>\n",
              "  </tbody>\n",
              "</table>\n",
              "<p>16368 rows × 4 columns</p>\n",
              "</div>"
            ],
            "text/plain": [
              "       Main Issue Category  Age  Region  Gender\n",
              "16409                    3    1       7       0\n",
              "12532                    3    1      15       0\n",
              "3642                     3    0      16       1\n",
              "8444                     3    0      16       0\n",
              "15011                    5    1      16       0\n",
              "...                    ...  ...     ...     ...\n",
              "1599                     3    0      10       0\n",
              "16113                    3    2       1       0\n",
              "3505                     3    3      10       0\n",
              "18460                    3    0       4       0\n",
              "15791                    3    0       5       0\n",
              "\n",
              "[16368 rows x 4 columns]"
            ]
          },
          "metadata": {
            "tags": []
          },
          "execution_count": 40
        },
        {
          "output_type": "execute_result",
          "data": {
            "text/plain": [
              "16409    0\n",
              "12532    0\n",
              "3642     0\n",
              "8444     0\n",
              "15011    0\n",
              "        ..\n",
              "1599     0\n",
              "16113    0\n",
              "3505     0\n",
              "18460    0\n",
              "15791    0\n",
              "Name: Break Confidentiality?, Length: 16368, dtype: int64"
            ]
          },
          "metadata": {
            "tags": []
          },
          "execution_count": 40
        }
      ]
    },
    {
      "cell_type": "code",
      "metadata": {
        "colab": {
          "base_uri": "https://localhost:8080/",
          "height": 464
        },
        "id": "OydKmceR6chr",
        "outputId": "047c4fe2-0a80-4bfb-bc07-cb36584353cf"
      },
      "source": [
        "x_test\n",
        "y_train.value_counts()"
      ],
      "execution_count": null,
      "outputs": [
        {
          "output_type": "execute_result",
          "data": {
            "text/html": [
              "<div>\n",
              "<style scoped>\n",
              "    .dataframe tbody tr th:only-of-type {\n",
              "        vertical-align: middle;\n",
              "    }\n",
              "\n",
              "    .dataframe tbody tr th {\n",
              "        vertical-align: top;\n",
              "    }\n",
              "\n",
              "    .dataframe thead th {\n",
              "        text-align: right;\n",
              "    }\n",
              "</style>\n",
              "<table border=\"1\" class=\"dataframe\">\n",
              "  <thead>\n",
              "    <tr style=\"text-align: right;\">\n",
              "      <th></th>\n",
              "      <th>Main Issue Category</th>\n",
              "      <th>Age</th>\n",
              "      <th>Region</th>\n",
              "      <th>Gender</th>\n",
              "    </tr>\n",
              "  </thead>\n",
              "  <tbody>\n",
              "    <tr>\n",
              "      <th>10389</th>\n",
              "      <td>2</td>\n",
              "      <td>0</td>\n",
              "      <td>4</td>\n",
              "      <td>0</td>\n",
              "    </tr>\n",
              "    <tr>\n",
              "      <th>986</th>\n",
              "      <td>5</td>\n",
              "      <td>1</td>\n",
              "      <td>5</td>\n",
              "      <td>0</td>\n",
              "    </tr>\n",
              "    <tr>\n",
              "      <th>12439</th>\n",
              "      <td>3</td>\n",
              "      <td>1</td>\n",
              "      <td>8</td>\n",
              "      <td>2</td>\n",
              "    </tr>\n",
              "    <tr>\n",
              "      <th>3381</th>\n",
              "      <td>5</td>\n",
              "      <td>0</td>\n",
              "      <td>11</td>\n",
              "      <td>0</td>\n",
              "    </tr>\n",
              "    <tr>\n",
              "      <th>3907</th>\n",
              "      <td>3</td>\n",
              "      <td>0</td>\n",
              "      <td>13</td>\n",
              "      <td>0</td>\n",
              "    </tr>\n",
              "    <tr>\n",
              "      <th>...</th>\n",
              "      <td>...</td>\n",
              "      <td>...</td>\n",
              "      <td>...</td>\n",
              "      <td>...</td>\n",
              "    </tr>\n",
              "    <tr>\n",
              "      <th>14173</th>\n",
              "      <td>3</td>\n",
              "      <td>0</td>\n",
              "      <td>12</td>\n",
              "      <td>0</td>\n",
              "    </tr>\n",
              "    <tr>\n",
              "      <th>13862</th>\n",
              "      <td>3</td>\n",
              "      <td>3</td>\n",
              "      <td>16</td>\n",
              "      <td>0</td>\n",
              "    </tr>\n",
              "    <tr>\n",
              "      <th>11422</th>\n",
              "      <td>2</td>\n",
              "      <td>1</td>\n",
              "      <td>4</td>\n",
              "      <td>2</td>\n",
              "    </tr>\n",
              "    <tr>\n",
              "      <th>4449</th>\n",
              "      <td>3</td>\n",
              "      <td>2</td>\n",
              "      <td>10</td>\n",
              "      <td>0</td>\n",
              "    </tr>\n",
              "    <tr>\n",
              "      <th>3857</th>\n",
              "      <td>3</td>\n",
              "      <td>1</td>\n",
              "      <td>4</td>\n",
              "      <td>0</td>\n",
              "    </tr>\n",
              "  </tbody>\n",
              "</table>\n",
              "<p>4092 rows × 4 columns</p>\n",
              "</div>"
            ],
            "text/plain": [
              "       Main Issue Category  Age  Region  Gender\n",
              "10389                    2    0       4       0\n",
              "986                      5    1       5       0\n",
              "12439                    3    1       8       2\n",
              "3381                     5    0      11       0\n",
              "3907                     3    0      13       0\n",
              "...                    ...  ...     ...     ...\n",
              "14173                    3    0      12       0\n",
              "13862                    3    3      16       0\n",
              "11422                    2    1       4       2\n",
              "4449                     3    2      10       0\n",
              "3857                     3    1       4       0\n",
              "\n",
              "[4092 rows x 4 columns]"
            ]
          },
          "metadata": {
            "tags": []
          },
          "execution_count": 41
        },
        {
          "output_type": "execute_result",
          "data": {
            "text/plain": [
              "0    16068\n",
              "1      300\n",
              "Name: Break Confidentiality?, dtype: int64"
            ]
          },
          "metadata": {
            "tags": []
          },
          "execution_count": 41
        }
      ]
    },
    {
      "cell_type": "code",
      "metadata": {
        "colab": {
          "base_uri": "https://localhost:8080/"
        },
        "id": "Oe-_2oDs6chr",
        "outputId": "2b60f9e1-9b43-4fba-9574-31de7a4c15c5"
      },
      "source": [
        "y_train.value_counts()\n",
        "y_test.value_counts()"
      ],
      "execution_count": null,
      "outputs": [
        {
          "output_type": "execute_result",
          "data": {
            "text/plain": [
              "0    16068\n",
              "1      300\n",
              "Name: Break Confidentiality?, dtype: int64"
            ]
          },
          "metadata": {
            "tags": []
          },
          "execution_count": 42
        },
        {
          "output_type": "execute_result",
          "data": {
            "text/plain": [
              "0    4017\n",
              "1      75\n",
              "Name: Break Confidentiality?, dtype: int64"
            ]
          },
          "metadata": {
            "tags": []
          },
          "execution_count": 42
        }
      ]
    },
    {
      "cell_type": "code",
      "metadata": {
        "colab": {
          "base_uri": "https://localhost:8080/"
        },
        "id": "U_lKdZZl6chr",
        "outputId": "bed0037a-2ad9-4110-a215-9a99b035ff70"
      },
      "source": [
        "# Smooth the unbalanced data\n",
        "! pip install imblearn\n",
        "! pip install delayed\n",
        "from imblearn.over_sampling import SMOTE\n",
        "from sklearn.model_selection import train_test_split\n",
        "smo = SMOTE()"
      ],
      "execution_count": null,
      "outputs": [
        {
          "output_type": "stream",
          "text": [
            "Requirement already satisfied: imblearn in /usr/local/lib/python3.7/dist-packages (0.0)\n",
            "Requirement already satisfied: imbalanced-learn in /usr/local/lib/python3.7/dist-packages (from imblearn) (0.4.3)\n",
            "Requirement already satisfied: scipy>=0.13.3 in /usr/local/lib/python3.7/dist-packages (from imbalanced-learn->imblearn) (1.4.1)\n",
            "Requirement already satisfied: numpy>=1.8.2 in /usr/local/lib/python3.7/dist-packages (from imbalanced-learn->imblearn) (1.19.5)\n",
            "Requirement already satisfied: scikit-learn>=0.20 in /usr/local/lib/python3.7/dist-packages (from imbalanced-learn->imblearn) (0.22.2.post1)\n",
            "Requirement already satisfied: joblib>=0.11 in /usr/local/lib/python3.7/dist-packages (from scikit-learn>=0.20->imbalanced-learn->imblearn) (1.0.1)\n",
            "Collecting delayed\n",
            "  Downloading https://files.pythonhosted.org/packages/7b/80/96302b67fe8d324af597748d5eef9cfb98bb1e6590b5f25a5b58b5e6f93f/delayed-0.11.0b1-py2.py3-none-any.whl\n",
            "Collecting redis\n",
            "\u001b[?25l  Downloading https://files.pythonhosted.org/packages/a7/7c/24fb0511df653cf1a5d938d8f5d19802a88cef255706fdda242ff97e91b7/redis-3.5.3-py2.py3-none-any.whl (72kB)\n",
            "\u001b[K     |████████████████████████████████| 81kB 4.4MB/s \n",
            "\u001b[?25hCollecting hiredis\n",
            "\u001b[?25l  Downloading https://files.pythonhosted.org/packages/ed/33/290cea35b09c80b4634773ad5572a8030a87b5d39736719f698f521d2a13/hiredis-2.0.0-cp37-cp37m-manylinux2010_x86_64.whl (85kB)\n",
            "\u001b[K     |████████████████████████████████| 92kB 9.4MB/s \n",
            "\u001b[?25hInstalling collected packages: redis, hiredis, delayed\n",
            "Successfully installed delayed-0.11.0b1 hiredis-2.0.0 redis-3.5.3\n"
          ],
          "name": "stdout"
        }
      ]
    },
    {
      "cell_type": "code",
      "metadata": {
        "id": "cx4HWQjguvxZ"
      },
      "source": [
        "# Only need to balance the training data\n",
        "x_train_balanced, y_train_balanced = smo.fit_resample(x_train, y_train)"
      ],
      "execution_count": null,
      "outputs": []
    },
    {
      "cell_type": "code",
      "metadata": {
        "colab": {
          "base_uri": "https://localhost:8080/"
        },
        "id": "W98GqfCk6chr",
        "outputId": "03b074e9-fe2e-41b5-f57a-52fbbc3c22d9"
      },
      "source": [
        "# Check again the balance of dataset\n",
        "from collections import Counter\n",
        "print('Counter(y_train)\\n',Counter(y_train_balanced)) # Employ Counter()"
      ],
      "execution_count": null,
      "outputs": [
        {
          "output_type": "stream",
          "text": [
            "Counter(y_train)\n",
            " Counter({0: 16068, 1: 16068})\n"
          ],
          "name": "stdout"
        }
      ]
    },
    {
      "cell_type": "code",
      "metadata": {
        "colab": {
          "base_uri": "https://localhost:8080/"
        },
        "id": "M6ZrS6wQ6chr",
        "outputId": "052d0da2-00ce-44cd-d763-e8f48e8c00ee"
      },
      "source": [
        "data1.info()"
      ],
      "execution_count": null,
      "outputs": [
        {
          "output_type": "stream",
          "text": [
            "<class 'pandas.core.frame.DataFrame'>\n",
            "RangeIndex: 20460 entries, 0 to 20459\n",
            "Data columns (total 5 columns):\n",
            " #   Column                  Non-Null Count  Dtype\n",
            "---  ------                  --------------  -----\n",
            " 0   Break Confidentiality?  20460 non-null  int64\n",
            " 1   Main Issue Category     20460 non-null  int64\n",
            " 2   Age                     20460 non-null  int64\n",
            " 3   Region                  20460 non-null  int64\n",
            " 4   Gender                  20460 non-null  int64\n",
            "dtypes: int64(5)\n",
            "memory usage: 799.3 KB\n"
          ],
          "name": "stdout"
        }
      ]
    },
    {
      "cell_type": "markdown",
      "metadata": {
        "id": "qoHoStFN6chs"
      },
      "source": [
        "## **Machine Learning Task**"
      ]
    },
    {
      "cell_type": "markdown",
      "metadata": {
        "id": "P05qqmdhIGgB"
      },
      "source": [
        "In this machine learning task, I would like to try on the logistic regrssion model, random forest classification model, and simple neural network.\n",
        "\n",
        "Since the objective of this task is to identify teenagers who suffer from the life-threatening situations, referred to label \"1\", against all teenages, the cost of false negatives will be much higher than false positives. Regarding a confusion matrics, I would like to decrease false negatives to increase recall, that is, out of actual cases of life-risking issues, I am supposed to correctly identify and classify them as many as possible."
      ]
    },
    {
      "cell_type": "markdown",
      "metadata": {
        "id": "Bky6Ctou6chs"
      },
      "source": [
        "##### ***Logistic Regression***"
      ]
    },
    {
      "cell_type": "code",
      "metadata": {
        "colab": {
          "base_uri": "https://localhost:8080/",
          "height": 466
        },
        "id": "YUVWsMRU6chs",
        "outputId": "c6cd2e34-0c49-4031-af46-b192eb3edf60"
      },
      "source": [
        "# Import logistic regression model\n",
        "from sklearn.linear_model import LogisticRegression\n",
        "clf = LogisticRegression(C=1.0, solver='lbfgs') # use the default C at 1.0 indicates a default degree of regularization strength\n",
        "clf.fit(x_train_balanced, y_train_balanced) # 'lbfgs’ solvers support only L2 regularization\n",
        "y_test_pred = clf.predict(x_test)\n",
        "\n",
        "# Check recall score and precision score\n",
        "# Show a precision and recall metrics\n",
        "from sklearn import metrics\n",
        "from sklearn.metrics import precision_score,recall_score, roc_curve, roc_auc_score\n",
        "\n",
        "print(\"Recall Score\",\"{:.2%}\".format(recall_score(y_test, y_test_pred)))\n",
        "print(\"Precision Score:\",\"{:.2%}\".format((precision_score(y_test, y_test_pred))))\n",
        "\n",
        "# Check the ROC curve\n",
        "# Calculate the roc metrics\n",
        "fpr, tpr, thresholds = roc_curve(y_test, y_test_pred)\n",
        "\n",
        "# Plot the ROC curve\n",
        "plt.plot(fpr, tpr)\n",
        "\n",
        "# Add labels and diagonal line\n",
        "plt.xlabel(\"False Positive Rate\")\n",
        "plt.ylabel(\"True Positive Rate\")\n",
        "plt.title(\"ROC_AUC_Curve\")\n",
        "plt.plot([0, 1], [0, 1], \"k--\")\n",
        "plt.text(0.7,0.3,\"AUC≈0.666\", color=\"blue\", backgroundcolor=\"yellow\")\n",
        "save_fig(\"simple logit\")\n",
        "plt.show()\n",
        "\n",
        "# Print the AUC\n",
        "print(\"ROC_AUC_Score:\",\"{:.2%}\".format(roc_auc_score(y_test, y_test_pred)))"
      ],
      "execution_count": null,
      "outputs": [
        {
          "output_type": "execute_result",
          "data": {
            "text/plain": [
              "LogisticRegression(C=1.0, class_weight=None, dual=False, fit_intercept=True,\n",
              "                   intercept_scaling=1, l1_ratio=None, max_iter=100,\n",
              "                   multi_class='auto', n_jobs=None, penalty='l2',\n",
              "                   random_state=None, solver='lbfgs', tol=0.0001, verbose=0,\n",
              "                   warm_start=False)"
            ]
          },
          "metadata": {
            "tags": []
          },
          "execution_count": 48
        },
        {
          "output_type": "stream",
          "text": [
            "Recall Score 93.33%\n",
            "Precision Score: 2.93%\n"
          ],
          "name": "stdout"
        },
        {
          "output_type": "execute_result",
          "data": {
            "text/plain": [
              "[<matplotlib.lines.Line2D at 0x7f8efd502d90>]"
            ]
          },
          "metadata": {
            "tags": []
          },
          "execution_count": 48
        },
        {
          "output_type": "execute_result",
          "data": {
            "text/plain": [
              "Text(0.5, 0, 'False Positive Rate')"
            ]
          },
          "metadata": {
            "tags": []
          },
          "execution_count": 48
        },
        {
          "output_type": "execute_result",
          "data": {
            "text/plain": [
              "Text(0, 0.5, 'True Positive Rate')"
            ]
          },
          "metadata": {
            "tags": []
          },
          "execution_count": 48
        },
        {
          "output_type": "execute_result",
          "data": {
            "text/plain": [
              "Text(0.5, 1.0, 'ROC_AUC_Curve')"
            ]
          },
          "metadata": {
            "tags": []
          },
          "execution_count": 48
        },
        {
          "output_type": "execute_result",
          "data": {
            "text/plain": [
              "[<matplotlib.lines.Line2D at 0x7f8efd50d310>]"
            ]
          },
          "metadata": {
            "tags": []
          },
          "execution_count": 48
        },
        {
          "output_type": "execute_result",
          "data": {
            "text/plain": [
              "Text(0.7, 0.3, 'AUC≈0.666')"
            ]
          },
          "metadata": {
            "tags": []
          },
          "execution_count": 48
        },
        {
          "output_type": "stream",
          "text": [
            "Saving figure simple logit\n"
          ],
          "name": "stdout"
        },
        {
          "output_type": "display_data",
          "data": {
            "image/png": "[encoded data removed]",
            "text/plain": [
              "<Figure size 432x288 with 1 Axes>"
            ]
          },
          "metadata": {
            "tags": [],
            "needs_background": "light"
          }
        },
        {
          "output_type": "stream",
          "text": [
            "ROC_AUC_Score: 67.79%\n"
          ],
          "name": "stdout"
        }
      ]
    },
    {
      "cell_type": "code",
      "metadata": {
        "id": "tjYkzk1-f7c9"
      },
      "source": [
        "# y_test_pred_class = clf.predict_classes(x_test, verbose=0)\n",
        "\n",
        "# # reduce to 1-d array\n",
        "# y_test_pred_class = y_test_pred_class[:,0]\n",
        "# y_test_pred_class"
      ],
      "execution_count": null,
      "outputs": []
    },
    {
      "cell_type": "code",
      "metadata": {
        "colab": {
          "base_uri": "https://localhost:8080/"
        },
        "id": "LRkUuJ7jf-Zg",
        "outputId": "947f90a0-3ac1-41e8-b764-9afdd2329269"
      },
      "source": [
        "# accuracy: (tp + tn) / (p + n)\n",
        "print('Accuracy for test set:', \"{:.2%}\".format(accuracy_score(y_test, y_test_pred)))\n",
        "print('Accuracy for train set:', \"{:.2%}\".format(accuracy_score(y_train, clf.predict(x_train))))\n",
        "\n",
        "# precision tp / (tp + fp)\n",
        "print(\"Precision:\", \"{:.2%}\".format(precision_score(y_test, y_test_pred)))\n",
        "\n",
        "\n",
        "# recall: tp / (tp + fn)\n",
        "print(\"Recall:\", \"{:.2%}\".format(recall_score(y_test, y_test_pred)))\n",
        "\n",
        "# f1: 2 tp / (2 tp + fp + fn)\n",
        "print(\"F1-score:\", \"{:.2%}\".format(f1_score(y_test, y_test_pred)))"
      ],
      "execution_count": null,
      "outputs": [
        {
          "output_type": "stream",
          "text": [
            "Accuracy for test set: 43.18%\n",
            "Accuracy for train set: 42.50%\n",
            "Precision: 2.93%\n",
            "Recall: 93.33%\n",
            "F1-score: 5.68%\n"
          ],
          "name": "stdout"
        }
      ]
    },
    {
      "cell_type": "markdown",
      "metadata": {
        "id": "h_DHX5z26chs"
      },
      "source": [
        "##### ***Random Forest***"
      ]
    },
    {
      "cell_type": "code",
      "metadata": {
        "colab": {
          "base_uri": "https://localhost:8080/",
          "height": 516
        },
        "id": "lBndAGdo6cht",
        "outputId": "32070161-6be7-4110-e061-abaf5875afd1"
      },
      "source": [
        "# Import random forest classifier\n",
        "from sklearn.ensemble import RandomForestClassifier\n",
        "\n",
        "# Fit the RandomForestClassifier to training dataset\n",
        "rfc = RandomForestClassifier()\n",
        "rfc.fit(x_train_balanced, y_train_balanced)\n",
        "y_test_pred = rfc.predict(x_test)\n",
        "\n",
        "# Check recall score and precision score\n",
        "# Show a precision and recall metrics\n",
        "from sklearn import metrics\n",
        "from sklearn.metrics import precision_score,recall_score, roc_curve, roc_auc_score\n",
        "\n",
        "print(\"Recall Score\",\"{:.2%}\".format(recall_score(y_test, y_test_pred)))\n",
        "print(\"Precision Score:\",\"{:.2%}\".format((precision_score(y_test, y_test_pred))))\n",
        "\n",
        "# Check the ROC curve\n",
        "# Calculate the roc metrics\n",
        "fpr, tpr, thresholds = roc_curve(y_test, y_test_pred)\n",
        "\n",
        "# Plot the ROC curve\n",
        "plt.plot(fpr, tpr)\n",
        "\n",
        "# Add labels and diagonal line\n",
        "plt.xlabel(\"False Positive Rate\")\n",
        "plt.ylabel(\"True Positive Rate\")\n",
        "plt.title(\"ROC_AUC_Curve\")\n",
        "plt.plot([0, 1], [0, 1], \"k--\")\n",
        "plt.text(0.7,0.3,\"AUC≈0.705\", color=\"blue\", backgroundcolor=\"yellow\")\n",
        "save_fig(\"rfm\")\n",
        "plt.show()\n",
        "\n",
        "# Print the AUC\n",
        "print(\"ROC_AUC_Score:\",\"{:.2%}\".format(roc_auc_score(y_test, y_test_pred)))"
      ],
      "execution_count": null,
      "outputs": [
        {
          "output_type": "execute_result",
          "data": {
            "text/plain": [
              "RandomForestClassifier(bootstrap=True, ccp_alpha=0.0, class_weight=None,\n",
              "                       criterion='gini', max_depth=None, max_features='auto',\n",
              "                       max_leaf_nodes=None, max_samples=None,\n",
              "                       min_impurity_decrease=0.0, min_impurity_split=None,\n",
              "                       min_samples_leaf=1, min_samples_split=2,\n",
              "                       min_weight_fraction_leaf=0.0, n_estimators=100,\n",
              "                       n_jobs=None, oob_score=False, random_state=None,\n",
              "                       verbose=0, warm_start=False)"
            ]
          },
          "metadata": {
            "tags": []
          },
          "execution_count": 55
        },
        {
          "output_type": "stream",
          "text": [
            "Recall Score 70.67%\n",
            "Precision Score: 4.26%\n"
          ],
          "name": "stdout"
        },
        {
          "output_type": "execute_result",
          "data": {
            "text/plain": [
              "[<matplotlib.lines.Line2D at 0x7f8efc60ea90>]"
            ]
          },
          "metadata": {
            "tags": []
          },
          "execution_count": 55
        },
        {
          "output_type": "execute_result",
          "data": {
            "text/plain": [
              "Text(0.5, 0, 'False Positive Rate')"
            ]
          },
          "metadata": {
            "tags": []
          },
          "execution_count": 55
        },
        {
          "output_type": "execute_result",
          "data": {
            "text/plain": [
              "Text(0, 0.5, 'True Positive Rate')"
            ]
          },
          "metadata": {
            "tags": []
          },
          "execution_count": 55
        },
        {
          "output_type": "execute_result",
          "data": {
            "text/plain": [
              "Text(0.5, 1.0, 'ROC_AUC_Curve')"
            ]
          },
          "metadata": {
            "tags": []
          },
          "execution_count": 55
        },
        {
          "output_type": "execute_result",
          "data": {
            "text/plain": [
              "[<matplotlib.lines.Line2D at 0x7f8efc64c610>]"
            ]
          },
          "metadata": {
            "tags": []
          },
          "execution_count": 55
        },
        {
          "output_type": "execute_result",
          "data": {
            "text/plain": [
              "Text(0.7, 0.3, 'AUC≈0.705')"
            ]
          },
          "metadata": {
            "tags": []
          },
          "execution_count": 55
        },
        {
          "output_type": "stream",
          "text": [
            "Saving figure rfm\n"
          ],
          "name": "stdout"
        },
        {
          "output_type": "display_data",
          "data": {
            "image/png": "[encoded data removed]",
            "text/plain": [
              "<Figure size 432x288 with 1 Axes>"
            ]
          },
          "metadata": {
            "tags": [],
            "needs_background": "light"
          }
        },
        {
          "output_type": "stream",
          "text": [
            "ROC_AUC_Score: 70.52%\n"
          ],
          "name": "stdout"
        }
      ]
    },
    {
      "cell_type": "code",
      "metadata": {
        "id": "iB0RtJVtgG_P"
      },
      "source": [
        "# y_test_pred_class = rfc.predict_classes(x_test, verbose=0)\n",
        "\n",
        "# # reduce to 1-d array\n",
        "# y_test_pred_class = y_test_pred_class[:,0]\n",
        "# y_test_pred_class"
      ],
      "execution_count": null,
      "outputs": []
    },
    {
      "cell_type": "code",
      "metadata": {
        "colab": {
          "base_uri": "https://localhost:8080/"
        },
        "id": "UXwYgEeWgJcP",
        "outputId": "d091cd5c-9348-4e0b-e0c2-5489680261ce"
      },
      "source": [
        "# accuracy: (tp + tn) / (p + n)\n",
        "print('Accuracy for test set:', \"{:.2%}\".format(accuracy_score(y_test, y_test_pred)))\n",
        "print('Accuracy for train set:', \"{:.2%}\".format(accuracy_score(y_train, rfc.predict(x_train))))\n",
        "\n",
        "# precision tp / (tp + fp)\n",
        "print(\"Precision:\", \"{:.2%}\".format(precision_score(y_test, y_test_pred)))\n",
        "\n",
        "\n",
        "# recall: tp / (tp + fn)\n",
        "print(\"Recall:\", \"{:.2%}\".format(recall_score(y_test, y_test_pred)))\n",
        "\n",
        "# f1: 2 tp / (2 tp + fp + fn)\n",
        "print(\"F1-score:\", \"{:.2%}\".format(f1_score(y_test, y_test_pred)))"
      ],
      "execution_count": null,
      "outputs": [
        {
          "output_type": "stream",
          "text": [
            "Accuracy for test set: 70.38%\n",
            "Accuracy for train set: 70.89%\n",
            "Precision: 4.26%\n",
            "Recall: 70.67%\n",
            "F1-score: 8.04%\n"
          ],
          "name": "stdout"
        }
      ]
    },
    {
      "cell_type": "markdown",
      "metadata": {
        "id": "Etun1F6C6cht"
      },
      "source": [
        "##### ***Simple Neural Networks***"
      ]
    },
    {
      "cell_type": "code",
      "metadata": {
        "colab": {
          "base_uri": "https://localhost:8080/"
        },
        "id": "MuK9LyNc6cht",
        "outputId": "2db472f3-2202-4c62-c954-dd5f6f938a31"
      },
      "source": [
        "# Load packages\n",
        "! pip install keras\n",
        "from keras.models import Sequential\n",
        "from keras import layers"
      ],
      "execution_count": null,
      "outputs": [
        {
          "output_type": "stream",
          "text": [
            "Requirement already satisfied: keras in /usr/local/lib/python3.7/dist-packages (2.4.3)\n",
            "Requirement already satisfied: pyyaml in /usr/local/lib/python3.7/dist-packages (from keras) (3.13)\n",
            "Requirement already satisfied: numpy>=1.9.1 in /usr/local/lib/python3.7/dist-packages (from keras) (1.19.5)\n",
            "Requirement already satisfied: h5py in /usr/local/lib/python3.7/dist-packages (from keras) (3.1.0)\n",
            "Requirement already satisfied: scipy>=0.14 in /usr/local/lib/python3.7/dist-packages (from keras) (1.4.1)\n",
            "Requirement already satisfied: cached-property; python_version < \"3.8\" in /usr/local/lib/python3.7/dist-packages (from h5py->keras) (1.5.2)\n"
          ],
          "name": "stdout"
        }
      ]
    },
    {
      "cell_type": "code",
      "metadata": {
        "colab": {
          "base_uri": "https://localhost:8080/"
        },
        "id": "hZSjoZNh6chu",
        "outputId": "2bcecca1-d6fe-4fa0-cffa-d739d62c35d7"
      },
      "source": [
        "x_train_balanced.shape[1] # Number of features input"
      ],
      "execution_count": null,
      "outputs": [
        {
          "output_type": "execute_result",
          "data": {
            "text/plain": [
              "4"
            ]
          },
          "metadata": {
            "tags": []
          },
          "execution_count": 62
        }
      ]
    },
    {
      "cell_type": "code",
      "metadata": {
        "id": "EX2H2jpP6chu"
      },
      "source": [
        "input_dim = x_train_balanced.shape[1]\n",
        "model = Sequential()\n",
        "model.add(layers.Dense(10, input_dim=input_dim, kernel_initializer = \"uniform\", activation='relu')) # first hidden layer\n",
        "model.add(layers.Dense(12, input_dim=input_dim, kernel_initializer = \"uniform\", activation='relu')) # second hidden layer\n",
        "model.add(layers.Dense(1, activation='sigmoid')) # output layer: use the sigmoid activation function so that you can get the probability"
      ],
      "execution_count": null,
      "outputs": []
    },
    {
      "cell_type": "code",
      "metadata": {
        "colab": {
          "base_uri": "https://localhost:8080/"
        },
        "id": "o65FT8PA6chu",
        "outputId": "e460ff7b-504a-4f3f-fdc3-9bca5a8dd33a"
      },
      "source": [
        "# Use compile() to configure the learning process\n",
        "# Specify the optimizer and the loss function\n",
        "model.compile(loss='binary_crossentropy', optimizer='adam',metrics=['accuracy'])\n",
        "model.summary()"
      ],
      "execution_count": null,
      "outputs": [
        {
          "output_type": "stream",
          "text": [
            "Model: \"sequential\"\n",
            "_________________________________________________________________\n",
            "Layer (type)                 Output Shape              Param #   \n",
            "=================================================================\n",
            "dense (Dense)                (None, 10)                50        \n",
            "_________________________________________________________________\n",
            "dense_1 (Dense)              (None, 12)                132       \n",
            "_________________________________________________________________\n",
            "dense_2 (Dense)              (None, 1)                 13        \n",
            "=================================================================\n",
            "Total params: 195\n",
            "Trainable params: 195\n",
            "Non-trainable params: 0\n",
            "_________________________________________________________________\n"
          ],
          "name": "stdout"
        }
      ]
    },
    {
      "cell_type": "code",
      "metadata": {
        "colab": {
          "base_uri": "https://localhost:8080/"
        },
        "id": "iQZ6jLn26chu",
        "outputId": "5ecfbd04-2e73-44df-9b68-5f9fccfc87e7"
      },
      "source": [
        "model.fit(x_train_balanced, y_train_balanced, \n",
        "                  epochs=20, verbose=False,\n",
        "                  validation_data=(x_test, y_test),\n",
        "                  batch_size=20)\n",
        "# The batch_size represents the number of samples that will go through the neural network at each training round.\n",
        "# Epochs represents the number of times that the dataset will be passed via the neural network.\n",
        "# The more epochs the longer it will take to run your model, which also gives you better results."
      ],
      "execution_count": null,
      "outputs": [
        {
          "output_type": "execute_result",
          "data": {
            "text/plain": [
              "<keras.callbacks.History at 0x7f8ebd1dc0d0>"
            ]
          },
          "metadata": {
            "tags": []
          },
          "execution_count": 65
        }
      ]
    },
    {
      "cell_type": "code",
      "metadata": {
        "colab": {
          "base_uri": "https://localhost:8080/"
        },
        "id": "Y6WEU_GZ6chu",
        "outputId": "35c08193-dbdc-4fb9-8178-86aa88227a82"
      },
      "source": [
        "y_test_pred = model.predict(x_test)\n",
        "y_test_pred = (y_test_pred > 0.5)\n",
        "# I assume a probability of 50% and above to indicate a high chance of \"break confidentiality\".\n",
        "\n",
        "from sklearn.metrics import confusion_matrix\n",
        "cm = confusion_matrix(y_test, y_test_pred)\n",
        "cm"
      ],
      "execution_count": null,
      "outputs": [
        {
          "output_type": "execute_result",
          "data": {
            "text/plain": [
              "array([[2183, 1834],\n",
              "       [  14,   61]])"
            ]
          },
          "metadata": {
            "tags": []
          },
          "execution_count": 66
        }
      ]
    },
    {
      "cell_type": "code",
      "metadata": {
        "colab": {
          "base_uri": "https://localhost:8080/",
          "height": 400
        },
        "id": "VdqjxFdC6chv",
        "outputId": "bba34436-6d41-4c3a-921c-fbcb2dbc88be"
      },
      "source": [
        "# Check recall score and precision score\n",
        "# Show a precision and recall metrics\n",
        "from sklearn import metrics\n",
        "from sklearn.metrics import precision_score,recall_score, roc_curve, roc_auc_score\n",
        "\n",
        "print(\"Recall Score\",\"{:.2%}\".format(recall_score(y_test, y_test_pred)))\n",
        "print(\"Precision Score:\",\"{:.2%}\".format((precision_score(y_test, y_test_pred))))\n",
        "\n",
        "# Check the ROC curve\n",
        "# Calculate the roc metrics\n",
        "fpr, tpr, thresholds = roc_curve(y_test, y_test_pred)\n",
        "\n",
        "# Plot the ROC curve\n",
        "plt.plot(fpr, tpr)\n",
        "\n",
        "# Add labels and diagonal line\n",
        "plt.xlabel(\"False Positive Rate\")\n",
        "plt.ylabel(\"True Positive Rate\")\n",
        "plt.title(\"ROC_AUC_Curve\")\n",
        "plt.plot([0, 1], [0, 1], \"k--\")\n",
        "plt.text(0.7,0.3,\"AUC≈0.672\", color=\"blue\", backgroundcolor=\"yellow\")\n",
        "save_fig(\"simple ann\")\n",
        "plt.show()\n",
        "\n",
        "# Print the AUC\n",
        "print(\"ROC_AUC_Score:\",\"{:.2%}\".format(roc_auc_score(y_test, y_test_pred)))"
      ],
      "execution_count": null,
      "outputs": [
        {
          "output_type": "stream",
          "text": [
            "Recall Score 81.33%\n",
            "Precision Score: 3.22%\n"
          ],
          "name": "stdout"
        },
        {
          "output_type": "execute_result",
          "data": {
            "text/plain": [
              "[<matplotlib.lines.Line2D at 0x7f8ebc674250>]"
            ]
          },
          "metadata": {
            "tags": []
          },
          "execution_count": 67
        },
        {
          "output_type": "execute_result",
          "data": {
            "text/plain": [
              "Text(0.5, 0, 'False Positive Rate')"
            ]
          },
          "metadata": {
            "tags": []
          },
          "execution_count": 67
        },
        {
          "output_type": "execute_result",
          "data": {
            "text/plain": [
              "Text(0, 0.5, 'True Positive Rate')"
            ]
          },
          "metadata": {
            "tags": []
          },
          "execution_count": 67
        },
        {
          "output_type": "execute_result",
          "data": {
            "text/plain": [
              "Text(0.5, 1.0, 'ROC_AUC_Curve')"
            ]
          },
          "metadata": {
            "tags": []
          },
          "execution_count": 67
        },
        {
          "output_type": "execute_result",
          "data": {
            "text/plain": [
              "[<matplotlib.lines.Line2D at 0x7f8ebc828410>]"
            ]
          },
          "metadata": {
            "tags": []
          },
          "execution_count": 67
        },
        {
          "output_type": "execute_result",
          "data": {
            "text/plain": [
              "Text(0.7, 0.3, 'AUC≈0.672')"
            ]
          },
          "metadata": {
            "tags": []
          },
          "execution_count": 67
        },
        {
          "output_type": "stream",
          "text": [
            "Saving figure simple ann\n"
          ],
          "name": "stdout"
        },
        {
          "output_type": "display_data",
          "data": {
            "image/png": "[encoded data removed]",
            "text/plain": [
              "<Figure size 432x288 with 1 Axes>"
            ]
          },
          "metadata": {
            "tags": [],
            "needs_background": "light"
          }
        },
        {
          "output_type": "stream",
          "text": [
            "ROC_AUC_Score: 67.84%\n"
          ],
          "name": "stdout"
        }
      ]
    },
    {
      "cell_type": "code",
      "metadata": {
        "colab": {
          "base_uri": "https://localhost:8080/"
        },
        "id": "sO2vb81Gn6uI",
        "outputId": "296e0cce-0907-4a9f-ea59-85d1a269262f"
      },
      "source": [
        "y_test_pred_class = model.predict_classes(x_test, verbose=0)\n",
        "\n",
        "# reduce to 1-d array\n",
        "y_test_pred_class = y_test_pred_class[:,0]\n",
        "y_test_pred_class"
      ],
      "execution_count": null,
      "outputs": [
        {
          "output_type": "execute_result",
          "data": {
            "text/plain": [
              "array([0, 0, 1, ..., 0, 1, 1], dtype=int32)"
            ]
          },
          "metadata": {
            "tags": []
          },
          "execution_count": 68
        }
      ]
    },
    {
      "cell_type": "code",
      "metadata": {
        "colab": {
          "base_uri": "https://localhost:8080/"
        },
        "id": "HNAQ4uuWn_cr",
        "outputId": "570e9d40-aa5d-4b19-92cd-b6a942e7747d"
      },
      "source": [
        "# accuracy: (tp + tn) / (p + n)\n",
        "print('Accuracy for test set:', \"{:.2%}\".format(accuracy_score(y_test, y_test_pred_class)))\n",
        "print('Accuracy for train set:', \"{:.2%}\".format(accuracy_score(y_train, model.predict_classes(x_train))))\n",
        "\n",
        "# precision tp / (tp + fp)\n",
        "print(\"Precision:\", \"{:.2%}\".format(precision_score(y_test, y_test_pred_class)))\n",
        "\n",
        "\n",
        "# recall: tp / (tp + fn)\n",
        "print(\"Recall:\", \"{:.2%}\".format(recall_score(y_test, y_test_pred_class)))\n",
        "\n",
        "# f1: 2 tp / (2 tp + fp + fn)\n",
        "print(\"F1-score:\", \"{:.2%}\".format(f1_score(y_test, y_test_pred_class)))"
      ],
      "execution_count": null,
      "outputs": [
        {
          "output_type": "stream",
          "text": [
            "Accuracy for test set: 54.84%\n",
            "Accuracy for train set: 55.41%\n",
            "Precision: 3.22%\n",
            "Recall: 81.33%\n",
            "F1-score: 6.19%\n"
          ],
          "name": "stdout"
        }
      ]
    }
  ]
}