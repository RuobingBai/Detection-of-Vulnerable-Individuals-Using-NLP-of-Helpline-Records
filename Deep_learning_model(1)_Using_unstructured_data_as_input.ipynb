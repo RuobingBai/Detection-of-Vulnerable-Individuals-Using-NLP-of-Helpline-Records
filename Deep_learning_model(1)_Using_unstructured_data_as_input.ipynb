{
  "nbformat": 4,
  "nbformat_minor": 0,
  "metadata": {
    "colab": {
      "name": "Deep learning model(1)_Using unstructured data as input.ipynb",
      "provenance": [],
      "collapsed_sections": [],
      "toc_visible": true,
      "machine_shape": "hm",
      "authorship_tag": "ABX9TyMmMUNlTXhW0AdQ/uoLeMdh",
      "include_colab_link": true
    },
    "kernelspec": {
      "display_name": "Python 3",
      "name": "python3"
    },
    "language_info": {
      "name": "python"
    }
  },
  "cells": [
    {
      "cell_type": "markdown",
      "metadata": {
        "id": "view-in-github",
        "colab_type": "text"
      },
      "source": [
        "<a href=\"https://colab.research.google.com/github/RuobingBai/Detection-of-Vulnerable-Individuals-Using-NLP-of-Helpline-Records/blob/main/Deep_learning_model(1)_Using_unstructured_data_as_input.ipynb\" target=\"_parent\"><img src=\"https://colab.research.google.com/assets/colab-badge.svg\" alt=\"Open In Colab\"/></a>"
      ]
    },
    {
      "cell_type": "markdown",
      "metadata": {
        "id": "G-kPN4btUOdM"
      },
      "source": [
        "## **Load Packages**"
      ]
    },
    {
      "cell_type": "code",
      "metadata": {
        "colab": {
          "base_uri": "https://localhost:8080/"
        },
        "id": "RU0lHJ1GkW7s",
        "outputId": "9c3c82b6-be3f-4474-aa02-1d0878e93c4b"
      },
      "source": [
        "import re\n",
        "import pandas as pd\n",
        "import numpy as np\n",
        "from sklearn.linear_model import LogisticRegression\n",
        "from sklearn import metrics\n",
        "from sklearn.metrics import precision_score,recall_score, roc_curve, roc_auc_score\n",
        "from sklearn.metrics import accuracy_score, precision_score, recall_score, f1_score\n",
        "import matplotlib.pyplot as plt\n",
        "! pip install imblearn\n",
        "! pip install delayed\n",
        "from imblearn.over_sampling import SMOTE\n",
        "from sklearn.model_selection import train_test_split\n",
        "from collections import Counter\n",
        "from sklearn.feature_extraction.text import CountVectorizer\n",
        "from tensorflow.keras.preprocessing.text import Tokenizer\n",
        "from tensorflow.keras.preprocessing import image\n",
        "from tensorflow.keras.preprocessing.sequence import pad_sequences\n",
        "from tensorflow.keras.models import Sequential\n",
        "from tensorflow.keras import layers\n",
        "import unicodedata\n",
        "import spacy\n",
        "from spacy.lang.en.stop_words import STOP_WORDS\n",
        "from textblob import TextBlob\n",
        "from nltk.stem import WordNetLemmatizer\n",
        "import nltk\n",
        "nltk.download('punkt')\n",
        "nltk.download('averaged_perceptron_tagger')\n",
        "nltk.download('wordnet')\n",
        "from nltk.stem.snowball import SnowballStemmer\n",
        "from nltk.tokenize import word_tokenize\n",
        "from nltk.corpus import wordnet\n",
        "from nltk.probability import FreqDist\n",
        "! pip install contractions\n",
        "import contractions\n",
        "from wordcloud import WordCloud\n",
        "\n",
        "# Display full output rather than just the last line of output\n",
        "from IPython.core.interactiveshell import InteractiveShell\n",
        "InteractiveShell.ast_node_interactivity = \"all\""
      ],
      "execution_count": null,
      "outputs": [
        {
          "output_type": "stream",
          "text": [
            "Requirement already satisfied: imblearn in /usr/local/lib/python3.7/dist-packages (0.0)\n",
            "Requirement already satisfied: imbalanced-learn in /usr/local/lib/python3.7/dist-packages (from imblearn) (0.4.3)\n",
            "Requirement already satisfied: scikit-learn>=0.20 in /usr/local/lib/python3.7/dist-packages (from imbalanced-learn->imblearn) (0.22.2.post1)\n",
            "Requirement already satisfied: scipy>=0.13.3 in /usr/local/lib/python3.7/dist-packages (from imbalanced-learn->imblearn) (1.4.1)\n",
            "Requirement already satisfied: numpy>=1.8.2 in /usr/local/lib/python3.7/dist-packages (from imbalanced-learn->imblearn) (1.19.5)\n",
            "Requirement already satisfied: joblib>=0.11 in /usr/local/lib/python3.7/dist-packages (from scikit-learn>=0.20->imbalanced-learn->imblearn) (1.0.1)\n",
            "Requirement already satisfied: delayed in /usr/local/lib/python3.7/dist-packages (0.11.0b1)\n",
            "Requirement already satisfied: hiredis in /usr/local/lib/python3.7/dist-packages (from delayed) (2.0.0)\n",
            "Requirement already satisfied: redis in /usr/local/lib/python3.7/dist-packages (from delayed) (3.5.3)\n"
          ],
          "name": "stdout"
        },
        {
          "output_type": "stream",
          "text": [
            "/usr/local/lib/python3.7/dist-packages/sklearn/externals/six.py:31: FutureWarning: The module is deprecated in version 0.21 and will be removed in version 0.23 since we've dropped support for Python 2.7. Please rely on the official version of six (https://pypi.org/project/six/).\n",
            "  \"(https://pypi.org/project/six/).\", FutureWarning)\n",
            "/usr/local/lib/python3.7/dist-packages/sklearn/utils/deprecation.py:144: FutureWarning: The sklearn.neighbors.base module is  deprecated in version 0.22 and will be removed in version 0.24. The corresponding classes / functions should instead be imported from sklearn.neighbors. Anything that cannot be imported from sklearn.neighbors is now part of the private API.\n",
            "  warnings.warn(message, FutureWarning)\n"
          ],
          "name": "stderr"
        },
        {
          "output_type": "stream",
          "text": [
            "[nltk_data] Downloading package punkt to /root/nltk_data...\n",
            "[nltk_data]   Package punkt is already up-to-date!\n",
            "[nltk_data] Downloading package averaged_perceptron_tagger to\n",
            "[nltk_data]     /root/nltk_data...\n",
            "[nltk_data]   Package averaged_perceptron_tagger is already up-to-\n",
            "[nltk_data]       date!\n",
            "[nltk_data] Downloading package wordnet to /root/nltk_data...\n",
            "[nltk_data]   Package wordnet is already up-to-date!\n",
            "Requirement already satisfied: contractions in /usr/local/lib/python3.7/dist-packages (0.0.52)\n",
            "Requirement already satisfied: textsearch>=0.0.21 in /usr/local/lib/python3.7/dist-packages (from contractions) (0.0.21)\n",
            "Requirement already satisfied: pyahocorasick in /usr/local/lib/python3.7/dist-packages (from textsearch>=0.0.21->contractions) (1.4.2)\n",
            "Requirement already satisfied: anyascii in /usr/local/lib/python3.7/dist-packages (from textsearch>=0.0.21->contractions) (0.2.0)\n"
          ],
          "name": "stdout"
        }
      ]
    },
    {
      "cell_type": "code",
      "metadata": {
        "id": "nMM1x6CgFw4l"
      },
      "source": [
        "# Set up for where to save the figures\n",
        "import os\n",
        "PROJECT_ROOT_DIR = \"figures\"\n",
        "IMAGES_PATH = os.path.join(PROJECT_ROOT_DIR)\n",
        "def save_fig(fig_id, tight_layout=True, fig_extension=\"png\", resolution=300):\n",
        "  path = os.path.join(IMAGES_PATH, fig_id + \".\" + fig_extension)\n",
        "  print(\"Saving figure\", fig_id)\n",
        "  if tight_layout:\n",
        "    plt.tight_layout()\n",
        "    plt.savefig(path, format=fig_extension, dpi=resolution)"
      ],
      "execution_count": null,
      "outputs": []
    },
    {
      "cell_type": "markdown",
      "metadata": {
        "id": "J0SKW4SzVC1P"
      },
      "source": [
        "## **Load Cleaned Data**"
      ]
    },
    {
      "cell_type": "code",
      "metadata": {
        "colab": {
          "base_uri": "https://localhost:8080/"
        },
        "id": "RFq85mx4KOOG",
        "outputId": "9fba8edd-d285-46aa-b76c-a067e1df7198"
      },
      "source": [
        "import time\n",
        "start = time.time()\n",
        "#read data in chunks of 1 million rows at a time\n",
        "chunk = pd.read_csv('Cleaned.csv',chunksize=1000000)\n",
        "end = time.time()\n",
        "print(\"Read csv with chunks: \",(end-start),\"sec\")\n",
        "data1 = pd.concat(chunk)\n",
        "\n",
        "# data1 = pd.read_csv('Cleaned.csv')"
      ],
      "execution_count": null,
      "outputs": [
        {
          "output_type": "stream",
          "text": [
            "Read csv with chunks:  0.014369964599609375 sec\n"
          ],
          "name": "stdout"
        }
      ]
    },
    {
      "cell_type": "code",
      "metadata": {
        "id": "eL8EHyaxJqzR"
      },
      "source": [
        "data1 = data1.dropna(subset = [\"Description\"])"
      ],
      "execution_count": null,
      "outputs": []
    },
    {
      "cell_type": "code",
      "metadata": {
        "colab": {
          "base_uri": "https://localhost:8080/",
          "height": 1000
        },
        "id": "hbQ9a4GSq5BR",
        "outputId": "f7f743be-0365-4db9-e188-d6112be1ce0e"
      },
      "source": [
        "data1"
      ],
      "execution_count": null,
      "outputs": [
        {
          "output_type": "execute_result",
          "data": {
            "text/html": [
              "<div>\n",
              "<style scoped>\n",
              "    .dataframe tbody tr th:only-of-type {\n",
              "        vertical-align: middle;\n",
              "    }\n",
              "\n",
              "    .dataframe tbody tr th {\n",
              "        vertical-align: top;\n",
              "    }\n",
              "\n",
              "    .dataframe thead th {\n",
              "        text-align: right;\n",
              "    }\n",
              "</style>\n",
              "<table border=\"1\" class=\"dataframe\">\n",
              "  <thead>\n",
              "    <tr style=\"text-align: right;\">\n",
              "      <th></th>\n",
              "      <th>IP Address (hashed)</th>\n",
              "      <th>ID</th>\n",
              "      <th>Case Number</th>\n",
              "      <th>Case Origin</th>\n",
              "      <th>Case Reason</th>\n",
              "      <th>Subject</th>\n",
              "      <th>Description</th>\n",
              "      <th>Break Confidentiality?</th>\n",
              "      <th>Main Issue Category</th>\n",
              "      <th>Issues mentioned</th>\n",
              "      <th>Initial Feeling</th>\n",
              "      <th>Age</th>\n",
              "      <th>County</th>\n",
              "      <th>Region</th>\n",
              "      <th>Gender</th>\n",
              "      <th>Sexuality</th>\n",
              "      <th>Ethnicity</th>\n",
              "      <th>Disabled</th>\n",
              "      <th>Religion</th>\n",
              "      <th>Employment Status</th>\n",
              "      <th>Date/Time Opened</th>\n",
              "      <th>How do they prefer help?</th>\n",
              "      <th>What type of help?</th>\n",
              "      <th>Were signposts offered?</th>\n",
              "      <th>Description1</th>\n",
              "      <th>tokenized</th>\n",
              "      <th>pos_tags</th>\n",
              "      <th>wordnet_pos</th>\n",
              "      <th>lemmatized</th>\n",
              "      <th>lemma_str</th>\n",
              "    </tr>\n",
              "  </thead>\n",
              "  <tbody>\n",
              "    <tr>\n",
              "      <th>0</th>\n",
              "      <td>dbd57d182ed3da1ac3a97e166b31d077</td>\n",
              "      <td>c4d6738a2e3a29fbc384c9389c2c626fEQdLE</td>\n",
              "      <td>58884</td>\n",
              "      <td>Webchat</td>\n",
              "      <td>help for themselves</td>\n",
              "      <td>depression and feeling suicidal</td>\n",
              "      <td>yp feeling suicidal difficulty emotional regul...</td>\n",
              "      <td>0</td>\n",
              "      <td>Mental Health</td>\n",
              "      <td>Debt; Depression/Low Mood; Feelings and Emotio...</td>\n",
              "      <td>Depressed</td>\n",
              "      <td>20</td>\n",
              "      <td>NaN</td>\n",
              "      <td>London</td>\n",
              "      <td>Female</td>\n",
              "      <td>Bisexual</td>\n",
              "      <td>White English/Welsh/Scottish/Northern Irish/Br...</td>\n",
              "      <td>No</td>\n",
              "      <td>No Religion</td>\n",
              "      <td>Student</td>\n",
              "      <td>2020/10/22</td>\n",
              "      <td>Chat; Email; Face to Face; Online</td>\n",
              "      <td>Counselling; Emotional Support</td>\n",
              "      <td>Yes</td>\n",
              "      <td>yp feeling suicidal difficulty emotional regul...</td>\n",
              "      <td>['yp', 'feeling', 'suicidal', 'difficulty', 'e...</td>\n",
              "      <td>[('yp', 'RB'), ('feeling', 'VBG'), ('suicidal'...</td>\n",
              "      <td>[('yp', 'r'), ('feeling', 'v'), ('suicidal', '...</td>\n",
              "      <td>['yp', 'feel', 'suicidal', 'difficulty', 'emot...</td>\n",
              "      <td>yp feel suicidal difficulty emotional regulati...</td>\n",
              "    </tr>\n",
              "    <tr>\n",
              "      <th>1</th>\n",
              "      <td>01f4a991f5c23ae9a7854c304a7600ed</td>\n",
              "      <td>a38298491bfe475e250829c22ee087a1bDpx</td>\n",
              "      <td>42333</td>\n",
              "      <td>Webchat</td>\n",
              "      <td>help for themselves</td>\n",
              "      <td>anxiety</td>\n",
              "      <td>yp waiting trauma team discuss past experience...</td>\n",
              "      <td>0</td>\n",
              "      <td>Mental Health</td>\n",
              "      <td>Anxiety; Emotional Abuse; Feelings and Emotions</td>\n",
              "      <td>Anxious; Down</td>\n",
              "      <td>15</td>\n",
              "      <td>Not Known</td>\n",
              "      <td>Yorkshire and the Humber</td>\n",
              "      <td>Female</td>\n",
              "      <td>NaN</td>\n",
              "      <td>White English/Welsh/Scottish/Northern Irish/Br...</td>\n",
              "      <td>NaN</td>\n",
              "      <td>NaN</td>\n",
              "      <td>NaN</td>\n",
              "      <td>2020/2/19</td>\n",
              "      <td>Online</td>\n",
              "      <td>Not Sure</td>\n",
              "      <td>Yes</td>\n",
              "      <td>yp waiting trauma team discuss past experience...</td>\n",
              "      <td>['yp', 'waiting', 'trauma', 'team', 'discuss',...</td>\n",
              "      <td>[('yp', 'RB'), ('waiting', 'VBG'), ('trauma', ...</td>\n",
              "      <td>[('yp', 'r'), ('waiting', 'v'), ('trauma', 'n'...</td>\n",
              "      <td>['yp', 'wait', 'trauma', 'team', 'discus', 'pa...</td>\n",
              "      <td>yp wait trauma team discus past experience emo...</td>\n",
              "    </tr>\n",
              "    <tr>\n",
              "      <th>2</th>\n",
              "      <td>fa5cd7dbfa3b302b8e0457a577338496</td>\n",
              "      <td>25f693b8c960df27645a352d4120d042EWFK</td>\n",
              "      <td>43385</td>\n",
              "      <td>Webchat</td>\n",
              "      <td>help for themselves</td>\n",
              "      <td>lonely</td>\n",
              "      <td>yp lonely feels like suffocating referred chil...</td>\n",
              "      <td>0</td>\n",
              "      <td>Mental Health</td>\n",
              "      <td>Mental Health and Wellbeing; Sexuality/sexual ...</td>\n",
              "      <td>Lonely</td>\n",
              "      <td>18</td>\n",
              "      <td>Not Known</td>\n",
              "      <td>North East England</td>\n",
              "      <td>Male</td>\n",
              "      <td>NaN</td>\n",
              "      <td>Pakistani</td>\n",
              "      <td>NaN</td>\n",
              "      <td>NaN</td>\n",
              "      <td>NaN</td>\n",
              "      <td>2020/3/11</td>\n",
              "      <td>Chat; Online</td>\n",
              "      <td>Not Sure</td>\n",
              "      <td>Yes</td>\n",
              "      <td>yp lonely feels like suffocating referred chil...</td>\n",
              "      <td>['yp', 'lonely', 'feels', 'like', 'suffocating...</td>\n",
              "      <td>[('yp', 'NN'), ('lonely', 'RB'), ('feels', 'NN...</td>\n",
              "      <td>[('yp', 'n'), ('lonely', 'r'), ('feels', 'n'),...</td>\n",
              "      <td>['yp', 'lonely', 'feel', 'like', 'suffocate', ...</td>\n",
              "      <td>yp lonely feel like suffocate referred childli...</td>\n",
              "    </tr>\n",
              "    <tr>\n",
              "      <th>3</th>\n",
              "      <td>ff08050e693ee76b9d14b297a4b6a4b0</td>\n",
              "      <td>527e102ad2ac164dffda3156aafa29aabBGx</td>\n",
              "      <td>43751</td>\n",
              "      <td>Webchat</td>\n",
              "      <td>help for themselves</td>\n",
              "      <td>suicidal thoughts</td>\n",
              "      <td>yp experiencing bad flashbacks abused child do...</td>\n",
              "      <td>0</td>\n",
              "      <td>Mental Health</td>\n",
              "      <td>Thoughts of suicide/suicidal ideation; Thought...</td>\n",
              "      <td>Depressed</td>\n",
              "      <td>24</td>\n",
              "      <td>Not Known</td>\n",
              "      <td>Yorkshire and the Humber</td>\n",
              "      <td>Female</td>\n",
              "      <td>NaN</td>\n",
              "      <td>White English/Welsh/Scottish/Northern Irish/Br...</td>\n",
              "      <td>NaN</td>\n",
              "      <td>NaN</td>\n",
              "      <td>NaN</td>\n",
              "      <td>2020/3/18</td>\n",
              "      <td>We didn?t ask</td>\n",
              "      <td>We didn?t ask</td>\n",
              "      <td>No</td>\n",
              "      <td>yp experiencing bad flashbacks abused child do...</td>\n",
              "      <td>['yp', 'experiencing', 'bad', 'flashbacks', 'a...</td>\n",
              "      <td>[('yp', 'NN'), ('experiencing', 'VBG'), ('bad'...</td>\n",
              "      <td>[('yp', 'n'), ('experiencing', 'v'), ('bad', '...</td>\n",
              "      <td>['yp', 'experience', 'bad', 'flashback', 'abus...</td>\n",
              "      <td>yp experience bad flashback abuse child domest...</td>\n",
              "    </tr>\n",
              "    <tr>\n",
              "      <th>4</th>\n",
              "      <td>cbb1b36513d87e942423ca51a1e428fe</td>\n",
              "      <td>27785f745b74fb8b2e9c95e7b0fbfbd1ac7h</td>\n",
              "      <td>40587</td>\n",
              "      <td>Webchat</td>\n",
              "      <td>help for themselves</td>\n",
              "      <td>depressed</td>\n",
              "      <td>yp feeling depressed experienced physical abus...</td>\n",
              "      <td>0</td>\n",
              "      <td>Mental Health</td>\n",
              "      <td>Mental Health and Wellbeing; Physical Abuse</td>\n",
              "      <td>Alone</td>\n",
              "      <td>23</td>\n",
              "      <td>Not Known</td>\n",
              "      <td>East of England</td>\n",
              "      <td>Female</td>\n",
              "      <td>NaN</td>\n",
              "      <td>White English/Welsh/Scottish/Northern Irish/Br...</td>\n",
              "      <td>NaN</td>\n",
              "      <td>NaN</td>\n",
              "      <td>NaN</td>\n",
              "      <td>2020/1/15</td>\n",
              "      <td>Face to Face</td>\n",
              "      <td>Not Sure</td>\n",
              "      <td>Yes</td>\n",
              "      <td>yp feeling depressed experienced physical abus...</td>\n",
              "      <td>['yp', 'feeling', 'depressed', 'experienced', ...</td>\n",
              "      <td>[('yp', 'RB'), ('feeling', 'VBG'), ('depressed...</td>\n",
              "      <td>[('yp', 'r'), ('feeling', 'v'), ('depressed', ...</td>\n",
              "      <td>['yp', 'feel', 'depress', 'experienced', 'phys...</td>\n",
              "      <td>yp feel depress experienced physical abuse mon...</td>\n",
              "    </tr>\n",
              "    <tr>\n",
              "      <th>...</th>\n",
              "      <td>...</td>\n",
              "      <td>...</td>\n",
              "      <td>...</td>\n",
              "      <td>...</td>\n",
              "      <td>...</td>\n",
              "      <td>...</td>\n",
              "      <td>...</td>\n",
              "      <td>...</td>\n",
              "      <td>...</td>\n",
              "      <td>...</td>\n",
              "      <td>...</td>\n",
              "      <td>...</td>\n",
              "      <td>...</td>\n",
              "      <td>...</td>\n",
              "      <td>...</td>\n",
              "      <td>...</td>\n",
              "      <td>...</td>\n",
              "      <td>...</td>\n",
              "      <td>...</td>\n",
              "      <td>...</td>\n",
              "      <td>...</td>\n",
              "      <td>...</td>\n",
              "      <td>...</td>\n",
              "      <td>...</td>\n",
              "      <td>...</td>\n",
              "      <td>...</td>\n",
              "      <td>...</td>\n",
              "      <td>...</td>\n",
              "      <td>...</td>\n",
              "      <td>...</td>\n",
              "    </tr>\n",
              "    <tr>\n",
              "      <th>10599</th>\n",
              "      <td>fc13f2eee4d3bce267b9a706b127ac30,</td>\n",
              "      <td>c4d6738a2e3a29fbc384c9389c2c626fEQ25a</td>\n",
              "      <td>58206</td>\n",
              "      <td>ContactForm</td>\n",
              "      <td>NaN</td>\n",
              "      <td>webform from the mix website</td>\n",
              "      <td>person writing need help solve awful situation...</td>\n",
              "      <td>0</td>\n",
              "      <td>NaN</td>\n",
              "      <td>NaN</td>\n",
              "      <td>NaN</td>\n",
              "      <td>26+</td>\n",
              "      <td>NaN</td>\n",
              "      <td>London</td>\n",
              "      <td>Male</td>\n",
              "      <td>NaN</td>\n",
              "      <td>Any other White background</td>\n",
              "      <td>NaN</td>\n",
              "      <td>NaN</td>\n",
              "      <td>NaN</td>\n",
              "      <td>2020/10/12</td>\n",
              "      <td>Email</td>\n",
              "      <td>Not Sure</td>\n",
              "      <td>NaN</td>\n",
              "      <td>person writing need help solve awful situation...</td>\n",
              "      <td>['person', 'writing', 'need', 'help', 'solve',...</td>\n",
              "      <td>[('person', 'NN'), ('writing', 'VBG'), ('need'...</td>\n",
              "      <td>[('person', 'n'), ('writing', 'v'), ('need', '...</td>\n",
              "      <td>['person', 'write', 'need', 'help', 'solve', '...</td>\n",
              "      <td>person write need help solve awful situation h...</td>\n",
              "    </tr>\n",
              "    <tr>\n",
              "      <th>10600</th>\n",
              "      <td>afde76b42052ab374f27db61b7324554,</td>\n",
              "      <td>27785f745b74fb8b2e9c95e7b0fbfbd1Xzct</td>\n",
              "      <td>39577</td>\n",
              "      <td>ContactForm</td>\n",
              "      <td>NaN</td>\n",
              "      <td>webform from the mix website</td>\n",
              "      <td>person girl called nogeuira s send family porn...</td>\n",
              "      <td>0</td>\n",
              "      <td>NaN</td>\n",
              "      <td>NaN</td>\n",
              "      <td>NaN</td>\n",
              "      <td>21</td>\n",
              "      <td>NaN</td>\n",
              "      <td>Outside of the UK (Overseas)</td>\n",
              "      <td>Male</td>\n",
              "      <td>NaN</td>\n",
              "      <td>Arab</td>\n",
              "      <td>NaN</td>\n",
              "      <td>NaN</td>\n",
              "      <td>NaN</td>\n",
              "      <td>2019/12/20</td>\n",
              "      <td>Text</td>\n",
              "      <td>Emotional Support</td>\n",
              "      <td>NaN</td>\n",
              "      <td>person girl called nogeuira s send family porn...</td>\n",
              "      <td>['person', 'girl', 'called', 'nogeuira', 's', ...</td>\n",
              "      <td>[('person', 'NN'), ('girl', 'NN'), ('called', ...</td>\n",
              "      <td>[('person', 'n'), ('girl', 'n'), ('called', 'v...</td>\n",
              "      <td>['person', 'girl', 'call', 'nogeuira', 's', 's...</td>\n",
              "      <td>person girl call nogeuira s send family porn v...</td>\n",
              "    </tr>\n",
              "    <tr>\n",
              "      <th>10601</th>\n",
              "      <td>681828c41feae62edeb083521181bc6e</td>\n",
              "      <td>25f693b8c960df27645a352d4120d042DpQT</td>\n",
              "      <td>43147</td>\n",
              "      <td>ContactForm</td>\n",
              "      <td>help for themselves</td>\n",
              "      <td>feeling very down</td>\n",
              "      <td>information policies help today hi lately ive ...</td>\n",
              "      <td>0</td>\n",
              "      <td>Mental Health</td>\n",
              "      <td>Depression/Low Mood; Thoughts of self harm; Th...</td>\n",
              "      <td>Depressed</td>\n",
              "      <td>NaN</td>\n",
              "      <td>Not Known</td>\n",
              "      <td>NaN</td>\n",
              "      <td>NaN</td>\n",
              "      <td>NaN</td>\n",
              "      <td>NaN</td>\n",
              "      <td>NaN</td>\n",
              "      <td>NaN</td>\n",
              "      <td>NaN</td>\n",
              "      <td>2020/3/6</td>\n",
              "      <td>Online</td>\n",
              "      <td>Advice</td>\n",
              "      <td>Yes</td>\n",
              "      <td>information policies help today hi lately I ha...</td>\n",
              "      <td>['information', 'policies', 'help', 'today', '...</td>\n",
              "      <td>[('information', 'NN'), ('policies', 'NNS'), (...</td>\n",
              "      <td>[('information', 'n'), ('policies', 'n'), ('he...</td>\n",
              "      <td>['information', 'policy', 'help', 'today', 'hi...</td>\n",
              "      <td>information policy help today hi lately I have...</td>\n",
              "    </tr>\n",
              "    <tr>\n",
              "      <th>10602</th>\n",
              "      <td>2a02:c7f:7ead:a</td>\n",
              "      <td>9b6b7a98af46bc546a6ef683eefb41bcdHQh</td>\n",
              "      <td>47022</td>\n",
              "      <td>ContactForm</td>\n",
              "      <td>NaN</td>\n",
              "      <td>webform from the mix website</td>\n",
              "      <td>mind help want form help issues start years ol...</td>\n",
              "      <td>0</td>\n",
              "      <td>NaN</td>\n",
              "      <td>NaN</td>\n",
              "      <td>NaN</td>\n",
              "      <td>17</td>\n",
              "      <td>NaN</td>\n",
              "      <td>London</td>\n",
              "      <td>Female</td>\n",
              "      <td>NaN</td>\n",
              "      <td>Black British</td>\n",
              "      <td>NaN</td>\n",
              "      <td>NaN</td>\n",
              "      <td>NaN</td>\n",
              "      <td>2020/4/30</td>\n",
              "      <td>Phone</td>\n",
              "      <td>Not Sure</td>\n",
              "      <td>NaN</td>\n",
              "      <td>mind help want form help issues start years ol...</td>\n",
              "      <td>['mind', 'help', 'want', 'form', 'help', 'issu...</td>\n",
              "      <td>[('mind', 'NN'), ('help', 'NN'), ('want', 'VB'...</td>\n",
              "      <td>[('mind', 'n'), ('help', 'n'), ('want', 'v'), ...</td>\n",
              "      <td>['mind', 'help', 'want', 'form', 'help', 'issu...</td>\n",
              "      <td>mind help want form help issue start year old ...</td>\n",
              "    </tr>\n",
              "    <tr>\n",
              "      <th>10603</th>\n",
              "      <td>3925299c4c49f4d405c6d7491dbea8c1</td>\n",
              "      <td>527e102ad2ac164dffda3156aafa29aabB7C</td>\n",
              "      <td>49233</td>\n",
              "      <td>ContactForm</td>\n",
              "      <td>NaN</td>\n",
              "      <td>webform from the mix website</td>\n",
              "      <td>email ve struggling lately low moods feel like...</td>\n",
              "      <td>0</td>\n",
              "      <td>NaN</td>\n",
              "      <td>NaN</td>\n",
              "      <td>NaN</td>\n",
              "      <td>25</td>\n",
              "      <td>NaN</td>\n",
              "      <td>London</td>\n",
              "      <td>Female</td>\n",
              "      <td>NaN</td>\n",
              "      <td>White English/Welsh/Scottish/Northern Irish/Br...</td>\n",
              "      <td>NaN</td>\n",
              "      <td>NaN</td>\n",
              "      <td>NaN</td>\n",
              "      <td>2020/5/28</td>\n",
              "      <td>Not Sure</td>\n",
              "      <td>Advice</td>\n",
              "      <td>NaN</td>\n",
              "      <td>email ve struggling lately low moods feel like...</td>\n",
              "      <td>['email', 've', 'struggling', 'lately', 'low',...</td>\n",
              "      <td>[('email', 'NN'), ('ve', 'NN'), ('struggling',...</td>\n",
              "      <td>[('email', 'n'), ('ve', 'n'), ('struggling', '...</td>\n",
              "      <td>['email', 've', 'struggle', 'lately', 'low', '...</td>\n",
              "      <td>email ve struggle lately low mood feel like us...</td>\n",
              "    </tr>\n",
              "  </tbody>\n",
              "</table>\n",
              "<p>10578 rows × 30 columns</p>\n",
              "</div>"
            ],
            "text/plain": [
              "                     IP Address (hashed)  ...                                          lemma_str\n",
              "0       dbd57d182ed3da1ac3a97e166b31d077  ...  yp feel suicidal difficulty emotional regulati...\n",
              "1       01f4a991f5c23ae9a7854c304a7600ed  ...  yp wait trauma team discus past experience emo...\n",
              "2       fa5cd7dbfa3b302b8e0457a577338496  ...  yp lonely feel like suffocate referred childli...\n",
              "3       ff08050e693ee76b9d14b297a4b6a4b0  ...  yp experience bad flashback abuse child domest...\n",
              "4       cbb1b36513d87e942423ca51a1e428fe  ...  yp feel depress experienced physical abuse mon...\n",
              "...                                  ...  ...                                                ...\n",
              "10599  fc13f2eee4d3bce267b9a706b127ac30,  ...  person write need help solve awful situation h...\n",
              "10600  afde76b42052ab374f27db61b7324554,  ...  person girl call nogeuira s send family porn v...\n",
              "10601   681828c41feae62edeb083521181bc6e  ...  information policy help today hi lately I have...\n",
              "10602                    2a02:c7f:7ead:a  ...  mind help want form help issue start year old ...\n",
              "10603   3925299c4c49f4d405c6d7491dbea8c1  ...  email ve struggle lately low mood feel like us...\n",
              "\n",
              "[10578 rows x 30 columns]"
            ]
          },
          "metadata": {
            "tags": []
          },
          "execution_count": 5
        }
      ]
    },
    {
      "cell_type": "markdown",
      "metadata": {
        "id": "CEc1-GFhmBKd"
      },
      "source": [
        "## **Machine Learning Task**"
      ]
    },
    {
      "cell_type": "markdown",
      "metadata": {
        "id": "81ZUnyaMTyOO"
      },
      "source": [
        "## **Input type 1. Using CounterVectorizer：**It is used to transform a given text into a vector on the basis of the frequency (count) of each word that occurs in the entire text."
      ]
    },
    {
      "cell_type": "code",
      "metadata": {
        "id": "xy85mdcATioh"
      },
      "source": [
        "sentences = data1['lemma_str'].values\n",
        "y = data1['Break Confidentiality?'].values\n",
        "\n",
        "# Split into train and validation set\n",
        "sentence_train, sentence_test, y_train, y_test = train_test_split(sentences, y, test_size=0.2, random_state=0, stratify=y)"
      ],
      "execution_count": null,
      "outputs": []
    },
    {
      "cell_type": "markdown",
      "metadata": {
        "id": "ovmLC2usIzu3"
      },
      "source": [
        "### ***1.1 Using Logistic Regression***"
      ]
    },
    {
      "cell_type": "code",
      "metadata": {
        "colab": {
          "base_uri": "https://localhost:8080/"
        },
        "id": "J61cutaqWbeV",
        "outputId": "53e1c417-54d9-482c-f433-812962f4650d"
      },
      "source": [
        "# Use BOW model to vectorize the sentences\n",
        "vectorizer = CountVectorizer()\n",
        "vectorizer.fit(sentence_train)\n",
        "\n",
        "x_train = vectorizer.transform(sentence_train).toarray()\n",
        "x_test  = vectorizer.transform(sentence_test).toarray()"
      ],
      "execution_count": null,
      "outputs": [
        {
          "output_type": "execute_result",
          "data": {
            "text/plain": [
              "CountVectorizer(analyzer='word', binary=False, decode_error='strict',\n",
              "                dtype=<class 'numpy.int64'>, encoding='utf-8', input='content',\n",
              "                lowercase=True, max_df=1.0, max_features=None, min_df=1,\n",
              "                ngram_range=(1, 1), preprocessor=None, stop_words=None,\n",
              "                strip_accents=None, token_pattern='(?u)\\\\b\\\\w\\\\w+\\\\b',\n",
              "                tokenizer=None, vocabulary=None)"
            ]
          },
          "metadata": {
            "tags": []
          },
          "execution_count": 100
        }
      ]
    },
    {
      "cell_type": "code",
      "metadata": {
        "colab": {
          "base_uri": "https://localhost:8080/"
        },
        "id": "0hB6YTFk20tl",
        "outputId": "a30fa0b6-27a0-4a45-d47f-ef706a0a06e2"
      },
      "source": [
        "# Smooth the unbalanced data\n",
        "smo = SMOTE()\n",
        "\n",
        "# Only need to balance the training data, but you can't use a fit method to a string\n",
        "x_train, y_train = smo.fit_resample(x_train, y_train)\n",
        "\n",
        "# Check again the balance of dataset\n",
        "print('Counter(y_train)\\n',Counter(y_train)) # Employ Counter()"
      ],
      "execution_count": null,
      "outputs": [
        {
          "output_type": "stream",
          "text": [
            "/usr/local/lib/python3.7/dist-packages/sklearn/utils/deprecation.py:87: FutureWarning: Function safe_indexing is deprecated; safe_indexing is deprecated in version 0.22 and will be removed in version 0.24.\n",
            "  warnings.warn(msg, category=FutureWarning)\n"
          ],
          "name": "stderr"
        },
        {
          "output_type": "stream",
          "text": [
            "Counter(y_train)\n",
            " Counter({0: 8245, 1: 8245})\n"
          ],
          "name": "stdout"
        }
      ]
    },
    {
      "cell_type": "code",
      "metadata": {
        "colab": {
          "base_uri": "https://localhost:8080/",
          "height": 600
        },
        "id": "UGDbGcLcWxBS",
        "outputId": "f787ef6d-54fd-490e-d204-643101e2d602"
      },
      "source": [
        "# finally put the training data into logistic regression model\n",
        "classifier = LogisticRegression()\n",
        "classifier.fit(x_train, y_train)\n",
        "y_test_pred = classifier.predict(x_test)\n",
        "\n",
        "# Show a precision and recall metrics\n",
        "print(\"Recall Score\",\"{:.2%}\".format(recall_score(y_test, y_test_pred)))\n",
        "print(\"Precision Score:\",\"{:.2%}\".format((precision_score(y_test, y_test_pred))))\n",
        "\n",
        "# Check the ROC curve\n",
        "# Calculate the roc metrics\n",
        "fpr, tpr, thresholds = roc_curve(y_test, y_test_pred)\n",
        "\n",
        "# Plot the ROC curve\n",
        "plt.plot(fpr, tpr)\n",
        "\n",
        "# Add labels and diagonal line\n",
        "plt.xlabel(\"False Positive Rate\")\n",
        "plt.ylabel(\"True Positive Rate\")\n",
        "plt.title(\"ROC_AUC_Curve\")\n",
        "plt.plot([0, 1], [0, 1], \"k--\")\n",
        "plt.text(0.7,0.3,\"AUC≈0.853\", color=\"blue\", backgroundcolor=\"white\")\n",
        "save_fig(\"logclassifier\")\n",
        "plt.show()\n",
        "\n",
        "# Print the AUC\n",
        "print(\"ROC_AUC_Score:\",\"{:.2%}\".format(roc_auc_score(y_test, y_test_pred)))"
      ],
      "execution_count": null,
      "outputs": [
        {
          "output_type": "stream",
          "text": [
            "/usr/local/lib/python3.7/dist-packages/sklearn/linear_model/_logistic.py:940: ConvergenceWarning: lbfgs failed to converge (status=1):\n",
            "STOP: TOTAL NO. of ITERATIONS REACHED LIMIT.\n",
            "\n",
            "Increase the number of iterations (max_iter) or scale the data as shown in:\n",
            "    https://scikit-learn.org/stable/modules/preprocessing.html\n",
            "Please also refer to the documentation for alternative solver options:\n",
            "    https://scikit-learn.org/stable/modules/linear_model.html#logistic-regression\n",
            "  extra_warning_msg=_LOGISTIC_SOLVER_CONVERGENCE_MSG)\n"
          ],
          "name": "stderr"
        },
        {
          "output_type": "execute_result",
          "data": {
            "text/plain": [
              "LogisticRegression(C=1.0, class_weight=None, dual=False, fit_intercept=True,\n",
              "                   intercept_scaling=1, l1_ratio=None, max_iter=100,\n",
              "                   multi_class='auto', n_jobs=None, penalty='l2',\n",
              "                   random_state=None, solver='lbfgs', tol=0.0001, verbose=0,\n",
              "                   warm_start=False)"
            ]
          },
          "metadata": {
            "tags": []
          },
          "execution_count": 105
        },
        {
          "output_type": "stream",
          "text": [
            "Recall Score 72.22%\n",
            "Precision Score: 54.93%\n"
          ],
          "name": "stdout"
        },
        {
          "output_type": "execute_result",
          "data": {
            "text/plain": [
              "[<matplotlib.lines.Line2D at 0x7f099eeeab50>]"
            ]
          },
          "metadata": {
            "tags": []
          },
          "execution_count": 105
        },
        {
          "output_type": "execute_result",
          "data": {
            "text/plain": [
              "Text(0.5, 0, 'False Positive Rate')"
            ]
          },
          "metadata": {
            "tags": []
          },
          "execution_count": 105
        },
        {
          "output_type": "execute_result",
          "data": {
            "text/plain": [
              "Text(0, 0.5, 'True Positive Rate')"
            ]
          },
          "metadata": {
            "tags": []
          },
          "execution_count": 105
        },
        {
          "output_type": "execute_result",
          "data": {
            "text/plain": [
              "Text(0.5, 1.0, 'ROC_AUC_Curve')"
            ]
          },
          "metadata": {
            "tags": []
          },
          "execution_count": 105
        },
        {
          "output_type": "execute_result",
          "data": {
            "text/plain": [
              "[<matplotlib.lines.Line2D at 0x7f099f254190>]"
            ]
          },
          "metadata": {
            "tags": []
          },
          "execution_count": 105
        },
        {
          "output_type": "execute_result",
          "data": {
            "text/plain": [
              "Text(0.7, 0.3, 'AUC≈0.853')"
            ]
          },
          "metadata": {
            "tags": []
          },
          "execution_count": 105
        },
        {
          "output_type": "stream",
          "text": [
            "Saving figure logclassifier\n"
          ],
          "name": "stdout"
        },
        {
          "output_type": "display_data",
          "data": {
            "image/png": "[encoded data removed]",
            "text/plain": [
              "<Figure size 432x288 with 1 Axes>"
            ]
          },
          "metadata": {
            "tags": []
          }
        },
        {
          "output_type": "stream",
          "text": [
            "ROC_AUC_Score: 85.34%\n"
          ],
          "name": "stdout"
        }
      ]
    },
    {
      "cell_type": "code",
      "metadata": {
        "colab": {
          "base_uri": "https://localhost:8080/"
        },
        "id": "7KoZedLlIRpm",
        "outputId": "5ae02eed-70e8-40b4-945e-c12bbaf6e757"
      },
      "source": [
        "from sklearn.metrics import accuracy_score, precision_score, recall_score, f1_score\n",
        "# accuracy: (tp + tn) / (p + n)\n",
        "print('Accuracy:', \"{:.2%}\".format(accuracy_score(y_test, y_test_pred)))\n",
        "\n",
        "# precision tp / (tp + fp)\n",
        "print(\"Precision:\", \"{:.2%}\".format(precision_score(y_test, y_test_pred)))\n",
        "\n",
        "\n",
        "# recall: tp / (tp + fn)\n",
        "print(\"Recall:\", \"{:.2%}\".format(recall_score(y_test, y_test_pred)))\n",
        "\n",
        "# f1: 2 tp / (2 tp + fp + fn)\n",
        "print(\"F1-score:\", \"{:.2%}\".format(f1_score(y_test, y_test_pred)))"
      ],
      "execution_count": null,
      "outputs": [
        {
          "output_type": "stream",
          "text": [
            "Accuracy: 97.87%\n",
            "Precision: 56.72%\n",
            "Recall: 70.37%\n",
            "F1-score: 62.81%\n"
          ],
          "name": "stdout"
        }
      ]
    },
    {
      "cell_type": "markdown",
      "metadata": {
        "id": "z4sKW0feI-xj"
      },
      "source": [
        "### ***1.2 Using DNN***"
      ]
    },
    {
      "cell_type": "code",
      "metadata": {
        "id": "4LZELkyMOHtX"
      },
      "source": [
        "# !pip install -U tensorflow==2.2 as tf"
      ],
      "execution_count": null,
      "outputs": []
    },
    {
      "cell_type": "code",
      "metadata": {
        "id": "RpYoQWLJXO8r"
      },
      "source": [
        "from tensorflow import keras\n",
        "from tensorflow.keras import layers\n",
        "from tensorflow.keras.models import Sequential\n",
        "from tensorflow.keras.wrappers.scikit_learn import KerasClassifier\n",
        "from sklearn.model_selection import RandomizedSearchCV"
      ],
      "execution_count": null,
      "outputs": []
    },
    {
      "cell_type": "code",
      "metadata": {
        "colab": {
          "base_uri": "https://localhost:8080/"
        },
        "id": "Dab2D5H_wf0S",
        "outputId": "4d4d5cfd-05f4-4152-a001-5921301c3f8d"
      },
      "source": [
        "x_train.shape[1] # Number of features"
      ],
      "execution_count": null,
      "outputs": [
        {
          "output_type": "execute_result",
          "data": {
            "text/plain": [
              "44876"
            ]
          },
          "metadata": {
            "tags": []
          },
          "execution_count": 106
        }
      ]
    },
    {
      "cell_type": "code",
      "metadata": {
        "colab": {
          "base_uri": "https://localhost:8080/"
        },
        "id": "GuY9E_vNyge6",
        "outputId": "997f53ef-ad71-4a23-a9c5-145f1fc18a43"
      },
      "source": [
        "input_dim = x_train.shape[1]\n",
        "model1 = Sequential()\n",
        "model1.add(layers.Dense(10, input_dim=input_dim)) # input layer\n",
        "# model.add(layers.Dense(100, input_dim=input_dim, activation='relu'))\n",
        "# model.add(layers.Dense(300, input_dim=input_dim, activation='relu'))\n",
        "model1.add(layers.Dense(15, activation='relu')) # hidden layer\n",
        "model1.add(layers.Dense(1, activation='sigmoid')) # output layer\n",
        "# Use compile() to configure the learning process\n",
        "# Specify the optimizer and the loss function\n",
        "model1.compile(loss='binary_crossentropy', optimizer='adam',metrics=['accuracy'])\n",
        "model1.summary()"
      ],
      "execution_count": null,
      "outputs": [
        {
          "output_type": "stream",
          "text": [
            "Model: \"sequential_1\"\n",
            "_________________________________________________________________\n",
            "Layer (type)                 Output Shape              Param #   \n",
            "=================================================================\n",
            "dense_2 (Dense)              (None, 10)                448770    \n",
            "_________________________________________________________________\n",
            "dense_3 (Dense)              (None, 15)                165       \n",
            "_________________________________________________________________\n",
            "dense_4 (Dense)              (None, 1)                 16        \n",
            "=================================================================\n",
            "Total params: 448,951\n",
            "Trainable params: 448,951\n",
            "Non-trainable params: 0\n",
            "_________________________________________________________________\n"
          ],
          "name": "stdout"
        }
      ]
    },
    {
      "cell_type": "code",
      "metadata": {
        "colab": {
          "base_uri": "https://localhost:8080/"
        },
        "id": "Cpguswp2ygqt",
        "outputId": "a3cde6cc-9883-4942-a342-72393683be95"
      },
      "source": [
        "# Validation_split` is only supported for Tensors or NumPy arrays\n",
        "history = model1.fit(x_train, y_train, \n",
        "                  epochs=20, verbose=True,\n",
        "                  validation_split = 0.2,\n",
        "                  batch_size=20)"
      ],
      "execution_count": null,
      "outputs": [
        {
          "output_type": "stream",
          "text": [
            "Epoch 1/20\n",
            "660/660 [==============================] - 5s 8ms/step - loss: 0.1272 - accuracy: 0.9717 - val_loss: 0.0490 - val_accuracy: 0.9703\n",
            "Epoch 2/20\n",
            "660/660 [==============================] - 5s 8ms/step - loss: 0.0425 - accuracy: 0.9862 - val_loss: 0.0454 - val_accuracy: 0.9718\n",
            "Epoch 3/20\n",
            "660/660 [==============================] - 5s 8ms/step - loss: 0.0271 - accuracy: 0.9893 - val_loss: 0.0382 - val_accuracy: 0.9770\n",
            "Epoch 4/20\n",
            "660/660 [==============================] - 5s 8ms/step - loss: 0.0299 - accuracy: 0.9894 - val_loss: 0.0293 - val_accuracy: 0.9806\n",
            "Epoch 5/20\n",
            "660/660 [==============================] - 5s 8ms/step - loss: 0.0201 - accuracy: 0.9920 - val_loss: 0.0248 - val_accuracy: 0.9818\n",
            "Epoch 6/20\n",
            "660/660 [==============================] - 5s 8ms/step - loss: 0.0123 - accuracy: 0.9939 - val_loss: 0.0181 - val_accuracy: 0.9842\n",
            "Epoch 7/20\n",
            "660/660 [==============================] - 5s 8ms/step - loss: 0.0091 - accuracy: 0.9958 - val_loss: 0.0126 - val_accuracy: 0.9982\n",
            "Epoch 8/20\n",
            "660/660 [==============================] - 5s 8ms/step - loss: 0.0073 - accuracy: 0.9989 - val_loss: 0.0082 - val_accuracy: 0.9991\n",
            "Epoch 9/20\n",
            "660/660 [==============================] - 5s 8ms/step - loss: 0.0168 - accuracy: 0.9968 - val_loss: 0.0090 - val_accuracy: 0.9988\n",
            "Epoch 10/20\n",
            "660/660 [==============================] - 5s 8ms/step - loss: 0.0063 - accuracy: 0.9989 - val_loss: 0.0099 - val_accuracy: 0.9982\n",
            "Epoch 11/20\n",
            "660/660 [==============================] - 5s 8ms/step - loss: 0.0047 - accuracy: 0.9990 - val_loss: 0.0066 - val_accuracy: 0.9988\n",
            "Epoch 12/20\n",
            "660/660 [==============================] - 5s 8ms/step - loss: 0.0036 - accuracy: 0.9994 - val_loss: 0.0026 - val_accuracy: 1.0000\n",
            "Epoch 13/20\n",
            "660/660 [==============================] - 5s 8ms/step - loss: 0.0029 - accuracy: 0.9995 - val_loss: 0.0028 - val_accuracy: 1.0000\n",
            "Epoch 14/20\n",
            "660/660 [==============================] - 5s 8ms/step - loss: 0.0067 - accuracy: 0.9989 - val_loss: 0.0049 - val_accuracy: 0.9985\n",
            "Epoch 15/20\n",
            "660/660 [==============================] - 5s 8ms/step - loss: 0.0061 - accuracy: 0.9980 - val_loss: 0.0044 - val_accuracy: 0.9982\n",
            "Epoch 16/20\n",
            "660/660 [==============================] - 5s 8ms/step - loss: 0.0020 - accuracy: 0.9995 - val_loss: 0.0030 - val_accuracy: 0.9991\n",
            "Epoch 17/20\n",
            "660/660 [==============================] - 5s 8ms/step - loss: 0.0017 - accuracy: 0.9997 - val_loss: 0.0032 - val_accuracy: 0.9991\n",
            "Epoch 18/20\n",
            "660/660 [==============================] - 5s 8ms/step - loss: 0.0013 - accuracy: 0.9998 - val_loss: 0.0019 - val_accuracy: 0.9991\n",
            "Epoch 19/20\n",
            "660/660 [==============================] - 5s 8ms/step - loss: 0.0012 - accuracy: 0.9998 - val_loss: 0.0026 - val_accuracy: 0.9994\n",
            "Epoch 20/20\n",
            "660/660 [==============================] - 5s 8ms/step - loss: 0.0011 - accuracy: 0.9998 - val_loss: 5.9649e-04 - val_accuracy: 1.0000\n"
          ],
          "name": "stdout"
        }
      ]
    },
    {
      "cell_type": "code",
      "metadata": {
        "colab": {
          "base_uri": "https://localhost:8080/"
        },
        "id": "dSA0ZexaL53G",
        "outputId": "fc69bcbd-fd7b-40c9-d485-b7b4cb54f0a2"
      },
      "source": [
        "y_test_pred = model1.predict(x_test)\n",
        "y_test_pred"
      ],
      "execution_count": null,
      "outputs": [
        {
          "output_type": "execute_result",
          "data": {
            "text/plain": [
              "array([[4.0379937e-06],\n",
              "       [2.6595098e-15],\n",
              "       [5.3311592e-30],\n",
              "       ...,\n",
              "       [9.4985054e-27],\n",
              "       [1.3253044e-24],\n",
              "       [3.7740014e-05]], dtype=float32)"
            ]
          },
          "metadata": {
            "tags": []
          },
          "execution_count": 112
        }
      ]
    },
    {
      "cell_type": "code",
      "metadata": {
        "colab": {
          "base_uri": "https://localhost:8080/",
          "height": 366
        },
        "id": "H4GLNwxiMZ26",
        "outputId": "cf80f5b0-2df3-4e10-c427-29a2e0e63bc3"
      },
      "source": [
        "# # Show a precision and recall metrics\n",
        "# print(\"Recall Score\",\"{:.2%}\".format(recall_score(y_test, y_test_pred)))\n",
        "# print(\"Precision Score:\",\"{:.2%}\".format((precision_score(y_test, y_test_pred))))\n",
        "\n",
        "# Check the ROC curve\n",
        "# Calculate the roc metrics\n",
        "fpr, tpr, thresholds = roc_curve(y_test, y_test_pred)\n",
        "\n",
        "# Plot the ROC curve\n",
        "plt.plot(fpr, tpr)\n",
        "\n",
        "# Add labels and diagonal line\n",
        "plt.xlabel(\"False Positive Rate\")\n",
        "plt.ylabel(\"True Positive Rate\")\n",
        "plt.title(\"ROC_AUC_Curve\")\n",
        "plt.plot([0, 1], [0, 1], \"k--\")\n",
        "plt.text(0.7,0.3,\"AUC≈0.851\", color=\"blue\", backgroundcolor=\"yellow\")\n",
        "save_fig(\"simplednn\")\n",
        "plt.show()\n",
        "\n",
        "# Print the AUC\n",
        "print(\"ROC_AUC_Score:\",\"{:.2%}\".format(roc_auc_score(y_test, y_test_pred)))"
      ],
      "execution_count": null,
      "outputs": [
        {
          "output_type": "execute_result",
          "data": {
            "text/plain": [
              "[<matplotlib.lines.Line2D at 0x7f099efb01d0>]"
            ]
          },
          "metadata": {
            "tags": []
          },
          "execution_count": 114
        },
        {
          "output_type": "execute_result",
          "data": {
            "text/plain": [
              "Text(0.5, 0, 'False Positive Rate')"
            ]
          },
          "metadata": {
            "tags": []
          },
          "execution_count": 114
        },
        {
          "output_type": "execute_result",
          "data": {
            "text/plain": [
              "Text(0, 0.5, 'True Positive Rate')"
            ]
          },
          "metadata": {
            "tags": []
          },
          "execution_count": 114
        },
        {
          "output_type": "execute_result",
          "data": {
            "text/plain": [
              "Text(0.5, 1.0, 'ROC_AUC_Curve')"
            ]
          },
          "metadata": {
            "tags": []
          },
          "execution_count": 114
        },
        {
          "output_type": "execute_result",
          "data": {
            "text/plain": [
              "[<matplotlib.lines.Line2D at 0x7f099efa76d0>]"
            ]
          },
          "metadata": {
            "tags": []
          },
          "execution_count": 114
        },
        {
          "output_type": "execute_result",
          "data": {
            "text/plain": [
              "Text(0.7, 0.3, 'AUC≈0.851')"
            ]
          },
          "metadata": {
            "tags": []
          },
          "execution_count": 114
        },
        {
          "output_type": "stream",
          "text": [
            "Saving figure simplednn\n"
          ],
          "name": "stdout"
        },
        {
          "output_type": "display_data",
          "data": {
            "image/png": "[encoded data removed]",
            "text/plain": [
              "<Figure size 432x288 with 1 Axes>"
            ]
          },
          "metadata": {
            "tags": []
          }
        },
        {
          "output_type": "stream",
          "text": [
            "ROC_AUC_Score: 85.11%\n"
          ],
          "name": "stdout"
        }
      ]
    },
    {
      "cell_type": "code",
      "metadata": {
        "id": "w7WYtkd0Kcjg"
      },
      "source": [
        "y_test_pred_classes = model1.predict_classes(x_test, verbose=0)"
      ],
      "execution_count": null,
      "outputs": []
    },
    {
      "cell_type": "code",
      "metadata": {
        "colab": {
          "base_uri": "https://localhost:8080/"
        },
        "id": "fk9SH24AN4kU",
        "outputId": "13e92635-b6ba-4d4f-c4fb-afbe055ed338"
      },
      "source": [
        "# reduce to 1-d array\n",
        "y_test_pred_classes = y_test_pred_classes[:,0]\n",
        "y_test_pred_classes"
      ],
      "execution_count": null,
      "outputs": [
        {
          "output_type": "execute_result",
          "data": {
            "text/plain": [
              "array([0, 0, 0, ..., 0, 0, 0], dtype=int32)"
            ]
          },
          "metadata": {
            "tags": []
          },
          "execution_count": 116
        }
      ]
    },
    {
      "cell_type": "code",
      "metadata": {
        "colab": {
          "base_uri": "https://localhost:8080/"
        },
        "id": "nqQO75HCOMus",
        "outputId": "3b59ac4a-45f0-4dcd-e088-444255055421"
      },
      "source": [
        "from sklearn.metrics import accuracy_score, precision_score, recall_score, f1_score\n",
        "# accuracy: (tp + tn) / (p + n)\n",
        "print('Accuracy:', \"{:.2%}\".format(accuracy_score(y_test, y_test_pred_classes)))\n",
        "\n",
        "# precision tp / (tp + fp)\n",
        "print(\"Precision:\", \"{:.2%}\".format(precision_score(y_test, y_test_pred_classes)))\n",
        "\n",
        "\n",
        "# recall: tp / (tp + fn)\n",
        "print(\"Recall:\", \"{:.2%}\".format(recall_score(y_test, y_test_pred_classes)))\n",
        "\n",
        "# f1: 2 tp / (2 tp + fp + fn)\n",
        "print(\"F1-score:\", \"{:.2%}\".format(f1_score(y_test, y_test_pred_classes)))"
      ],
      "execution_count": null,
      "outputs": [
        {
          "output_type": "stream",
          "text": [
            "Accuracy: 97.78%\n",
            "Precision: 56.60%\n",
            "Recall: 55.56%\n",
            "F1-score: 56.07%\n"
          ],
          "name": "stdout"
        }
      ]
    },
    {
      "cell_type": "code",
      "metadata": {
        "colab": {
          "base_uri": "https://localhost:8080/"
        },
        "id": "UsEp819k0PyJ",
        "outputId": "d2caceb1-e0dc-448d-f8d9-01da1f1f6b28"
      },
      "source": [
        "loss, accuracy = model.evaluate(x_train, y_train, verbose=True)\n",
        "print(\"Training Accuracy: {:.4f}\".format(accuracy))\n",
        "# loss, accuracy = model.evaluate(X_val, y_val, verbose=False)\n",
        "# print(\"Validation Accuracy:  {:.4f}\".format(accuracy))\n",
        "loss, accuracy = model.evaluate(x_test, y_test, verbose=True)\n",
        "print(\"Testing Accuracy:  {:.4f}\".format(accuracy))"
      ],
      "execution_count": null,
      "outputs": [
        {
          "output_type": "stream",
          "text": [
            "516/516 [==============================] - 3s 6ms/step - loss: 0.0063 - accuracy: 0.9996\n",
            "Training Accuracy: 0.9996\n",
            "67/67 [==============================] - 0s 6ms/step - loss: 0.4250 - accuracy: 0.9759\n",
            "Testing Accuracy:  0.9759\n"
          ],
          "name": "stdout"
        }
      ]
    },
    {
      "cell_type": "code",
      "metadata": {
        "colab": {
          "base_uri": "https://localhost:8080/",
          "height": 304
        },
        "id": "JHnON4GUNkE2",
        "outputId": "8528545a-faa1-4a2c-a0bd-8b0660018b6b"
      },
      "source": [
        "import matplotlib.pyplot as plt\n",
        "plt.style.use('ggplot')\n",
        "\n",
        "def plot_history(history):\n",
        "    acc = history.history['accuracy']\n",
        "    val_acc = history.history['val_accuracy']\n",
        "    loss = history.history['loss']\n",
        "    val_loss = history.history['val_loss']\n",
        "    x = range(1, len(acc) + 1)\n",
        "\n",
        "    plt.figure(figsize=(12, 5))\n",
        "\n",
        "    plt.subplot(1, 2, 1)\n",
        "    plt.plot(x, acc, 'b', label='Training acc')\n",
        "    plt.plot(x, val_acc, 'r', label='Valisation acc')\n",
        "    plt.title('Training and validation accuracy')\n",
        "    plt.legend()\n",
        "    # set the axis ticks\n",
        "    my_y_ticks = np.arange(0.5, 1, 0.05)\n",
        "    # my_x_ticks = np.arange(-2, 2, 0.3)\n",
        "    # plt.xticks(my_x_ticks)\n",
        "    plt.yticks(my_y_ticks)\n",
        "\n",
        "    plt.subplot(1, 2, 2)\n",
        "    plt.plot(x, loss, 'b', label='Training loss')\n",
        "    plt.plot(x, val_loss, 'r', label='Validation loss')\n",
        "    plt.title('Training and validation loss')\n",
        "    plt.legend()\n",
        "    # set the axis ticks\n",
        "    my_y_ticks = np.arange(0, 0.5, 0.05)\n",
        "    # my_x_ticks = np.arange(-2, 2, 0.3)\n",
        "    # plt.xticks(my_x_ticks)\n",
        "    plt.yticks(my_y_ticks)\n",
        "\n",
        "plot_history(history)\n",
        "save_fig(\"loss_acc\")"
      ],
      "execution_count": null,
      "outputs": [
        {
          "output_type": "stream",
          "text": [
            "Saving figure loss_acc\n"
          ],
          "name": "stdout"
        },
        {
          "output_type": "display_data",
          "data": {
            "image/png": "[encoded data removed]",
            "text/plain": [
              "<Figure size 864x360 with 2 Axes>"
            ]
          },
          "metadata": {
            "tags": []
          }
        }
      ]
    },
    {
      "cell_type": "code",
      "metadata": {
        "id": "QHGZQZpSM0pH"
      },
      "source": [
        "# make sure to call clear_session() before you start training the model again.\n",
        "from tensorflow.keras.backend import clear_session\n",
        "clear_session()"
      ],
      "execution_count": null,
      "outputs": []
    },
    {
      "cell_type": "markdown",
      "metadata": {
        "id": "xxS7WMYmPvyW"
      },
      "source": [
        "#### Conclusion: "
      ]
    },
    {
      "cell_type": "markdown",
      "metadata": {
        "id": "DguVF6Zu1Flc"
      },
      "source": [
        "## ***Input Type 2: Word Embeddings***"
      ]
    },
    {
      "cell_type": "markdown",
      "metadata": {
        "id": "pp2wt6eTa--o"
      },
      "source": [
        "###***2.1 Train word embeddings during the training of the neural network***"
      ]
    },
    {
      "cell_type": "code",
      "metadata": {
        "id": "d4PKG3vJ5j7o"
      },
      "source": [
        "# We just re-do sentence_train, sentence_test, y_train, y_test from train_test_split\n",
        "sentences = data1['lemma_str'].values\n",
        "y = data1['Break Confidentiality?'].values\n",
        "\n",
        "# Split into train and validation set\n",
        "sentence_train, sentence_test, y_train, y_test = train_test_split(sentences, y, test_size=0.2, random_state=0, stratify=y)"
      ],
      "execution_count": null,
      "outputs": []
    },
    {
      "cell_type": "code",
      "metadata": {
        "colab": {
          "base_uri": "https://localhost:8080/"
        },
        "id": "CqAkYPO_yguJ",
        "outputId": "942f6b77-ddd8-4682-e837-22b5bb423512"
      },
      "source": [
        "# Use Tokenizer to vectorize a text corpus into a list of integers\n",
        "# num_words: setting the size of the vocabulary\n",
        "## Perhaps here i should add oov_token=\"<OOV>\" to represent words not shown up in the word index generated from training dataset\n",
        "tokenizer = Tokenizer(num_words=5000, oov_token='OOV')\n",
        "tokenizer.fit_on_texts(sentence_train)\n",
        "\n",
        "sentence_train = tokenizer.texts_to_sequences(sentence_train)\n",
        "sentence_test = tokenizer.texts_to_sequences(sentence_test)\n",
        "\n",
        "vocab_size = len(tokenizer.word_index) + 1  # Adding 1 because of reserved 0 index\n",
        "\n",
        "print(sentence_train[2])"
      ],
      "execution_count": null,
      "outputs": [
        {
          "output_type": "stream",
          "text": [
            "[57, 3, 726, 4333, 24, 3, 74, 1, 1216, 146, 56, 113, 24, 177, 578, 123, 129, 150, 29, 246, 376, 3, 92, 222, 53, 18, 29, 34, 14, 311, 194, 84, 34, 14, 16, 215, 141, 32, 310, 531, 14, 86, 311, 890, 664, 34, 14, 12, 317, 181, 103, 61, 862, 48, 664, 606, 14, 1989, 181, 29, 3, 929, 26, 5, 123, 129, 12, 1, 8, 153]\n"
          ],
          "name": "stdout"
        }
      ]
    },
    {
      "cell_type": "code",
      "metadata": {
        "colab": {
          "base_uri": "https://localhost:8080/"
        },
        "id": "_xLa4ca2n8r2",
        "outputId": "2f4722ca-c36c-4599-8eea-9d338890d48b"
      },
      "source": [
        "vocab_size # Maybe the best vocab_size will be no more than 10k"
      ],
      "execution_count": null,
      "outputs": [
        {
          "output_type": "execute_result",
          "data": {
            "text/plain": [
              "44904"
            ]
          },
          "metadata": {
            "tags": []
          },
          "execution_count": 123
        }
      ]
    },
    {
      "cell_type": "code",
      "metadata": {
        "colab": {
          "base_uri": "https://localhost:8080/"
        },
        "id": "lMy69Bc_ygwM",
        "outputId": "7d3f8bdd-b956-4092-c785-1b4e57bf83b9"
      },
      "source": [
        "from tensorflow.keras.preprocessing.sequence import pad_sequences\n",
        "maxlen = 100 # it is the desired length of sentence you want to keep align with\n",
        "sentence_train = pad_sequences(sentence_train, padding='post', maxlen=maxlen)\n",
        "sentence_test = pad_sequences(sentence_test, padding='post', maxlen=maxlen)\n",
        "\n",
        "print(sentence_train[0, :])\n",
        "\n",
        "# The resulting feature vector contains few zeros, since you have a fairly long sentence"
      ],
      "execution_count": null,
      "outputs": [
        {
          "output_type": "stream",
          "text": [
            "[   6   39  199    2   97    4   13   12   18   12  876  152  147   33\n",
            "   11   33   82   49   16   21   22   46    5  270    2   43   48   46\n",
            "   27   71    6   32  166   71   67   63   80  203  152  140  123  129\n",
            "    2   36  198   59   59   38  154 1379 1277   54 3462   43   48   46\n",
            "  116   20   71    6   80  523  280  150   23   36   50  198  115   96\n",
            "   28   85   38    1   27   54   22 2080    2   43   48  115   48   37\n",
            "   27   32   67   63   20   36  158   62   28   28   38  154  130   62\n",
            "   43    6]\n"
          ],
          "name": "stdout"
        }
      ]
    },
    {
      "cell_type": "code",
      "metadata": {
        "colab": {
          "base_uri": "https://localhost:8080/"
        },
        "id": "Za-UQDKFl-LJ",
        "outputId": "51ac2d6d-fbce-4ea9-fc4f-add0dab4295a"
      },
      "source": [
        "# Smooth the unbalanced data\n",
        "smo = SMOTE()\n",
        "\n",
        "# Only need to balance the training data\n",
        "x_train, y_train = smo.fit_resample(sentence_train, y_train)\n",
        "\n",
        "# Check again the balance of dataset\n",
        "print('Counter(y_train)\\n',Counter(y_train)) # Employ Counter()"
      ],
      "execution_count": null,
      "outputs": [
        {
          "output_type": "stream",
          "text": [
            "/usr/local/lib/python3.7/dist-packages/sklearn/utils/deprecation.py:87: FutureWarning: Function safe_indexing is deprecated; safe_indexing is deprecated in version 0.22 and will be removed in version 0.24.\n",
            "  warnings.warn(msg, category=FutureWarning)\n"
          ],
          "name": "stderr"
        },
        {
          "output_type": "stream",
          "text": [
            "Counter(y_train)\n",
            " Counter({0: 8245, 1: 8245})\n"
          ],
          "name": "stdout"
        }
      ]
    },
    {
      "cell_type": "code",
      "metadata": {
        "id": "5pRolTR_D6tv"
      },
      "source": [
        "# Change the \"sentence_test\" to \"x_test\"\n",
        "x_test = sentence_test"
      ],
      "execution_count": null,
      "outputs": []
    },
    {
      "cell_type": "markdown",
      "metadata": {
        "id": "19_ixDtfY0NW"
      },
      "source": [
        "*   input_dim: the size of the vocabulary\n",
        "*   output_dim: the size of the dense vector\n",
        "*   input_length: the length of the sequence\n",
        "\n",
        "\n",
        "\n",
        "\n",
        "\n",
        "\n",
        "\n",
        "\n"
      ]
    },
    {
      "cell_type": "code",
      "metadata": {
        "id": "0JbPsoGmbNm7"
      },
      "source": [
        "# Keras Embedding Layer\n",
        "# In this section, we are going to tell Keras to learn a new embedding space through successive tasks.\n",
        "def create_model(vocab_size, embedding_dim, maxlen):\n",
        "    model = Sequential()\n",
        "    model.add(layers.Embedding(input_dim=vocab_size, output_dim=embedding_dim, input_length=maxlen)) # input_dim is not exactly the voc_size\n",
        "\n",
        "# Take the output of the embedding layer and plug it into a Dense layer. \n",
        "# In order to do this you have to add a Flatten layer in between that prepares the sequential input for the Dense layer:\n",
        "\n",
        "    model.add(layers.Flatten())\n",
        "    model.add(layers.Dense(10, activation='relu')) \n",
        "    model.add(layers.Dense(1, activation='sigmoid'))\n",
        "    model.compile(optimizer='adam', loss='binary_crossentropy', metrics=['accuracy'])\n",
        "    return model"
      ],
      "execution_count": null,
      "outputs": []
    },
    {
      "cell_type": "code",
      "metadata": {
        "colab": {
          "base_uri": "https://localhost:8080/"
        },
        "id": "PfFKRu_Zbd_D",
        "outputId": "e905500d-bbb2-4140-dd6d-887114302560"
      },
      "source": [
        "# Define the parameter grid that you want to use in training\n",
        "param_grid_we = dict(vocab_size=[5000,10000], \n",
        "                  embedding_dim=[50,100],\n",
        "                  maxlen=[100])\n",
        "\n",
        "# Main settings\n",
        "epochs = 20\n",
        "\n",
        "model_we = KerasClassifier(build_fn=create_model, epochs=epochs, batch_size=10, verbose=False)\n",
        "grid_we = RandomizedSearchCV(estimator=model_we, param_distributions=param_grid_we, cv=4, verbose=1, n_iter=5)\n",
        "grid_we_result = grid_we.fit(x_train, y_train)"
      ],
      "execution_count": null,
      "outputs": [
        {
          "output_type": "stream",
          "text": [
            "/usr/local/lib/python3.7/dist-packages/sklearn/model_selection/_search.py:281: UserWarning: The total space of parameters 4 is smaller than n_iter=5. Running 4 iterations. For exhaustive searches, use GridSearchCV.\n",
            "  % (grid_size, self.n_iter, grid_size), UserWarning)\n",
            "[Parallel(n_jobs=1)]: Using backend SequentialBackend with 1 concurrent workers.\n"
          ],
          "name": "stderr"
        },
        {
          "output_type": "stream",
          "text": [
            "Fitting 4 folds for each of 4 candidates, totalling 16 fits\n"
          ],
          "name": "stdout"
        },
        {
          "output_type": "stream",
          "text": [
            "[Parallel(n_jobs=1)]: Done  16 out of  16 | elapsed: 43.1min finished\n"
          ],
          "name": "stderr"
        }
      ]
    },
    {
      "cell_type": "code",
      "metadata": {
        "colab": {
          "base_uri": "https://localhost:8080/"
        },
        "id": "H0ExH4ALbhn6",
        "outputId": "8d9429eb-ffb6-4286-ad43-b14203926b7f"
      },
      "source": [
        "grid_we_result\n",
        "grid_we_result.best_score_\n",
        "grid_we_result.best_params_"
      ],
      "execution_count": null,
      "outputs": [
        {
          "output_type": "execute_result",
          "data": {
            "text/plain": [
              "RandomizedSearchCV(cv=4, error_score=nan,\n",
              "                   estimator=<tensorflow.python.keras.wrappers.scikit_learn.KerasClassifier object at 0x7f09a9004750>,\n",
              "                   iid='deprecated', n_iter=5, n_jobs=None,\n",
              "                   param_distributions={'embedding_dim': [50, 100],\n",
              "                                        'maxlen': [100],\n",
              "                                        'vocab_size': [5000, 10000]},\n",
              "                   pre_dispatch='2*n_jobs', random_state=None, refit=True,\n",
              "                   return_train_score=False, scoring=None, verbose=1)"
            ]
          },
          "metadata": {
            "tags": []
          },
          "execution_count": 62
        },
        {
          "output_type": "execute_result",
          "data": {
            "text/plain": [
              "0.9346278309822083"
            ]
          },
          "metadata": {
            "tags": []
          },
          "execution_count": 62
        },
        {
          "output_type": "execute_result",
          "data": {
            "text/plain": [
              "{'embedding_dim': 50, 'maxlen': 100, 'vocab_size': 10000}"
            ]
          },
          "metadata": {
            "tags": []
          },
          "execution_count": 62
        }
      ]
    },
    {
      "cell_type": "code",
      "metadata": {
        "colab": {
          "base_uri": "https://localhost:8080/"
        },
        "id": "cLNGD1LF4VGX",
        "outputId": "cf6bfb97-ac38-4917-c5af-885e41a0f88d"
      },
      "source": [
        "history_we = grid_we.fit(x_train, y_train,\n",
        "                    epochs=20,\n",
        "                    verbose=False,\n",
        "                    validation_split=0.2,\n",
        "                    batch_size=20)"
      ],
      "execution_count": null,
      "outputs": [
        {
          "output_type": "stream",
          "text": [
            "/usr/local/lib/python3.7/dist-packages/sklearn/model_selection/_search.py:281: UserWarning: The total space of parameters 4 is smaller than n_iter=5. Running 4 iterations. For exhaustive searches, use GridSearchCV.\n",
            "  % (grid_size, self.n_iter, grid_size), UserWarning)\n",
            "[Parallel(n_jobs=1)]: Using backend SequentialBackend with 1 concurrent workers.\n"
          ],
          "name": "stderr"
        },
        {
          "output_type": "stream",
          "text": [
            "Fitting 4 folds for each of 4 candidates, totalling 16 fits\n"
          ],
          "name": "stdout"
        },
        {
          "output_type": "stream",
          "text": [
            "[Parallel(n_jobs=1)]: Done  16 out of  16 | elapsed: 25.3min finished\n"
          ],
          "name": "stderr"
        }
      ]
    },
    {
      "cell_type": "code",
      "metadata": {
        "colab": {
          "base_uri": "https://localhost:8080/",
          "height": 483
        },
        "id": "LRGldcJGWQCF",
        "outputId": "8989cd94-7b43-4bea-9c32-cb6ce647b2f0"
      },
      "source": [
        "y_test_pred = grid_we.predict(x_test)\n",
        "y_test_pred\n",
        "\n",
        "# # Show a precision and recall metrics\n",
        "# print(\"Recall Score\",\"{:.2%}\".format(recall_score(y_test, y_test_pred)))\n",
        "# print(\"Precision Score:\",\"{:.2%}\".format((precision_score(y_test, y_test_pred))))\n",
        "\n",
        "# Check the ROC curve\n",
        "# Calculate the roc metrics\n",
        "fpr, tpr, thresholds = roc_curve(y_test, y_test_pred)\n",
        "\n",
        "# Plot the ROC curve\n",
        "plt.plot(fpr, tpr)\n",
        "\n",
        "# Add labels and diagonal line\n",
        "plt.xlabel(\"False Positive Rate\")\n",
        "plt.ylabel(\"True Positive Rate\")\n",
        "plt.title(\"ROC_AUC_Curve\")\n",
        "plt.plot([0, 1], [0, 1], \"k--\")\n",
        "plt.text(0.7,0.3,\"AUC≈0.784\", color=\"blue\", backgroundcolor=\"yellow\")\n",
        "save_fig(\"we\")\n",
        "plt.show()\n",
        "\n",
        "# Print the AUC\n",
        "print(\"ROC_AUC_Score:\",\"{:.2%}\".format(roc_auc_score(y_test, y_test_pred)))"
      ],
      "execution_count": null,
      "outputs": [
        {
          "output_type": "execute_result",
          "data": {
            "text/plain": [
              "array([[0],\n",
              "       [0],\n",
              "       [0],\n",
              "       ...,\n",
              "       [1],\n",
              "       [0],\n",
              "       [0]])"
            ]
          },
          "metadata": {
            "tags": []
          },
          "execution_count": 127
        },
        {
          "output_type": "execute_result",
          "data": {
            "text/plain": [
              "[<matplotlib.lines.Line2D at 0x7f09a91dd190>]"
            ]
          },
          "metadata": {
            "tags": []
          },
          "execution_count": 127
        },
        {
          "output_type": "execute_result",
          "data": {
            "text/plain": [
              "Text(0.5, 0, 'False Positive Rate')"
            ]
          },
          "metadata": {
            "tags": []
          },
          "execution_count": 127
        },
        {
          "output_type": "execute_result",
          "data": {
            "text/plain": [
              "Text(0, 0.5, 'True Positive Rate')"
            ]
          },
          "metadata": {
            "tags": []
          },
          "execution_count": 127
        },
        {
          "output_type": "execute_result",
          "data": {
            "text/plain": [
              "Text(0.5, 1.0, 'ROC_AUC_Curve')"
            ]
          },
          "metadata": {
            "tags": []
          },
          "execution_count": 127
        },
        {
          "output_type": "execute_result",
          "data": {
            "text/plain": [
              "[<matplotlib.lines.Line2D at 0x7f09a91ca510>]"
            ]
          },
          "metadata": {
            "tags": []
          },
          "execution_count": 127
        },
        {
          "output_type": "execute_result",
          "data": {
            "text/plain": [
              "Text(0.7, 0.3, 'AUC≈0.784')"
            ]
          },
          "metadata": {
            "tags": []
          },
          "execution_count": 127
        },
        {
          "output_type": "stream",
          "text": [
            "Saving figure we\n"
          ],
          "name": "stdout"
        },
        {
          "output_type": "display_data",
          "data": {
            "image/png": "[encoded data removed]",
            "text/plain": [
              "<Figure size 432x288 with 1 Axes>"
            ]
          },
          "metadata": {
            "tags": []
          }
        },
        {
          "output_type": "stream",
          "text": [
            "ROC_AUC_Score: 78.42%\n"
          ],
          "name": "stdout"
        }
      ]
    },
    {
      "cell_type": "code",
      "metadata": {
        "id": "ai48FT1WRaSn"
      },
      "source": [
        "# y_test_pred_classes = grid_we.predict_classes(x_test, verbose=0)\n",
        "\n",
        "# # reduce to 1-d array\n",
        "# y_test_pred_classes = y_test_pred_classes[:,0]\n",
        "# y_test_pred_classes"
      ],
      "execution_count": null,
      "outputs": []
    },
    {
      "cell_type": "code",
      "metadata": {
        "colab": {
          "base_uri": "https://localhost:8080/"
        },
        "id": "uZzw6CATs0Oe",
        "outputId": "f58218e4-f28f-4be5-fa97-0f299af31ea2"
      },
      "source": [
        "# accuracy: (tp + tn) / (p + n)\n",
        "print('Accuracy for test set:', \"{:.2%}\".format(accuracy_score(y_test, y_test_pred)))\n",
        "print('Accuracy for train set:', \"{:.2%}\".format(accuracy_score(y_train, grid_we.predict(x_train))))\n",
        "# precision tp / (tp + fp)\n",
        "print(\"Precision:\", \"{:.2%}\".format(precision_score(y_test, y_test_pred)))\n",
        "\n",
        "\n",
        "# recall: tp / (tp + fn)\n",
        "print(\"Recall:\", \"{:.2%}\".format(recall_score(y_test, y_test_pred)))\n",
        "\n",
        "# f1: 2 tp / (2 tp + fp + fn)\n",
        "print(\"F1-score:\", \"{:.2%}\".format(f1_score(y_test, y_test_pred)))"
      ],
      "execution_count": null,
      "outputs": [
        {
          "output_type": "stream",
          "text": [
            "Accuracy for test set: 96.60%\n",
            "Accuracy for train set: 97.57%\n",
            "Precision: 39.02%\n",
            "Recall: 59.26%\n",
            "F1-score: 47.06%\n"
          ],
          "name": "stdout"
        }
      ]
    },
    {
      "cell_type": "code",
      "metadata": {
        "id": "iCrFE_RsXpnV"
      },
      "source": [
        "# make sure to call clear_session() before you start training the model again.\n",
        "from tensorflow.keras.backend import clear_session\n",
        "clear_session()"
      ],
      "execution_count": null,
      "outputs": []
    },
    {
      "cell_type": "markdown",
      "metadata": {
        "id": "WZJ-NBGKap68"
      },
      "source": [
        "#### **Conclusion:** This is typically a not very reliable way to work with sequential data as you can see in the performance. When working with sequential data you want to focus on methods that look at local and sequential information instead of absolute positional information."
      ]
    },
    {
      "cell_type": "markdown",
      "metadata": {
        "id": "KnYbb9tibrKv"
      },
      "source": [
        "### ***2.2 Train word embeddings during the training of the neural network -- using a MaxPooling1D/AveragePooling1D or a GlobalMaxPooling1D/GlobalAveragePooling1D layer after the embedding.***"
      ]
    },
    {
      "cell_type": "code",
      "metadata": {
        "id": "V2HACN9PpQCv"
      },
      "source": [
        "def create_model(vocab_size, embedding_dim, maxlen):\n",
        "    model = Sequential()\n",
        "    model.add(layers.Embedding(vocab_size, embedding_dim, input_length=maxlen))\n",
        "    model.add(layers.GlobalMaxPooling1D())\n",
        "    model.add(layers.Dense(10, activation='relu'))\n",
        "    model.add(layers.Dense(1, activation='sigmoid'))\n",
        "    model.compile(optimizer='adam',\n",
        "                  loss='binary_crossentropy',\n",
        "                  metrics=['accuracy'])\n",
        "    return model"
      ],
      "execution_count": null,
      "outputs": []
    },
    {
      "cell_type": "code",
      "metadata": {
        "id": "lqvjbjiXyMsJ"
      },
      "source": [
        "# Define the parameter grid that you want to use in training\n",
        "param_grid_pool = dict(vocab_size=[5000,10000], \n",
        "                  embedding_dim=[50,100],\n",
        "                  maxlen=[100])"
      ],
      "execution_count": null,
      "outputs": []
    },
    {
      "cell_type": "code",
      "metadata": {
        "colab": {
          "base_uri": "https://localhost:8080/"
        },
        "id": "77c8o0q4pgXe",
        "outputId": "001dd77d-7520-45c8-dfa4-e497fc0f3a2a"
      },
      "source": [
        "# Main settings\n",
        "epochs = 20\n",
        "\n",
        "model_pool = KerasClassifier(build_fn=create_model, epochs=epochs, batch_size=50, verbose=False)\n",
        "grid_pool = RandomizedSearchCV(estimator=model_pool, param_distributions=param_grid_pool, cv=4, verbose=1, n_iter=5)\n",
        "grid_pool_result = grid_pool.fit(x_train, y_train)"
      ],
      "execution_count": null,
      "outputs": [
        {
          "output_type": "stream",
          "text": [
            "/usr/local/lib/python3.7/dist-packages/sklearn/model_selection/_search.py:281: UserWarning: The total space of parameters 4 is smaller than n_iter=5. Running 4 iterations. For exhaustive searches, use GridSearchCV.\n",
            "  % (grid_size, self.n_iter, grid_size), UserWarning)\n",
            "[Parallel(n_jobs=1)]: Using backend SequentialBackend with 1 concurrent workers.\n"
          ],
          "name": "stderr"
        },
        {
          "output_type": "stream",
          "text": [
            "Fitting 4 folds for each of 4 candidates, totalling 16 fits\n"
          ],
          "name": "stdout"
        },
        {
          "output_type": "stream",
          "text": [
            "[Parallel(n_jobs=1)]: Done  16 out of  16 | elapsed: 17.0min finished\n"
          ],
          "name": "stderr"
        }
      ]
    },
    {
      "cell_type": "code",
      "metadata": {
        "colab": {
          "base_uri": "https://localhost:8080/"
        },
        "id": "qZ5QGdyD6nfS",
        "outputId": "07476632-dfb2-4c7b-86e2-f40765dcbc59"
      },
      "source": [
        "grid_pool_result\n",
        "grid_pool_result.best_score_\n",
        "grid_pool_result.best_params_"
      ],
      "execution_count": null,
      "outputs": [
        {
          "output_type": "execute_result",
          "data": {
            "text/plain": [
              "RandomizedSearchCV(cv=4, error_score=nan,\n",
              "                   estimator=<tensorflow.python.keras.wrappers.scikit_learn.KerasClassifier object at 0x7f09a8f51490>,\n",
              "                   iid='deprecated', n_iter=5, n_jobs=None,\n",
              "                   param_distributions={'embedding_dim': [50, 100],\n",
              "                                        'maxlen': [100],\n",
              "                                        'vocab_size': [5000, 10000]},\n",
              "                   pre_dispatch='2*n_jobs', random_state=None, refit=True,\n",
              "                   return_train_score=False, scoring=None, verbose=1)"
            ]
          },
          "metadata": {
            "tags": []
          },
          "execution_count": 80
        },
        {
          "output_type": "execute_result",
          "data": {
            "text/plain": [
              "0.9613708108663559"
            ]
          },
          "metadata": {
            "tags": []
          },
          "execution_count": 80
        },
        {
          "output_type": "execute_result",
          "data": {
            "text/plain": [
              "{'embedding_dim': 100, 'maxlen': 100, 'vocab_size': 5000}"
            ]
          },
          "metadata": {
            "tags": []
          },
          "execution_count": 80
        }
      ]
    },
    {
      "cell_type": "code",
      "metadata": {
        "id": "V2DvP0niadaq"
      },
      "source": [
        "# # From the above hyparameter tuning, I finalise the model as follow.\n",
        "# vocab_size = 10000\n",
        "# embedding_dim = 100\n",
        "# maxlen = 100\n",
        "\n",
        "# model_pooling = Sequential()\n",
        "# model_pooling.add(layers.Embedding(vocab_size, embedding_dim, input_length=maxlen))\n",
        "# model_pooling.add(layers.GlobalMaxPooling1D())\n",
        "# model_pooling.add(layers.Dense(10, activation='relu'))\n",
        "# model_pooling.add(layers.Dense(1, activation='sigmoid'))\n",
        "# model_pooling.compile(optimizer='adam', loss='binary_crossentropy', metrics=['accuracy'])"
      ],
      "execution_count": null,
      "outputs": []
    },
    {
      "cell_type": "code",
      "metadata": {
        "colab": {
          "base_uri": "https://localhost:8080/"
        },
        "id": "QNhPbfuqaqOC",
        "outputId": "20ae52e9-f53c-4bc2-9842-79eb4fe22428"
      },
      "source": [
        "history_pool = grid_pool.fit(x_train, y_train,\n",
        "                    epochs=50,\n",
        "                    verbose=False,\n",
        "                    validation_split=0.2,\n",
        "                    batch_size=50)"
      ],
      "execution_count": null,
      "outputs": [
        {
          "output_type": "stream",
          "text": [
            "/usr/local/lib/python3.7/dist-packages/sklearn/model_selection/_search.py:281: UserWarning: The total space of parameters 4 is smaller than n_iter=5. Running 4 iterations. For exhaustive searches, use GridSearchCV.\n",
            "  % (grid_size, self.n_iter, grid_size), UserWarning)\n",
            "[Parallel(n_jobs=1)]: Using backend SequentialBackend with 1 concurrent workers.\n"
          ],
          "name": "stderr"
        },
        {
          "output_type": "stream",
          "text": [
            "Fitting 4 folds for each of 4 candidates, totalling 16 fits\n"
          ],
          "name": "stdout"
        },
        {
          "output_type": "stream",
          "text": [
            "[Parallel(n_jobs=1)]: Done  16 out of  16 | elapsed: 28.0min finished\n"
          ],
          "name": "stderr"
        }
      ]
    },
    {
      "cell_type": "code",
      "metadata": {
        "colab": {
          "base_uri": "https://localhost:8080/",
          "height": 483
        },
        "id": "7LDW7RWghBtl",
        "outputId": "1aaf5414-ae53-43d1-db0e-77e243bdf2ca"
      },
      "source": [
        "y_test_pred = grid_pool.predict(x_test)\n",
        "y_test_pred\n",
        "\n",
        "# # Show a precision and recall metrics\n",
        "# print(\"Recall Score\",\"{:.2%}\".format(recall_score(y_test, y_test_pred)))\n",
        "# print(\"Precision Score:\",\"{:.2%}\".format((precision_score(y_test, y_test_pred))))\n",
        "\n",
        "# Check the ROC curve\n",
        "# Calculate the roc metrics\n",
        "fpr, tpr, thresholds = roc_curve(y_test, y_test_pred)\n",
        "\n",
        "# Plot the ROC curve\n",
        "plt.plot(fpr, tpr)\n",
        "\n",
        "# Add labels and diagonal line\n",
        "plt.xlabel(\"False Positive Rate\")\n",
        "plt.ylabel(\"True Positive Rate\")\n",
        "plt.title(\"ROC_AUC_Curve\")\n",
        "plt.plot([0, 1], [0, 1], \"k--\")\n",
        "plt.text(0.7,0.3,\"AUC≈0.818\", color=\"blue\", backgroundcolor=\"yellow\")\n",
        "save_fig(\"pool\")\n",
        "plt.show()\n",
        "\n",
        "# Print the AUC\n",
        "print(\"ROC_AUC_Score:\",\"{:.2%}\".format(roc_auc_score(y_test, y_test_pred)))"
      ],
      "execution_count": null,
      "outputs": [
        {
          "output_type": "execute_result",
          "data": {
            "text/plain": [
              "array([[0],\n",
              "       [0],\n",
              "       [0],\n",
              "       ...,\n",
              "       [0],\n",
              "       [0],\n",
              "       [0]])"
            ]
          },
          "metadata": {
            "tags": []
          },
          "execution_count": 130
        },
        {
          "output_type": "execute_result",
          "data": {
            "text/plain": [
              "[<matplotlib.lines.Line2D at 0x7f09a8b53290>]"
            ]
          },
          "metadata": {
            "tags": []
          },
          "execution_count": 130
        },
        {
          "output_type": "execute_result",
          "data": {
            "text/plain": [
              "Text(0.5, 0, 'False Positive Rate')"
            ]
          },
          "metadata": {
            "tags": []
          },
          "execution_count": 130
        },
        {
          "output_type": "execute_result",
          "data": {
            "text/plain": [
              "Text(0, 0.5, 'True Positive Rate')"
            ]
          },
          "metadata": {
            "tags": []
          },
          "execution_count": 130
        },
        {
          "output_type": "execute_result",
          "data": {
            "text/plain": [
              "Text(0.5, 1.0, 'ROC_AUC_Curve')"
            ]
          },
          "metadata": {
            "tags": []
          },
          "execution_count": 130
        },
        {
          "output_type": "execute_result",
          "data": {
            "text/plain": [
              "[<matplotlib.lines.Line2D at 0x7f09a8b8b990>]"
            ]
          },
          "metadata": {
            "tags": []
          },
          "execution_count": 130
        },
        {
          "output_type": "execute_result",
          "data": {
            "text/plain": [
              "Text(0.7, 0.3, 'AUC≈0.818')"
            ]
          },
          "metadata": {
            "tags": []
          },
          "execution_count": 130
        },
        {
          "output_type": "stream",
          "text": [
            "Saving figure pool\n"
          ],
          "name": "stdout"
        },
        {
          "output_type": "display_data",
          "data": {
            "image/png": "[encoded data removed]",
            "text/plain": [
              "<Figure size 432x288 with 1 Axes>"
            ]
          },
          "metadata": {
            "tags": []
          }
        },
        {
          "output_type": "stream",
          "text": [
            "ROC_AUC_Score: 81.80%\n"
          ],
          "name": "stdout"
        }
      ]
    },
    {
      "cell_type": "code",
      "metadata": {
        "colab": {
          "base_uri": "https://localhost:8080/"
        },
        "id": "tcUdJHN6ydVQ",
        "outputId": "4a1faacb-2c5c-4ec6-db57-3079e2f19ac3"
      },
      "source": [
        "# accuracy: (tp + tn) / (p + n)\n",
        "print('Accuracy for test set:', \"{:.2%}\".format(accuracy_score(y_test, y_test_pred)))\n",
        "print('Accuracy for train set:', \"{:.2%}\".format(accuracy_score(y_train, grid_pool.predict(x_train))))\n",
        "# precision tp / (tp + fp)\n",
        "print(\"Precision:\", \"{:.2%}\".format(precision_score(y_test, y_test_pred)))\n",
        "\n",
        "\n",
        "# recall: tp / (tp + fn)\n",
        "print(\"Recall:\", \"{:.2%}\".format(recall_score(y_test, y_test_pred)))\n",
        "\n",
        "# f1: 2 tp / (2 tp + fp + fn)\n",
        "print(\"F1-score:\", \"{:.2%}\".format(f1_score(y_test, y_test_pred)))"
      ],
      "execution_count": null,
      "outputs": [
        {
          "output_type": "stream",
          "text": [
            "Accuracy for test set: 97.92%\n",
            "Accuracy for train set: 99.35%\n",
            "Precision: 58.33%\n",
            "Recall: 64.81%\n",
            "F1-score: 61.40%\n"
          ],
          "name": "stdout"
        }
      ]
    },
    {
      "cell_type": "code",
      "metadata": {
        "id": "MXzM8fuYc-Tu"
      },
      "source": [
        "# make sure to call clear_session() before you start training the model again.\n",
        "from tensorflow.keras.backend import clear_session\n",
        "clear_session()"
      ],
      "execution_count": null,
      "outputs": []
    },
    {
      "cell_type": "markdown",
      "metadata": {
        "id": "3mi58GZk5Jrg"
      },
      "source": [
        "### ***2.3 Using Pretrained Word Embeddings***"
      ]
    },
    {
      "cell_type": "markdown",
      "metadata": {
        "id": "8gW2kbQzmtxe"
      },
      "source": [
        "#### **Use a precomputed embedding space that utilizes a much larger corpus.**"
      ]
    },
    {
      "cell_type": "code",
      "metadata": {
        "id": "rx_CuzK-4VJO"
      },
      "source": [
        "# import numpy as np\n",
        "\n",
        "# # Pooling layers as a way to downsample (a way to reduce the size of) the incoming feature vectors.\n",
        "# def create_embedding_matrix(filepath, word_index, embedding_dim):\n",
        "#     vocab_size = len(word_index) + 1  # Adding again 1 because of reserved 0 index\n",
        "#     embedding_matrix = np.zeros((vocab_size, embedding_dim))\n",
        "\n",
        "#     with open(filepath) as f:\n",
        "#         for line in f:\n",
        "#             word, *vector = line.split()\n",
        "#             if word in word_index:\n",
        "#                 idx = word_index[word] \n",
        "#                 embedding_matrix[idx] = np.array(\n",
        "#                     vector, dtype=np.float32)[:embedding_dim]\n",
        "\n",
        "#     return embedding_matrix\n",
        "\n",
        "\n",
        "# embedding_dim = 50\n",
        "# embedding_matrix = create_embedding_matrix('glove.6B.50d.txt',tokenizer.word_index, embedding_dim)\n",
        "\n",
        "# nonzero_elements = np.count_nonzero(np.count_nonzero(embedding_matrix, axis=1))\n",
        "# print(\"The percentage of vocabulary that is covered by the pretrained model:{:.2f}\".format(nonzero_elements/vocab_size))\n",
        "\n",
        "\n",
        "\n",
        "# # Using the GlobalMaxPool1D layer\n",
        "# model = Sequential()\n",
        "# model.add(layers.Embedding(vocab_size, embedding_dim, \n",
        "#                            weights=[embedding_matrix], \n",
        "#                            input_length=maxlen, \n",
        "#                            trainable=False))\n",
        "# model.add(layers.GlobalMaxPool1D())\n",
        "# model.add(layers.Dense(10, activation='relu'))\n",
        "# model.add(layers.Dense(1, activation='sigmoid'))\n",
        "# model.compile(optimizer='adam',\n",
        "#               loss='binary_crossentropy',\n",
        "#               metrics=['accuracy'])\n",
        "# model.summary()\n",
        "\n",
        "# history = model.fit(X_train, y_train,\n",
        "#                     epochs=50,\n",
        "#                     verbose=False,\n",
        "#                     validation_data=(X_test, y_test),\n",
        "#                     batch_size=50)\n",
        "# loss, accuracy = model.evaluate(X_train, y_train, verbose=False)\n",
        "# print(\"Training Accuracy: {:.4f}\".format(accuracy))\n",
        "# # loss, accuracy = model.evaluate(X_val, y_val, verbose=False)\n",
        "# # print(\"Validation Accuracy:  {:.4f}\".format(accuracy))\n",
        "# loss, accuracy = model.evaluate(X_test, y_test, verbose=False)\n",
        "# print(\"Testing Accuracy:  {:.4f}\".format(accuracy))"
      ],
      "execution_count": null,
      "outputs": []
    },
    {
      "cell_type": "code",
      "metadata": {
        "id": "dasjMZbmq2OA"
      },
      "source": [
        "# # Since the word embeddings are not additionally trained, it is expected to be lower\n",
        "# # See how this performs if we allow the embedding to be trained by using trainable=True\n",
        "# model = Sequential()\n",
        "# model.add(layers.Embedding(vocab_size, embedding_dim, \n",
        "#                            weights=[embedding_matrix], \n",
        "#                            input_length=maxlen, \n",
        "#                            trainable=True))\n",
        "# model.add(layers.GlobalMaxPool1D())\n",
        "# model.add(layers.Dense(10, activation='relu'))\n",
        "# model.add(layers.Dense(1, activation='sigmoid'))\n",
        "# model.compile(optimizer='adam',\n",
        "#               loss='binary_crossentropy',\n",
        "#               metrics=['accuracy'])\n",
        "# model.summary()\n",
        "\n",
        "# history = model.fit(X_train, y_train,\n",
        "#                     epochs=50,\n",
        "#                     verbose=False,\n",
        "#                     validation_data=(X_test, y_test),\n",
        "#                     batch_size=10)\n",
        "# loss, accuracy = model.evaluate(X_train, y_train, verbose=False)\n",
        "# print(\"Training Accuracy: {:.4f}\".format(accuracy))\n",
        "# loss, accuracy = model.evaluate(X_test, y_test, verbose=False)\n",
        "# print(\"Testing Accuracy:  {:.4f}\".format(accuracy))"
      ],
      "execution_count": null,
      "outputs": []
    },
    {
      "cell_type": "markdown",
      "metadata": {
        "id": "dyAd_mOQ-TH6"
      },
      "source": [
        "### ***2.4 Convolutional Neural Networks (CNN)***"
      ]
    },
    {
      "cell_type": "markdown",
      "metadata": {
        "id": "5LzbSlNz6rhW"
      },
      "source": [
        "#### Text is one-dimensional."
      ]
    },
    {
      "cell_type": "code",
      "metadata": {
        "id": "sNvG5VoLAMJe"
      },
      "source": [
        "def create_model(num_filters, kernel_size, vocab_size, embedding_dim, maxlen):\n",
        "    model = Sequential()\n",
        "    model.add(layers.Embedding(vocab_size, embedding_dim, input_length=maxlen))\n",
        "    model.add(layers.Conv1D(num_filters, kernel_size, activation='relu'))\n",
        "    model.add(layers.GlobalMaxPooling1D())\n",
        "    model.add(layers.Dense(10, activation='relu'))\n",
        "    model.add(layers.Dense(1, activation='sigmoid'))\n",
        "    model.compile(optimizer='adam',\n",
        "                  loss='binary_crossentropy',\n",
        "                  metrics=['accuracy'])\n",
        "    return model"
      ],
      "execution_count": null,
      "outputs": []
    },
    {
      "cell_type": "code",
      "metadata": {
        "colab": {
          "base_uri": "https://localhost:8080/"
        },
        "id": "GDq3kMFyAQ2F",
        "outputId": "ab00882a-6556-4c28-a616-9b95c6481bc4"
      },
      "source": [
        "# Define the parameter grid that you want to use in training\n",
        "param_grid_cnn = dict(num_filters=[32, 64, 128],\n",
        "                  kernel_size=[3, 5, 7],\n",
        "                  vocab_size=[5000,10000], \n",
        "                  embedding_dim=[50, 100, 500],\n",
        "                  maxlen=[100])\n",
        "\n",
        "# Main settings\n",
        "epochs = 20\n",
        "\n",
        "model_cnn = KerasClassifier(build_fn=create_model, epochs=epochs, batch_size=50, verbose=False)\n",
        "grid_cnn = RandomizedSearchCV(estimator=model_cnn, param_distributions=param_grid_cnn, cv=4, verbose=1, n_iter=5)\n",
        "grid_cnn_result = grid_cnn.fit(x_train, y_train)"
      ],
      "execution_count": null,
      "outputs": [
        {
          "output_type": "stream",
          "text": [
            "Fitting 4 folds for each of 5 candidates, totalling 20 fits\n"
          ],
          "name": "stdout"
        },
        {
          "output_type": "stream",
          "text": [
            "[Parallel(n_jobs=1)]: Using backend SequentialBackend with 1 concurrent workers.\n",
            "[Parallel(n_jobs=1)]: Done  20 out of  20 | elapsed: 128.9min finished\n"
          ],
          "name": "stderr"
        }
      ]
    },
    {
      "cell_type": "code",
      "metadata": {
        "colab": {
          "base_uri": "https://localhost:8080/"
        },
        "id": "W15BQAAyAVe4",
        "outputId": "10a78f89-0315-4287-a53e-e0ee9d3da3b7"
      },
      "source": [
        "grid_cnn_result\n",
        "grid_cnn_result.best_score_\n",
        "grid_cnn_result.best_params_"
      ],
      "execution_count": null,
      "outputs": [
        {
          "output_type": "execute_result",
          "data": {
            "text/plain": [
              "RandomizedSearchCV(cv=4, error_score=nan,\n",
              "                   estimator=<tensorflow.python.keras.wrappers.scikit_learn.KerasClassifier object at 0x7f099f7c2410>,\n",
              "                   iid='deprecated', n_iter=5, n_jobs=None,\n",
              "                   param_distributions={'embedding_dim': [50, 100, 500],\n",
              "                                        'kernel_size': [3, 5, 7],\n",
              "                                        'maxlen': [100],\n",
              "                                        'num_filters': [32, 64, 128],\n",
              "                                        'vocab_size': [5000, 10000]},\n",
              "                   pre_dispatch='2*n_jobs', random_state=None, refit=True,\n",
              "                   return_train_score=False, scoring=None, verbose=1)"
            ]
          },
          "metadata": {
            "tags": []
          },
          "execution_count": 89
        },
        {
          "output_type": "execute_result",
          "data": {
            "text/plain": [
              "0.9885999113321304"
            ]
          },
          "metadata": {
            "tags": []
          },
          "execution_count": 89
        },
        {
          "output_type": "execute_result",
          "data": {
            "text/plain": [
              "{'embedding_dim': 50,\n",
              " 'kernel_size': 3,\n",
              " 'maxlen': 100,\n",
              " 'num_filters': 32,\n",
              " 'vocab_size': 10000}"
            ]
          },
          "metadata": {
            "tags": []
          },
          "execution_count": 89
        }
      ]
    },
    {
      "cell_type": "code",
      "metadata": {
        "id": "tc5dwg0KZO9U"
      },
      "source": [
        "# # Then finalising the model by applying these parameters\n",
        "# model_cnn = Sequential()\n",
        "# # model.add(layers.Embedding(vocab_size, embedding_dim, input_length=maxlen))\n",
        "# model_cnn.add(layers.Embedding(5000, 500, input_length = 100))\n",
        "# # model.add(layers.Embedding(num_filters, kernal_size, activation))\n",
        "# model_cnn.add(layers.Conv1D(32, 7, activation='relu'))\n",
        "# model_cnn.add(layers.GlobalMaxPooling1D())\n",
        "# model_cnn.add(layers.Dense(10, activation='relu'))\n",
        "# model_cnn.add(layers.Dense(1, activation='sigmoid'))\n",
        "# model_cnn.compile(optimizer='adam',\n",
        "#                   loss='binary_crossentropy',\n",
        "#                   metrics=['accuracy'])"
      ],
      "execution_count": null,
      "outputs": []
    },
    {
      "cell_type": "code",
      "metadata": {
        "colab": {
          "base_uri": "https://localhost:8080/"
        },
        "id": "ytouFtR8aA9L",
        "outputId": "fdcdf700-e465-4b19-f24a-9a5d22ec8e2e"
      },
      "source": [
        "history_cnn = grid_cnn.fit(x_train, y_train,\n",
        "                    epochs=50,\n",
        "                    verbose=False,\n",
        "                    validation_split=0.2,\n",
        "                    batch_size=50)"
      ],
      "execution_count": null,
      "outputs": [
        {
          "output_type": "stream",
          "text": [
            "Fitting 4 folds for each of 5 candidates, totalling 20 fits\n"
          ],
          "name": "stdout"
        },
        {
          "output_type": "stream",
          "text": [
            "[Parallel(n_jobs=1)]: Using backend SequentialBackend with 1 concurrent workers.\n",
            "[Parallel(n_jobs=1)]: Done  20 out of  20 | elapsed: 117.9min finished\n"
          ],
          "name": "stderr"
        }
      ]
    },
    {
      "cell_type": "code",
      "metadata": {
        "colab": {
          "base_uri": "https://localhost:8080/",
          "height": 383
        },
        "id": "-FBHP2O4AVjM",
        "outputId": "333c9a61-df7c-4623-b314-ce99b780f051"
      },
      "source": [
        "y_test_pred = grid_cnn.predict(x_test).ravel()\n",
        "y_test_pred\n",
        "\n",
        "# # Show a precision and recall metrics\n",
        "# print(\"Recall Score\",\"{:.2%}\".format(recall_score(y_test, y_test_pred)))\n",
        "# print(\"Precision Score:\",\"{:.2%}\".format((precision_score(y_test, y_test_pred))))\n",
        "\n",
        "# Check the ROC curve\n",
        "# Calculate the roc metrics\n",
        "fpr, tpr, thresholds = roc_curve(y_test, y_test_pred)\n",
        "\n",
        "# Plot the ROC curve\n",
        "plt.plot(fpr, tpr)\n",
        "\n",
        "# Add labels and diagonal line\n",
        "plt.xlabel(\"False Positive Rate\")\n",
        "plt.ylabel(\"True Positive Rate\")\n",
        "plt.title(\"ROC_AUC_Curve\")\n",
        "plt.plot([0, 1], [0, 1], \"k--\")\n",
        "plt.text(0.7,0.3,\"AUC≈0.839\", color=\"blue\", backgroundcolor=\"yellow\")\n",
        "save_fig(\"cnn\")\n",
        "plt.show()\n",
        "\n",
        "# Print the AUC\n",
        "print(\"ROC_AUC_Score:\",\"{:.2%}\".format(roc_auc_score(y_test, y_test_pred)))"
      ],
      "execution_count": null,
      "outputs": [
        {
          "output_type": "execute_result",
          "data": {
            "text/plain": [
              "array([0, 0, 0, ..., 0, 0, 0])"
            ]
          },
          "metadata": {
            "tags": []
          },
          "execution_count": 132
        },
        {
          "output_type": "execute_result",
          "data": {
            "text/plain": [
              "[<matplotlib.lines.Line2D at 0x7f099e3b6650>]"
            ]
          },
          "metadata": {
            "tags": []
          },
          "execution_count": 132
        },
        {
          "output_type": "execute_result",
          "data": {
            "text/plain": [
              "Text(0.5, 0, 'False Positive Rate')"
            ]
          },
          "metadata": {
            "tags": []
          },
          "execution_count": 132
        },
        {
          "output_type": "execute_result",
          "data": {
            "text/plain": [
              "Text(0, 0.5, 'True Positive Rate')"
            ]
          },
          "metadata": {
            "tags": []
          },
          "execution_count": 132
        },
        {
          "output_type": "execute_result",
          "data": {
            "text/plain": [
              "Text(0.5, 1.0, 'ROC_AUC_Curve')"
            ]
          },
          "metadata": {
            "tags": []
          },
          "execution_count": 132
        },
        {
          "output_type": "execute_result",
          "data": {
            "text/plain": [
              "[<matplotlib.lines.Line2D at 0x7f099e3bed90>]"
            ]
          },
          "metadata": {
            "tags": []
          },
          "execution_count": 132
        },
        {
          "output_type": "execute_result",
          "data": {
            "text/plain": [
              "Text(0.7, 0.3, 'AUC≈0.839')"
            ]
          },
          "metadata": {
            "tags": []
          },
          "execution_count": 132
        },
        {
          "output_type": "stream",
          "text": [
            "Saving figure cnn\n"
          ],
          "name": "stdout"
        },
        {
          "output_type": "display_data",
          "data": {
            "image/png": "[encoded data removed]",
            "text/plain": [
              "<Figure size 432x288 with 1 Axes>"
            ]
          },
          "metadata": {
            "tags": []
          }
        },
        {
          "output_type": "stream",
          "text": [
            "ROC_AUC_Score: 83.87%\n"
          ],
          "name": "stdout"
        }
      ]
    },
    {
      "cell_type": "code",
      "metadata": {
        "colab": {
          "base_uri": "https://localhost:8080/"
        },
        "id": "bv-FlriCyp5A",
        "outputId": "1b891868-04f3-4c8c-f12e-122f3694ac75"
      },
      "source": [
        "# accuracy: (tp + tn) / (p + n)\n",
        "print('Accuracy for test set:', \"{:.2%}\".format(accuracy_score(y_test, y_test_pred)))\n",
        "print('Accuracy for train set:', \"{:.2%}\".format(accuracy_score(y_train, grid_cnn.predict(x_train))))\n",
        "# precision tp / (tp + fp)\n",
        "print(\"Precision:\", \"{:.2%}\".format(precision_score(y_test, y_test_pred)))\n",
        "\n",
        "\n",
        "# recall: tp / (tp + fn)\n",
        "print(\"Recall:\", \"{:.2%}\".format(recall_score(y_test, y_test_pred)))\n",
        "\n",
        "# f1: 2 tp / (2 tp + fp + fn)\n",
        "print(\"F1-score:\", \"{:.2%}\".format(f1_score(y_test, y_test_pred)))"
      ],
      "execution_count": null,
      "outputs": [
        {
          "output_type": "stream",
          "text": [
            "Accuracy for test set: 98.44%\n",
            "Accuracy for train set: 99.83%\n",
            "Precision: 69.81%\n",
            "Recall: 68.52%\n",
            "F1-score: 69.16%\n"
          ],
          "name": "stdout"
        }
      ]
    },
    {
      "cell_type": "code",
      "metadata": {
        "id": "4l7U4FKnZ5CI"
      },
      "source": [
        "# make sure to call clear_session() before you start training the model again.\n",
        "from tensorflow.keras.backend import clear_session\n",
        "clear_session()"
      ],
      "execution_count": null,
      "outputs": []
    },
    {
      "cell_type": "markdown",
      "metadata": {
        "id": "AwYR63jpv8XF"
      },
      "source": [
        "### ***2.5 Recurrent Neural Networks***"
      ]
    },
    {
      "cell_type": "markdown",
      "metadata": {
        "id": "stOcyQYy9eMV"
      },
      "source": [
        "The main advantage to use RNN for text data is that it reduces the number of parameters of the model and it **shares weights between different positions** of the text.\n",
        "\n",
        "See next notebook for RNN training.\n"
      ]
    }
  ]
}